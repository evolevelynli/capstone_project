{
 "cells": [
  {
   "cell_type": "code",
   "execution_count": 1,
   "metadata": {},
   "outputs": [],
   "source": [
    "import pandas as pd\n",
    "import requests\n",
    "from bs4 import BeautifulSoup"
   ]
  },
  {
   "cell_type": "markdown",
   "metadata": {},
   "source": [
    "### Webscraping for all urls \n",
    "---"
   ]
  },
  {
   "cell_type": "code",
   "execution_count": 2,
   "metadata": {},
   "outputs": [],
   "source": [
    "url = 'http://insideairbnb.com/get-the-data.html'\n",
    "res = requests.get(url)"
   ]
  },
  {
   "cell_type": "code",
   "execution_count": 3,
   "metadata": {
    "scrolled": true
   },
   "outputs": [
    {
     "data": {
      "text/plain": [
       "200"
      ]
     },
     "execution_count": 3,
     "metadata": {},
     "output_type": "execute_result"
    }
   ],
   "source": [
    "res.status_code"
   ]
  },
  {
   "cell_type": "code",
   "execution_count": 4,
   "metadata": {},
   "outputs": [],
   "source": [
    "soup = BeautifulSoup(res.content, 'lxml')"
   ]
  },
  {
   "cell_type": "code",
   "execution_count": 5,
   "metadata": {
    "scrolled": true
   },
   "outputs": [
    {
     "data": {
      "text/plain": [
       "[<a href=\"http://data.insideairbnb.com/united-states/ca/san-francisco/2019-03-06/data/listings.csv.gz\" onclick=\"var that=this;ga('send','event', 'download','listings',this.href);setTimeout(function(){location.href=that.href;},200);return false;\">listings.csv.gz</a>,\n",
       " <a href=\"http://data.insideairbnb.com/united-states/ca/san-francisco/2019-03-06/data/calendar.csv.gz\" onclick=\"var that=this;ga('send','event', 'download','calendar',this.href);setTimeout(function(){location.href=that.href;},200);return false;\">calendar.csv.gz</a>,\n",
       " <a href=\"http://data.insideairbnb.com/united-states/ca/san-francisco/2019-03-06/data/reviews.csv.gz\" onclick=\"var that=this;ga('send','event', 'download','reviews',this.href);setTimeout(function(){location.href=that.href;},200);return false;\">reviews.csv.gz</a>,\n",
       " <a href=\"http://data.insideairbnb.com/united-states/ca/san-francisco/2019-03-06/visualisations/listings.csv\" onclick=\"var that=this;ga('send','event', 'download','listings_visualisation',this.href);setTimeout(function(){location.href=that.href;},200);return false;\">listings.csv</a>,\n",
       " <a href=\"http://data.insideairbnb.com/united-states/ca/san-francisco/2019-03-06/visualisations/reviews.csv\" onclick=\"var that=this;ga('send','event', 'download','reviews_visualisation',this.href);setTimeout(function(){location.href=that.href;},200);return false;\"> reviews.csv</a>,\n",
       " <a href=\"http://data.insideairbnb.com/united-states/ca/san-francisco/2019-03-06/visualisations/neighbourhoods.csv\" onclick=\"var that=this;ga('send','event', 'download','neighbourhoods',this.href);setTimeout(function(){location.href=that.href;},200);return false;\">neighbourhoods.csv</a>,\n",
       " <a href=\"http://data.insideairbnb.com/united-states/ca/san-francisco/2019-03-06/visualisations/neighbourhoods.geojson\" onclick=\"var that=this;ga('send','event', 'download','geojson',this.href);setTimeout(function(){location.href=that.href;},200);return false;\">neighbourhoods.geojson</a>,\n",
       " <a href=\"http://data.insideairbnb.com/united-states/ca/san-francisco/2019-02-01/data/listings.csv.gz\" onclick=\"var that=this;ga('send','event', 'download','listings',this.href);setTimeout(function(){location.href=that.href;},200);return false;\">listings.csv.gz</a>,\n",
       " <a href=\"http://data.insideairbnb.com/united-states/ca/san-francisco/2019-02-01/data/calendar.csv.gz\" onclick=\"var that=this;ga('send','event', 'download','calendar',this.href);setTimeout(function(){location.href=that.href;},200);return false;\">calendar.csv.gz</a>,\n",
       " <a href=\"http://data.insideairbnb.com/united-states/ca/san-francisco/2019-02-01/data/reviews.csv.gz\" onclick=\"var that=this;ga('send','event', 'download','reviews',this.href);setTimeout(function(){location.href=that.href;},200);return false;\">reviews.csv.gz</a>,\n",
       " <a href=\"http://data.insideairbnb.com/united-states/ca/san-francisco/2019-02-01/visualisations/listings.csv\" onclick=\"var that=this;ga('send','event', 'download','listings_visualisation',this.href);setTimeout(function(){location.href=that.href;},200);return false;\">listings.csv</a>,\n",
       " <a href=\"http://data.insideairbnb.com/united-states/ca/san-francisco/2019-02-01/visualisations/reviews.csv\" onclick=\"var that=this;ga('send','event', 'download','reviews_visualisation',this.href);setTimeout(function(){location.href=that.href;},200);return false;\"> reviews.csv</a>,\n",
       " <a href=\"http://data.insideairbnb.com/united-states/ca/san-francisco/2019-02-01/visualisations/neighbourhoods.csv\" onclick=\"var that=this;ga('send','event', 'download','neighbourhoods',this.href);setTimeout(function(){location.href=that.href;},200);return false;\">neighbourhoods.csv</a>,\n",
       " <a href=\"http://data.insideairbnb.com/united-states/ca/san-francisco/2019-02-01/visualisations/neighbourhoods.geojson\" onclick=\"var that=this;ga('send','event', 'download','geojson',this.href);setTimeout(function(){location.href=that.href;},200);return false;\">neighbourhoods.geojson</a>,\n",
       " <a href=\"http://data.insideairbnb.com/united-states/ca/san-francisco/2019-01-09/data/listings.csv.gz\" onclick=\"var that=this;ga('send','event', 'download','listings',this.href);setTimeout(function(){location.href=that.href;},200);return false;\">listings.csv.gz</a>,\n",
       " <a href=\"http://data.insideairbnb.com/united-states/ca/san-francisco/2019-01-09/data/calendar.csv.gz\" onclick=\"var that=this;ga('send','event', 'download','calendar',this.href);setTimeout(function(){location.href=that.href;},200);return false;\">calendar.csv.gz</a>,\n",
       " <a href=\"http://data.insideairbnb.com/united-states/ca/san-francisco/2019-01-09/data/reviews.csv.gz\" onclick=\"var that=this;ga('send','event', 'download','reviews',this.href);setTimeout(function(){location.href=that.href;},200);return false;\">reviews.csv.gz</a>,\n",
       " <a href=\"http://data.insideairbnb.com/united-states/ca/san-francisco/2019-01-09/visualisations/listings.csv\" onclick=\"var that=this;ga('send','event', 'download','listings_visualisation',this.href);setTimeout(function(){location.href=that.href;},200);return false;\">listings.csv</a>,\n",
       " <a href=\"http://data.insideairbnb.com/united-states/ca/san-francisco/2019-01-09/visualisations/reviews.csv\" onclick=\"var that=this;ga('send','event', 'download','reviews_visualisation',this.href);setTimeout(function(){location.href=that.href;},200);return false;\"> reviews.csv</a>,\n",
       " <a href=\"http://data.insideairbnb.com/united-states/ca/san-francisco/2019-01-09/visualisations/neighbourhoods.csv\" onclick=\"var that=this;ga('send','event', 'download','neighbourhoods',this.href);setTimeout(function(){location.href=that.href;},200);return false;\">neighbourhoods.csv</a>,\n",
       " <a href=\"http://data.insideairbnb.com/united-states/ca/san-francisco/2019-01-09/visualisations/neighbourhoods.geojson\" onclick=\"var that=this;ga('send','event', 'download','geojson',this.href);setTimeout(function(){location.href=that.href;},200);return false;\">neighbourhoods.geojson</a>,\n",
       " <a href=\"http://data.insideairbnb.com/united-states/ca/san-francisco/2018-12-06/data/listings.csv.gz\" onclick=\"var that=this;ga('send','event', 'download','listings',this.href);setTimeout(function(){location.href=that.href;},200);return false;\">listings.csv.gz</a>,\n",
       " <a href=\"http://data.insideairbnb.com/united-states/ca/san-francisco/2018-12-06/data/calendar.csv.gz\" onclick=\"var that=this;ga('send','event', 'download','calendar',this.href);setTimeout(function(){location.href=that.href;},200);return false;\">calendar.csv.gz</a>,\n",
       " <a href=\"http://data.insideairbnb.com/united-states/ca/san-francisco/2018-12-06/data/reviews.csv.gz\" onclick=\"var that=this;ga('send','event', 'download','reviews',this.href);setTimeout(function(){location.href=that.href;},200);return false;\">reviews.csv.gz</a>,\n",
       " <a href=\"http://data.insideairbnb.com/united-states/ca/san-francisco/2018-12-06/visualisations/listings.csv\" onclick=\"var that=this;ga('send','event', 'download','listings_visualisation',this.href);setTimeout(function(){location.href=that.href;},200);return false;\">listings.csv</a>,\n",
       " <a href=\"http://data.insideairbnb.com/united-states/ca/san-francisco/2018-12-06/visualisations/reviews.csv\" onclick=\"var that=this;ga('send','event', 'download','reviews_visualisation',this.href);setTimeout(function(){location.href=that.href;},200);return false;\"> reviews.csv</a>,\n",
       " <a href=\"http://data.insideairbnb.com/united-states/ca/san-francisco/2018-12-06/visualisations/neighbourhoods.csv\" onclick=\"var that=this;ga('send','event', 'download','neighbourhoods',this.href);setTimeout(function(){location.href=that.href;},200);return false;\">neighbourhoods.csv</a>,\n",
       " <a href=\"http://data.insideairbnb.com/united-states/ca/san-francisco/2018-12-06/visualisations/neighbourhoods.geojson\" onclick=\"var that=this;ga('send','event', 'download','geojson',this.href);setTimeout(function(){location.href=that.href;},200);return false;\">neighbourhoods.geojson</a>,\n",
       " <a href=\"http://data.insideairbnb.com/united-states/ca/san-francisco/2018-11-03/data/listings.csv.gz\" onclick=\"var that=this;ga('send','event', 'download','listings',this.href);setTimeout(function(){location.href=that.href;},200);return false;\">listings.csv.gz</a>,\n",
       " <a href=\"http://data.insideairbnb.com/united-states/ca/san-francisco/2018-11-03/data/calendar.csv.gz\" onclick=\"var that=this;ga('send','event', 'download','calendar',this.href);setTimeout(function(){location.href=that.href;},200);return false;\">calendar.csv.gz</a>,\n",
       " <a href=\"http://data.insideairbnb.com/united-states/ca/san-francisco/2018-11-03/data/reviews.csv.gz\" onclick=\"var that=this;ga('send','event', 'download','reviews',this.href);setTimeout(function(){location.href=that.href;},200);return false;\">reviews.csv.gz</a>,\n",
       " <a href=\"http://data.insideairbnb.com/united-states/ca/san-francisco/2018-11-03/visualisations/listings.csv\" onclick=\"var that=this;ga('send','event', 'download','listings_visualisation',this.href);setTimeout(function(){location.href=that.href;},200);return false;\">listings.csv</a>,\n",
       " <a href=\"http://data.insideairbnb.com/united-states/ca/san-francisco/2018-11-03/visualisations/reviews.csv\" onclick=\"var that=this;ga('send','event', 'download','reviews_visualisation',this.href);setTimeout(function(){location.href=that.href;},200);return false;\"> reviews.csv</a>,\n",
       " <a href=\"http://data.insideairbnb.com/united-states/ca/san-francisco/2018-11-03/visualisations/neighbourhoods.csv\" onclick=\"var that=this;ga('send','event', 'download','neighbourhoods',this.href);setTimeout(function(){location.href=that.href;},200);return false;\">neighbourhoods.csv</a>,\n",
       " <a href=\"http://data.insideairbnb.com/united-states/ca/san-francisco/2018-11-03/visualisations/neighbourhoods.geojson\" onclick=\"var that=this;ga('send','event', 'download','geojson',this.href);setTimeout(function(){location.href=that.href;},200);return false;\">neighbourhoods.geojson</a>,\n",
       " <a href=\"http://data.insideairbnb.com/united-states/ca/san-francisco/2018-10-03/data/listings.csv.gz\" onclick=\"var that=this;ga('send','event', 'download','listings',this.href);setTimeout(function(){location.href=that.href;},200);return false;\">listings.csv.gz</a>,\n",
       " <a href=\"http://data.insideairbnb.com/united-states/ca/san-francisco/2018-10-03/data/calendar.csv.gz\" onclick=\"var that=this;ga('send','event', 'download','calendar',this.href);setTimeout(function(){location.href=that.href;},200);return false;\">calendar.csv.gz</a>,\n",
       " <a href=\"http://data.insideairbnb.com/united-states/ca/san-francisco/2018-10-03/data/reviews.csv.gz\" onclick=\"var that=this;ga('send','event', 'download','reviews',this.href);setTimeout(function(){location.href=that.href;},200);return false;\">reviews.csv.gz</a>,\n",
       " <a href=\"http://data.insideairbnb.com/united-states/ca/san-francisco/2018-10-03/visualisations/listings.csv\" onclick=\"var that=this;ga('send','event', 'download','listings_visualisation',this.href);setTimeout(function(){location.href=that.href;},200);return false;\">listings.csv</a>,\n",
       " <a href=\"http://data.insideairbnb.com/united-states/ca/san-francisco/2018-10-03/visualisations/reviews.csv\" onclick=\"var that=this;ga('send','event', 'download','reviews_visualisation',this.href);setTimeout(function(){location.href=that.href;},200);return false;\"> reviews.csv</a>,\n",
       " <a href=\"http://data.insideairbnb.com/united-states/ca/san-francisco/2018-10-03/visualisations/neighbourhoods.csv\" onclick=\"var that=this;ga('send','event', 'download','neighbourhoods',this.href);setTimeout(function(){location.href=that.href;},200);return false;\">neighbourhoods.csv</a>,\n",
       " <a href=\"http://data.insideairbnb.com/united-states/ca/san-francisco/2018-10-03/visualisations/neighbourhoods.geojson\" onclick=\"var that=this;ga('send','event', 'download','geojson',this.href);setTimeout(function(){location.href=that.href;},200);return false;\">neighbourhoods.geojson</a>,\n",
       " <a href=\"http://data.insideairbnb.com/united-states/ca/san-francisco/2018-09-08/data/listings.csv.gz\" onclick=\"var that=this;ga('send','event', 'download','listings',this.href);setTimeout(function(){location.href=that.href;},200);return false;\">listings.csv.gz</a>,\n",
       " <a href=\"http://data.insideairbnb.com/united-states/ca/san-francisco/2018-09-08/data/calendar.csv.gz\" onclick=\"var that=this;ga('send','event', 'download','calendar',this.href);setTimeout(function(){location.href=that.href;},200);return false;\">calendar.csv.gz</a>,\n",
       " <a href=\"http://data.insideairbnb.com/united-states/ca/san-francisco/2018-09-08/data/reviews.csv.gz\" onclick=\"var that=this;ga('send','event', 'download','reviews',this.href);setTimeout(function(){location.href=that.href;},200);return false;\">reviews.csv.gz</a>,\n",
       " <a href=\"http://data.insideairbnb.com/united-states/ca/san-francisco/2018-09-08/visualisations/listings.csv\" onclick=\"var that=this;ga('send','event', 'download','listings_visualisation',this.href);setTimeout(function(){location.href=that.href;},200);return false;\">listings.csv</a>,\n",
       " <a href=\"http://data.insideairbnb.com/united-states/ca/san-francisco/2018-09-08/visualisations/reviews.csv\" onclick=\"var that=this;ga('send','event', 'download','reviews_visualisation',this.href);setTimeout(function(){location.href=that.href;},200);return false;\"> reviews.csv</a>,\n",
       " <a href=\"http://data.insideairbnb.com/united-states/ca/san-francisco/2018-09-08/visualisations/neighbourhoods.csv\" onclick=\"var that=this;ga('send','event', 'download','neighbourhoods',this.href);setTimeout(function(){location.href=that.href;},200);return false;\">neighbourhoods.csv</a>,\n",
       " <a href=\"http://data.insideairbnb.com/united-states/ca/san-francisco/2018-09-08/visualisations/neighbourhoods.geojson\" onclick=\"var that=this;ga('send','event', 'download','geojson',this.href);setTimeout(function(){location.href=that.href;},200);return false;\">neighbourhoods.geojson</a>,\n",
       " <a href=\"http://data.insideairbnb.com/united-states/ca/san-francisco/2018-08-06/data/listings.csv.gz\" onclick=\"var that=this;ga('send','event', 'download','listings',this.href);setTimeout(function(){location.href=that.href;},200);return false;\">listings.csv.gz</a>,\n",
       " <a href=\"http://data.insideairbnb.com/united-states/ca/san-francisco/2018-08-06/data/calendar.csv.gz\" onclick=\"var that=this;ga('send','event', 'download','calendar',this.href);setTimeout(function(){location.href=that.href;},200);return false;\">calendar.csv.gz</a>,\n",
       " <a href=\"http://data.insideairbnb.com/united-states/ca/san-francisco/2018-08-06/data/reviews.csv.gz\" onclick=\"var that=this;ga('send','event', 'download','reviews',this.href);setTimeout(function(){location.href=that.href;},200);return false;\">reviews.csv.gz</a>,\n",
       " <a href=\"http://data.insideairbnb.com/united-states/ca/san-francisco/2018-08-06/visualisations/listings.csv\" onclick=\"var that=this;ga('send','event', 'download','listings_visualisation',this.href);setTimeout(function(){location.href=that.href;},200);return false;\">listings.csv</a>,\n",
       " <a href=\"http://data.insideairbnb.com/united-states/ca/san-francisco/2018-08-06/visualisations/reviews.csv\" onclick=\"var that=this;ga('send','event', 'download','reviews_visualisation',this.href);setTimeout(function(){location.href=that.href;},200);return false;\"> reviews.csv</a>,\n",
       " <a href=\"http://data.insideairbnb.com/united-states/ca/san-francisco/2018-08-06/visualisations/neighbourhoods.csv\" onclick=\"var that=this;ga('send','event', 'download','neighbourhoods',this.href);setTimeout(function(){location.href=that.href;},200);return false;\">neighbourhoods.csv</a>,\n",
       " <a href=\"http://data.insideairbnb.com/united-states/ca/san-francisco/2018-08-06/visualisations/neighbourhoods.geojson\" onclick=\"var that=this;ga('send','event', 'download','geojson',this.href);setTimeout(function(){location.href=that.href;},200);return false;\">neighbourhoods.geojson</a>,\n",
       " <a href=\"http://data.insideairbnb.com/united-states/ca/san-francisco/2018-07-05/data/listings.csv.gz\" onclick=\"var that=this;ga('send','event', 'download','listings',this.href);setTimeout(function(){location.href=that.href;},200);return false;\">listings.csv.gz</a>,\n",
       " <a href=\"http://data.insideairbnb.com/united-states/ca/san-francisco/2018-07-05/data/calendar.csv.gz\" onclick=\"var that=this;ga('send','event', 'download','calendar',this.href);setTimeout(function(){location.href=that.href;},200);return false;\">calendar.csv.gz</a>,\n",
       " <a href=\"http://data.insideairbnb.com/united-states/ca/san-francisco/2018-07-05/data/reviews.csv.gz\" onclick=\"var that=this;ga('send','event', 'download','reviews',this.href);setTimeout(function(){location.href=that.href;},200);return false;\">reviews.csv.gz</a>,\n",
       " <a href=\"http://data.insideairbnb.com/united-states/ca/san-francisco/2018-07-05/visualisations/listings.csv\" onclick=\"var that=this;ga('send','event', 'download','listings_visualisation',this.href);setTimeout(function(){location.href=that.href;},200);return false;\">listings.csv</a>,\n",
       " <a href=\"http://data.insideairbnb.com/united-states/ca/san-francisco/2018-07-05/visualisations/reviews.csv\" onclick=\"var that=this;ga('send','event', 'download','reviews_visualisation',this.href);setTimeout(function(){location.href=that.href;},200);return false;\"> reviews.csv</a>,\n",
       " <a href=\"http://data.insideairbnb.com/united-states/ca/san-francisco/2018-07-05/visualisations/neighbourhoods.csv\" onclick=\"var that=this;ga('send','event', 'download','neighbourhoods',this.href);setTimeout(function(){location.href=that.href;},200);return false;\">neighbourhoods.csv</a>,\n",
       " <a href=\"http://data.insideairbnb.com/united-states/ca/san-francisco/2018-07-05/visualisations/neighbourhoods.geojson\" onclick=\"var that=this;ga('send','event', 'download','geojson',this.href);setTimeout(function(){location.href=that.href;},200);return false;\">neighbourhoods.geojson</a>,\n",
       " <a href=\"http://data.insideairbnb.com/united-states/ca/san-francisco/2018-05-09/data/listings.csv.gz\" onclick=\"var that=this;ga('send','event', 'download','listings',this.href);setTimeout(function(){location.href=that.href;},200);return false;\">listings.csv.gz</a>,\n",
       " <a href=\"http://data.insideairbnb.com/united-states/ca/san-francisco/2018-05-09/data/calendar.csv.gz\" onclick=\"var that=this;ga('send','event', 'download','calendar',this.href);setTimeout(function(){location.href=that.href;},200);return false;\">calendar.csv.gz</a>,\n",
       " <a href=\"http://data.insideairbnb.com/united-states/ca/san-francisco/2018-05-09/data/reviews.csv.gz\" onclick=\"var that=this;ga('send','event', 'download','reviews',this.href);setTimeout(function(){location.href=that.href;},200);return false;\">reviews.csv.gz</a>,\n",
       " <a href=\"http://data.insideairbnb.com/united-states/ca/san-francisco/2018-05-09/visualisations/listings.csv\" onclick=\"var that=this;ga('send','event', 'download','listings_visualisation',this.href);setTimeout(function(){location.href=that.href;},200);return false;\">listings.csv</a>,\n",
       " <a href=\"http://data.insideairbnb.com/united-states/ca/san-francisco/2018-05-09/visualisations/reviews.csv\" onclick=\"var that=this;ga('send','event', 'download','reviews_visualisation',this.href);setTimeout(function(){location.href=that.href;},200);return false;\"> reviews.csv</a>,\n",
       " <a href=\"http://data.insideairbnb.com/united-states/ca/san-francisco/2018-05-09/visualisations/neighbourhoods.csv\" onclick=\"var that=this;ga('send','event', 'download','neighbourhoods',this.href);setTimeout(function(){location.href=that.href;},200);return false;\">neighbourhoods.csv</a>,\n",
       " <a href=\"http://data.insideairbnb.com/united-states/ca/san-francisco/2018-05-09/visualisations/neighbourhoods.geojson\" onclick=\"var that=this;ga('send','event', 'download','geojson',this.href);setTimeout(function(){location.href=that.href;},200);return false;\">neighbourhoods.geojson</a>,\n",
       " <a href=\"http://data.insideairbnb.com/united-states/ca/san-francisco/2018-04-06/data/listings.csv.gz\" onclick=\"var that=this;ga('send','event', 'download','listings',this.href);setTimeout(function(){location.href=that.href;},200);return false;\">listings.csv.gz</a>,\n",
       " <a href=\"http://data.insideairbnb.com/united-states/ca/san-francisco/2018-04-06/data/calendar.csv.gz\" onclick=\"var that=this;ga('send','event', 'download','calendar',this.href);setTimeout(function(){location.href=that.href;},200);return false;\">calendar.csv.gz</a>,\n",
       " <a href=\"http://data.insideairbnb.com/united-states/ca/san-francisco/2018-04-06/data/reviews.csv.gz\" onclick=\"var that=this;ga('send','event', 'download','reviews',this.href);setTimeout(function(){location.href=that.href;},200);return false;\">reviews.csv.gz</a>,\n",
       " <a href=\"http://data.insideairbnb.com/united-states/ca/san-francisco/2018-04-06/visualisations/listings.csv\" onclick=\"var that=this;ga('send','event', 'download','listings_visualisation',this.href);setTimeout(function(){location.href=that.href;},200);return false;\">listings.csv</a>,\n",
       " <a href=\"http://data.insideairbnb.com/united-states/ca/san-francisco/2018-04-06/visualisations/reviews.csv\" onclick=\"var that=this;ga('send','event', 'download','reviews_visualisation',this.href);setTimeout(function(){location.href=that.href;},200);return false;\"> reviews.csv</a>,\n",
       " <a href=\"http://data.insideairbnb.com/united-states/ca/san-francisco/2018-04-06/visualisations/neighbourhoods.csv\" onclick=\"var that=this;ga('send','event', 'download','neighbourhoods',this.href);setTimeout(function(){location.href=that.href;},200);return false;\">neighbourhoods.csv</a>,\n",
       " <a href=\"http://data.insideairbnb.com/united-states/ca/san-francisco/2018-04-06/visualisations/neighbourhoods.geojson\" onclick=\"var that=this;ga('send','event', 'download','geojson',this.href);setTimeout(function(){location.href=that.href;},200);return false;\">neighbourhoods.geojson</a>,\n",
       " <a href=\"http://data.insideairbnb.com/united-states/ca/san-francisco/2018-03-04/data/listings.csv.gz\" onclick=\"var that=this;ga('send','event', 'download','listings',this.href);setTimeout(function(){location.href=that.href;},200);return false;\">listings.csv.gz</a>,\n",
       " <a href=\"http://data.insideairbnb.com/united-states/ca/san-francisco/2018-03-04/data/calendar.csv.gz\" onclick=\"var that=this;ga('send','event', 'download','calendar',this.href);setTimeout(function(){location.href=that.href;},200);return false;\">calendar.csv.gz</a>,\n",
       " <a href=\"http://data.insideairbnb.com/united-states/ca/san-francisco/2018-03-04/data/reviews.csv.gz\" onclick=\"var that=this;ga('send','event', 'download','reviews',this.href);setTimeout(function(){location.href=that.href;},200);return false;\">reviews.csv.gz</a>,\n",
       " <a href=\"http://data.insideairbnb.com/united-states/ca/san-francisco/2018-03-04/visualisations/listings.csv\" onclick=\"var that=this;ga('send','event', 'download','listings_visualisation',this.href);setTimeout(function(){location.href=that.href;},200);return false;\">listings.csv</a>,\n",
       " <a href=\"http://data.insideairbnb.com/united-states/ca/san-francisco/2018-03-04/visualisations/reviews.csv\" onclick=\"var that=this;ga('send','event', 'download','reviews_visualisation',this.href);setTimeout(function(){location.href=that.href;},200);return false;\"> reviews.csv</a>,\n",
       " <a href=\"http://data.insideairbnb.com/united-states/ca/san-francisco/2018-03-04/visualisations/neighbourhoods.csv\" onclick=\"var that=this;ga('send','event', 'download','neighbourhoods',this.href);setTimeout(function(){location.href=that.href;},200);return false;\">neighbourhoods.csv</a>,\n",
       " <a href=\"http://data.insideairbnb.com/united-states/ca/san-francisco/2018-03-04/visualisations/neighbourhoods.geojson\" onclick=\"var that=this;ga('send','event', 'download','geojson',this.href);setTimeout(function(){location.href=that.href;},200);return false;\">neighbourhoods.geojson</a>,\n",
       " <a href=\"http://data.insideairbnb.com/united-states/ca/san-francisco/2018-02-02/data/listings.csv.gz\" onclick=\"var that=this;ga('send','event', 'download','listings',this.href);setTimeout(function(){location.href=that.href;},200);return false;\">listings.csv.gz</a>,\n",
       " <a href=\"http://data.insideairbnb.com/united-states/ca/san-francisco/2018-02-02/data/calendar.csv.gz\" onclick=\"var that=this;ga('send','event', 'download','calendar',this.href);setTimeout(function(){location.href=that.href;},200);return false;\">calendar.csv.gz</a>,\n",
       " <a href=\"http://data.insideairbnb.com/united-states/ca/san-francisco/2018-02-02/data/reviews.csv.gz\" onclick=\"var that=this;ga('send','event', 'download','reviews',this.href);setTimeout(function(){location.href=that.href;},200);return false;\">reviews.csv.gz</a>,\n",
       " <a href=\"http://data.insideairbnb.com/united-states/ca/san-francisco/2018-02-02/visualisations/listings.csv\" onclick=\"var that=this;ga('send','event', 'download','listings_visualisation',this.href);setTimeout(function(){location.href=that.href;},200);return false;\">listings.csv</a>,\n",
       " <a href=\"http://data.insideairbnb.com/united-states/ca/san-francisco/2018-02-02/visualisations/reviews.csv\" onclick=\"var that=this;ga('send','event', 'download','reviews_visualisation',this.href);setTimeout(function(){location.href=that.href;},200);return false;\"> reviews.csv</a>,\n",
       " <a href=\"http://data.insideairbnb.com/united-states/ca/san-francisco/2018-02-02/visualisations/neighbourhoods.csv\" onclick=\"var that=this;ga('send','event', 'download','neighbourhoods',this.href);setTimeout(function(){location.href=that.href;},200);return false;\">neighbourhoods.csv</a>,\n",
       " <a href=\"http://data.insideairbnb.com/united-states/ca/san-francisco/2018-02-02/visualisations/neighbourhoods.geojson\" onclick=\"var that=this;ga('send','event', 'download','geojson',this.href);setTimeout(function(){location.href=that.href;},200);return false;\">neighbourhoods.geojson</a>,\n",
       " <a href=\"http://data.insideairbnb.com/united-states/ca/san-francisco/2018-01-17/data/listings.csv.gz\" onclick=\"var that=this;ga('send','event', 'download','listings',this.href);setTimeout(function(){location.href=that.href;},200);return false;\">listings.csv.gz</a>,\n",
       " <a href=\"http://data.insideairbnb.com/united-states/ca/san-francisco/2018-01-17/data/calendar.csv.gz\" onclick=\"var that=this;ga('send','event', 'download','calendar',this.href);setTimeout(function(){location.href=that.href;},200);return false;\">calendar.csv.gz</a>,\n",
       " <a href=\"http://data.insideairbnb.com/united-states/ca/san-francisco/2018-01-17/data/reviews.csv.gz\" onclick=\"var that=this;ga('send','event', 'download','reviews',this.href);setTimeout(function(){location.href=that.href;},200);return false;\">reviews.csv.gz</a>,\n",
       " <a href=\"http://data.insideairbnb.com/united-states/ca/san-francisco/2018-01-17/visualisations/listings.csv\" onclick=\"var that=this;ga('send','event', 'download','listings_visualisation',this.href);setTimeout(function(){location.href=that.href;},200);return false;\">listings.csv</a>,\n",
       " <a href=\"http://data.insideairbnb.com/united-states/ca/san-francisco/2018-01-17/visualisations/reviews.csv\" onclick=\"var that=this;ga('send','event', 'download','reviews_visualisation',this.href);setTimeout(function(){location.href=that.href;},200);return false;\"> reviews.csv</a>,\n",
       " <a href=\"http://data.insideairbnb.com/united-states/ca/san-francisco/2018-01-17/visualisations/neighbourhoods.csv\" onclick=\"var that=this;ga('send','event', 'download','neighbourhoods',this.href);setTimeout(function(){location.href=that.href;},200);return false;\">neighbourhoods.csv</a>,\n",
       " <a href=\"http://data.insideairbnb.com/united-states/ca/san-francisco/2018-01-17/visualisations/neighbourhoods.geojson\" onclick=\"var that=this;ga('send','event', 'download','geojson',this.href);setTimeout(function(){location.href=that.href;},200);return false;\">neighbourhoods.geojson</a>,\n",
       " <a href=\"http://data.insideairbnb.com/united-states/ca/san-francisco/2018-01-10/data/listings.csv.gz\" onclick=\"var that=this;ga('send','event', 'download','listings',this.href);setTimeout(function(){location.href=that.href;},200);return false;\">listings.csv.gz</a>,\n",
       " <a href=\"http://data.insideairbnb.com/united-states/ca/san-francisco/2018-01-10/data/calendar.csv.gz\" onclick=\"var that=this;ga('send','event', 'download','calendar',this.href);setTimeout(function(){location.href=that.href;},200);return false;\">calendar.csv.gz</a>,\n",
       " <a href=\"http://data.insideairbnb.com/united-states/ca/san-francisco/2018-01-10/data/reviews.csv.gz\" onclick=\"var that=this;ga('send','event', 'download','reviews',this.href);setTimeout(function(){location.href=that.href;},200);return false;\">reviews.csv.gz</a>,\n",
       " <a href=\"http://data.insideairbnb.com/united-states/ca/san-francisco/2018-01-10/visualisations/listings.csv\" onclick=\"var that=this;ga('send','event', 'download','listings_visualisation',this.href);setTimeout(function(){location.href=that.href;},200);return false;\">listings.csv</a>,\n",
       " <a href=\"http://data.insideairbnb.com/united-states/ca/san-francisco/2018-01-10/visualisations/reviews.csv\" onclick=\"var that=this;ga('send','event', 'download','reviews_visualisation',this.href);setTimeout(function(){location.href=that.href;},200);return false;\"> reviews.csv</a>,\n",
       " <a href=\"http://data.insideairbnb.com/united-states/ca/san-francisco/2018-01-10/visualisations/neighbourhoods.csv\" onclick=\"var that=this;ga('send','event', 'download','neighbourhoods',this.href);setTimeout(function(){location.href=that.href;},200);return false;\">neighbourhoods.csv</a>,\n",
       " <a href=\"http://data.insideairbnb.com/united-states/ca/san-francisco/2018-01-10/visualisations/neighbourhoods.geojson\" onclick=\"var that=this;ga('send','event', 'download','geojson',this.href);setTimeout(function(){location.href=that.href;},200);return false;\">neighbourhoods.geojson</a>,\n",
       " <a href=\"http://data.insideairbnb.com/united-states/ca/san-francisco/2017-12-07/data/listings.csv.gz\" onclick=\"var that=this;ga('send','event', 'download','listings',this.href);setTimeout(function(){location.href=that.href;},200);return false;\">listings.csv.gz</a>,\n",
       " <a href=\"http://data.insideairbnb.com/united-states/ca/san-francisco/2017-12-07/data/calendar.csv.gz\" onclick=\"var that=this;ga('send','event', 'download','calendar',this.href);setTimeout(function(){location.href=that.href;},200);return false;\">calendar.csv.gz</a>,\n",
       " <a href=\"http://data.insideairbnb.com/united-states/ca/san-francisco/2017-12-07/data/reviews.csv.gz\" onclick=\"var that=this;ga('send','event', 'download','reviews',this.href);setTimeout(function(){location.href=that.href;},200);return false;\">reviews.csv.gz</a>,\n",
       " <a href=\"http://data.insideairbnb.com/united-states/ca/san-francisco/2017-12-07/visualisations/listings.csv\" onclick=\"var that=this;ga('send','event', 'download','listings_visualisation',this.href);setTimeout(function(){location.href=that.href;},200);return false;\">listings.csv</a>,\n",
       " <a href=\"http://data.insideairbnb.com/united-states/ca/san-francisco/2017-12-07/visualisations/reviews.csv\" onclick=\"var that=this;ga('send','event', 'download','reviews_visualisation',this.href);setTimeout(function(){location.href=that.href;},200);return false;\"> reviews.csv</a>,\n",
       " <a href=\"http://data.insideairbnb.com/united-states/ca/san-francisco/2017-12-07/visualisations/neighbourhoods.csv\" onclick=\"var that=this;ga('send','event', 'download','neighbourhoods',this.href);setTimeout(function(){location.href=that.href;},200);return false;\">neighbourhoods.csv</a>,\n",
       " <a href=\"http://data.insideairbnb.com/united-states/ca/san-francisco/2017-12-07/visualisations/neighbourhoods.geojson\" onclick=\"var that=this;ga('send','event', 'download','geojson',this.href);setTimeout(function(){location.href=that.href;},200);return false;\">neighbourhoods.geojson</a>,\n",
       " <a href=\"http://data.insideairbnb.com/united-states/ca/san-francisco/2017-12-02/data/listings.csv.gz\" onclick=\"var that=this;ga('send','event', 'download','listings',this.href);setTimeout(function(){location.href=that.href;},200);return false;\">listings.csv.gz</a>,\n",
       " <a href=\"http://data.insideairbnb.com/united-states/ca/san-francisco/2017-12-02/data/calendar.csv.gz\" onclick=\"var that=this;ga('send','event', 'download','calendar',this.href);setTimeout(function(){location.href=that.href;},200);return false;\">calendar.csv.gz</a>,\n",
       " <a href=\"http://data.insideairbnb.com/united-states/ca/san-francisco/2017-12-02/data/reviews.csv.gz\" onclick=\"var that=this;ga('send','event', 'download','reviews',this.href);setTimeout(function(){location.href=that.href;},200);return false;\">reviews.csv.gz</a>,\n",
       " <a href=\"http://data.insideairbnb.com/united-states/ca/san-francisco/2017-12-02/visualisations/listings.csv\" onclick=\"var that=this;ga('send','event', 'download','listings_visualisation',this.href);setTimeout(function(){location.href=that.href;},200);return false;\">listings.csv</a>,\n",
       " <a href=\"http://data.insideairbnb.com/united-states/ca/san-francisco/2017-12-02/visualisations/reviews.csv\" onclick=\"var that=this;ga('send','event', 'download','reviews_visualisation',this.href);setTimeout(function(){location.href=that.href;},200);return false;\"> reviews.csv</a>,\n",
       " <a href=\"http://data.insideairbnb.com/united-states/ca/san-francisco/2017-12-02/visualisations/neighbourhoods.csv\" onclick=\"var that=this;ga('send','event', 'download','neighbourhoods',this.href);setTimeout(function(){location.href=that.href;},200);return false;\">neighbourhoods.csv</a>,\n",
       " <a href=\"http://data.insideairbnb.com/united-states/ca/san-francisco/2017-12-02/visualisations/neighbourhoods.geojson\" onclick=\"var that=this;ga('send','event', 'download','geojson',this.href);setTimeout(function(){location.href=that.href;},200);return false;\">neighbourhoods.geojson</a>,\n",
       " <a href=\"http://data.insideairbnb.com/united-states/ca/san-francisco/2017-11-08/data/listings.csv.gz\" onclick=\"var that=this;ga('send','event', 'download','listings',this.href);setTimeout(function(){location.href=that.href;},200);return false;\">listings.csv.gz</a>,\n",
       " <a href=\"http://data.insideairbnb.com/united-states/ca/san-francisco/2017-11-08/data/calendar.csv.gz\" onclick=\"var that=this;ga('send','event', 'download','calendar',this.href);setTimeout(function(){location.href=that.href;},200);return false;\">calendar.csv.gz</a>,\n",
       " <a href=\"http://data.insideairbnb.com/united-states/ca/san-francisco/2017-11-08/data/reviews.csv.gz\" onclick=\"var that=this;ga('send','event', 'download','reviews',this.href);setTimeout(function(){location.href=that.href;},200);return false;\">reviews.csv.gz</a>,\n",
       " <a href=\"http://data.insideairbnb.com/united-states/ca/san-francisco/2017-11-08/visualisations/listings.csv\" onclick=\"var that=this;ga('send','event', 'download','listings_visualisation',this.href);setTimeout(function(){location.href=that.href;},200);return false;\">listings.csv</a>,\n",
       " <a href=\"http://data.insideairbnb.com/united-states/ca/san-francisco/2017-11-08/visualisations/reviews.csv\" onclick=\"var that=this;ga('send','event', 'download','reviews_visualisation',this.href);setTimeout(function(){location.href=that.href;},200);return false;\"> reviews.csv</a>,\n",
       " <a href=\"http://data.insideairbnb.com/united-states/ca/san-francisco/2017-11-08/visualisations/neighbourhoods.csv\" onclick=\"var that=this;ga('send','event', 'download','neighbourhoods',this.href);setTimeout(function(){location.href=that.href;},200);return false;\">neighbourhoods.csv</a>,\n",
       " <a href=\"http://data.insideairbnb.com/united-states/ca/san-francisco/2017-11-08/visualisations/neighbourhoods.geojson\" onclick=\"var that=this;ga('send','event', 'download','geojson',this.href);setTimeout(function(){location.href=that.href;},200);return false;\">neighbourhoods.geojson</a>,\n",
       " <a href=\"http://data.insideairbnb.com/united-states/ca/san-francisco/2017-11-01/data/listings.csv.gz\" onclick=\"var that=this;ga('send','event', 'download','listings',this.href);setTimeout(function(){location.href=that.href;},200);return false;\">listings.csv.gz</a>,\n",
       " <a href=\"http://data.insideairbnb.com/united-states/ca/san-francisco/2017-11-01/data/calendar.csv.gz\" onclick=\"var that=this;ga('send','event', 'download','calendar',this.href);setTimeout(function(){location.href=that.href;},200);return false;\">calendar.csv.gz</a>,\n",
       " <a href=\"http://data.insideairbnb.com/united-states/ca/san-francisco/2017-11-01/data/reviews.csv.gz\" onclick=\"var that=this;ga('send','event', 'download','reviews',this.href);setTimeout(function(){location.href=that.href;},200);return false;\">reviews.csv.gz</a>,\n",
       " <a href=\"http://data.insideairbnb.com/united-states/ca/san-francisco/2017-11-01/visualisations/listings.csv\" onclick=\"var that=this;ga('send','event', 'download','listings_visualisation',this.href);setTimeout(function(){location.href=that.href;},200);return false;\">listings.csv</a>,\n",
       " <a href=\"http://data.insideairbnb.com/united-states/ca/san-francisco/2017-11-01/visualisations/reviews.csv\" onclick=\"var that=this;ga('send','event', 'download','reviews_visualisation',this.href);setTimeout(function(){location.href=that.href;},200);return false;\"> reviews.csv</a>,\n",
       " <a href=\"http://data.insideairbnb.com/united-states/ca/san-francisco/2017-11-01/visualisations/neighbourhoods.csv\" onclick=\"var that=this;ga('send','event', 'download','neighbourhoods',this.href);setTimeout(function(){location.href=that.href;},200);return false;\">neighbourhoods.csv</a>,\n",
       " <a href=\"http://data.insideairbnb.com/united-states/ca/san-francisco/2017-11-01/visualisations/neighbourhoods.geojson\" onclick=\"var that=this;ga('send','event', 'download','geojson',this.href);setTimeout(function(){location.href=that.href;},200);return false;\">neighbourhoods.geojson</a>,\n",
       " <a href=\"http://data.insideairbnb.com/united-states/ca/san-francisco/2017-10-02/data/listings.csv.gz\" onclick=\"var that=this;ga('send','event', 'download','listings',this.href);setTimeout(function(){location.href=that.href;},200);return false;\">listings.csv.gz</a>,\n",
       " <a href=\"http://data.insideairbnb.com/united-states/ca/san-francisco/2017-10-02/data/calendar.csv.gz\" onclick=\"var that=this;ga('send','event', 'download','calendar',this.href);setTimeout(function(){location.href=that.href;},200);return false;\">calendar.csv.gz</a>,\n",
       " <a href=\"http://data.insideairbnb.com/united-states/ca/san-francisco/2017-10-02/data/reviews.csv.gz\" onclick=\"var that=this;ga('send','event', 'download','reviews',this.href);setTimeout(function(){location.href=that.href;},200);return false;\">reviews.csv.gz</a>,\n",
       " <a href=\"http://data.insideairbnb.com/united-states/ca/san-francisco/2017-10-02/visualisations/listings.csv\" onclick=\"var that=this;ga('send','event', 'download','listings_visualisation',this.href);setTimeout(function(){location.href=that.href;},200);return false;\">listings.csv</a>,\n",
       " <a href=\"http://data.insideairbnb.com/united-states/ca/san-francisco/2017-10-02/visualisations/reviews.csv\" onclick=\"var that=this;ga('send','event', 'download','reviews_visualisation',this.href);setTimeout(function(){location.href=that.href;},200);return false;\"> reviews.csv</a>,\n",
       " <a href=\"http://data.insideairbnb.com/united-states/ca/san-francisco/2017-10-02/visualisations/neighbourhoods.csv\" onclick=\"var that=this;ga('send','event', 'download','neighbourhoods',this.href);setTimeout(function(){location.href=that.href;},200);return false;\">neighbourhoods.csv</a>,\n",
       " <a href=\"http://data.insideairbnb.com/united-states/ca/san-francisco/2017-10-02/visualisations/neighbourhoods.geojson\" onclick=\"var that=this;ga('send','event', 'download','geojson',this.href);setTimeout(function(){location.href=that.href;},200);return false;\">neighbourhoods.geojson</a>,\n",
       " <a href=\"http://data.insideairbnb.com/united-states/ca/san-francisco/2017-09-02/data/listings.csv.gz\" onclick=\"var that=this;ga('send','event', 'download','listings',this.href);setTimeout(function(){location.href=that.href;},200);return false;\">listings.csv.gz</a>,\n",
       " <a href=\"http://data.insideairbnb.com/united-states/ca/san-francisco/2017-09-02/data/calendar.csv.gz\" onclick=\"var that=this;ga('send','event', 'download','calendar',this.href);setTimeout(function(){location.href=that.href;},200);return false;\">calendar.csv.gz</a>,\n",
       " <a href=\"http://data.insideairbnb.com/united-states/ca/san-francisco/2017-09-02/data/reviews.csv.gz\" onclick=\"var that=this;ga('send','event', 'download','reviews',this.href);setTimeout(function(){location.href=that.href;},200);return false;\">reviews.csv.gz</a>,\n",
       " <a href=\"http://data.insideairbnb.com/united-states/ca/san-francisco/2017-09-02/visualisations/listings.csv\" onclick=\"var that=this;ga('send','event', 'download','listings_visualisation',this.href);setTimeout(function(){location.href=that.href;},200);return false;\">listings.csv</a>,\n",
       " <a href=\"http://data.insideairbnb.com/united-states/ca/san-francisco/2017-09-02/visualisations/reviews.csv\" onclick=\"var that=this;ga('send','event', 'download','reviews_visualisation',this.href);setTimeout(function(){location.href=that.href;},200);return false;\"> reviews.csv</a>,\n",
       " <a href=\"http://data.insideairbnb.com/united-states/ca/san-francisco/2017-09-02/visualisations/neighbourhoods.csv\" onclick=\"var that=this;ga('send','event', 'download','neighbourhoods',this.href);setTimeout(function(){location.href=that.href;},200);return false;\">neighbourhoods.csv</a>,\n",
       " <a href=\"http://data.insideairbnb.com/united-states/ca/san-francisco/2017-09-02/visualisations/neighbourhoods.geojson\" onclick=\"var that=this;ga('send','event', 'download','geojson',this.href);setTimeout(function(){location.href=that.href;},200);return false;\">neighbourhoods.geojson</a>,\n",
       " <a href=\"http://data.insideairbnb.com/united-states/ca/san-francisco/2017-08-02/data/listings.csv.gz\" onclick=\"var that=this;ga('send','event', 'download','listings',this.href);setTimeout(function(){location.href=that.href;},200);return false;\">listings.csv.gz</a>,\n",
       " <a href=\"http://data.insideairbnb.com/united-states/ca/san-francisco/2017-08-02/data/calendar.csv.gz\" onclick=\"var that=this;ga('send','event', 'download','calendar',this.href);setTimeout(function(){location.href=that.href;},200);return false;\">calendar.csv.gz</a>,\n",
       " <a href=\"http://data.insideairbnb.com/united-states/ca/san-francisco/2017-08-02/data/reviews.csv.gz\" onclick=\"var that=this;ga('send','event', 'download','reviews',this.href);setTimeout(function(){location.href=that.href;},200);return false;\">reviews.csv.gz</a>,\n",
       " <a href=\"http://data.insideairbnb.com/united-states/ca/san-francisco/2017-08-02/visualisations/listings.csv\" onclick=\"var that=this;ga('send','event', 'download','listings_visualisation',this.href);setTimeout(function(){location.href=that.href;},200);return false;\">listings.csv</a>,\n",
       " <a href=\"http://data.insideairbnb.com/united-states/ca/san-francisco/2017-08-02/visualisations/reviews.csv\" onclick=\"var that=this;ga('send','event', 'download','reviews_visualisation',this.href);setTimeout(function(){location.href=that.href;},200);return false;\"> reviews.csv</a>,\n",
       " <a href=\"http://data.insideairbnb.com/united-states/ca/san-francisco/2017-08-02/visualisations/neighbourhoods.csv\" onclick=\"var that=this;ga('send','event', 'download','neighbourhoods',this.href);setTimeout(function(){location.href=that.href;},200);return false;\">neighbourhoods.csv</a>,\n",
       " <a href=\"http://data.insideairbnb.com/united-states/ca/san-francisco/2017-08-02/visualisations/neighbourhoods.geojson\" onclick=\"var that=this;ga('send','event', 'download','geojson',this.href);setTimeout(function(){location.href=that.href;},200);return false;\">neighbourhoods.geojson</a>,\n",
       " <a href=\"http://data.insideairbnb.com/united-states/ca/san-francisco/2017-07-02/data/listings.csv.gz\" onclick=\"var that=this;ga('send','event', 'download','listings',this.href);setTimeout(function(){location.href=that.href;},200);return false;\">listings.csv.gz</a>,\n",
       " <a href=\"http://data.insideairbnb.com/united-states/ca/san-francisco/2017-07-02/data/calendar.csv.gz\" onclick=\"var that=this;ga('send','event', 'download','calendar',this.href);setTimeout(function(){location.href=that.href;},200);return false;\">calendar.csv.gz</a>,\n",
       " <a href=\"http://data.insideairbnb.com/united-states/ca/san-francisco/2017-07-02/data/reviews.csv.gz\" onclick=\"var that=this;ga('send','event', 'download','reviews',this.href);setTimeout(function(){location.href=that.href;},200);return false;\">reviews.csv.gz</a>,\n",
       " <a href=\"http://data.insideairbnb.com/united-states/ca/san-francisco/2017-07-02/visualisations/listings.csv\" onclick=\"var that=this;ga('send','event', 'download','listings_visualisation',this.href);setTimeout(function(){location.href=that.href;},200);return false;\">listings.csv</a>,\n",
       " <a href=\"http://data.insideairbnb.com/united-states/ca/san-francisco/2017-07-02/visualisations/reviews.csv\" onclick=\"var that=this;ga('send','event', 'download','reviews_visualisation',this.href);setTimeout(function(){location.href=that.href;},200);return false;\"> reviews.csv</a>,\n",
       " <a href=\"http://data.insideairbnb.com/united-states/ca/san-francisco/2017-07-02/visualisations/neighbourhoods.csv\" onclick=\"var that=this;ga('send','event', 'download','neighbourhoods',this.href);setTimeout(function(){location.href=that.href;},200);return false;\">neighbourhoods.csv</a>,\n",
       " <a href=\"http://data.insideairbnb.com/united-states/ca/san-francisco/2017-07-02/visualisations/neighbourhoods.geojson\" onclick=\"var that=this;ga('send','event', 'download','geojson',this.href);setTimeout(function(){location.href=that.href;},200);return false;\">neighbourhoods.geojson</a>,\n",
       " <a href=\"http://data.insideairbnb.com/united-states/ca/san-francisco/2017-06-02/data/listings.csv.gz\" onclick=\"var that=this;ga('send','event', 'download','listings',this.href);setTimeout(function(){location.href=that.href;},200);return false;\">listings.csv.gz</a>,\n",
       " <a href=\"http://data.insideairbnb.com/united-states/ca/san-francisco/2017-06-02/data/calendar.csv.gz\" onclick=\"var that=this;ga('send','event', 'download','calendar',this.href);setTimeout(function(){location.href=that.href;},200);return false;\">calendar.csv.gz</a>,\n",
       " <a href=\"http://data.insideairbnb.com/united-states/ca/san-francisco/2017-06-02/data/reviews.csv.gz\" onclick=\"var that=this;ga('send','event', 'download','reviews',this.href);setTimeout(function(){location.href=that.href;},200);return false;\">reviews.csv.gz</a>,\n",
       " <a href=\"http://data.insideairbnb.com/united-states/ca/san-francisco/2017-06-02/visualisations/listings.csv\" onclick=\"var that=this;ga('send','event', 'download','listings_visualisation',this.href);setTimeout(function(){location.href=that.href;},200);return false;\">listings.csv</a>,\n",
       " <a href=\"http://data.insideairbnb.com/united-states/ca/san-francisco/2017-06-02/visualisations/reviews.csv\" onclick=\"var that=this;ga('send','event', 'download','reviews_visualisation',this.href);setTimeout(function(){location.href=that.href;},200);return false;\"> reviews.csv</a>,\n",
       " <a href=\"http://data.insideairbnb.com/united-states/ca/san-francisco/2017-06-02/visualisations/neighbourhoods.csv\" onclick=\"var that=this;ga('send','event', 'download','neighbourhoods',this.href);setTimeout(function(){location.href=that.href;},200);return false;\">neighbourhoods.csv</a>,\n",
       " <a href=\"http://data.insideairbnb.com/united-states/ca/san-francisco/2017-06-02/visualisations/neighbourhoods.geojson\" onclick=\"var that=this;ga('send','event', 'download','geojson',this.href);setTimeout(function(){location.href=that.href;},200);return false;\">neighbourhoods.geojson</a>,\n",
       " <a href=\"http://data.insideairbnb.com/united-states/ca/san-francisco/2017-05-02/data/listings.csv.gz\" onclick=\"var that=this;ga('send','event', 'download','listings',this.href);setTimeout(function(){location.href=that.href;},200);return false;\">listings.csv.gz</a>,\n",
       " <a href=\"http://data.insideairbnb.com/united-states/ca/san-francisco/2017-05-02/data/calendar.csv.gz\" onclick=\"var that=this;ga('send','event', 'download','calendar',this.href);setTimeout(function(){location.href=that.href;},200);return false;\">calendar.csv.gz</a>,\n",
       " <a href=\"http://data.insideairbnb.com/united-states/ca/san-francisco/2017-05-02/data/reviews.csv.gz\" onclick=\"var that=this;ga('send','event', 'download','reviews',this.href);setTimeout(function(){location.href=that.href;},200);return false;\">reviews.csv.gz</a>,\n",
       " <a href=\"http://data.insideairbnb.com/united-states/ca/san-francisco/2017-05-02/visualisations/listings.csv\" onclick=\"var that=this;ga('send','event', 'download','listings_visualisation',this.href);setTimeout(function(){location.href=that.href;},200);return false;\">listings.csv</a>,\n",
       " <a href=\"http://data.insideairbnb.com/united-states/ca/san-francisco/2017-05-02/visualisations/reviews.csv\" onclick=\"var that=this;ga('send','event', 'download','reviews_visualisation',this.href);setTimeout(function(){location.href=that.href;},200);return false;\"> reviews.csv</a>,\n",
       " <a href=\"http://data.insideairbnb.com/united-states/ca/san-francisco/2017-05-02/visualisations/neighbourhoods.csv\" onclick=\"var that=this;ga('send','event', 'download','neighbourhoods',this.href);setTimeout(function(){location.href=that.href;},200);return false;\">neighbourhoods.csv</a>,\n",
       " <a href=\"http://data.insideairbnb.com/united-states/ca/san-francisco/2017-05-02/visualisations/neighbourhoods.geojson\" onclick=\"var that=this;ga('send','event', 'download','geojson',this.href);setTimeout(function(){location.href=that.href;},200);return false;\">neighbourhoods.geojson</a>,\n",
       " <a href=\"http://data.insideairbnb.com/united-states/ca/san-francisco/2017-04-02/data/listings.csv.gz\" onclick=\"var that=this;ga('send','event', 'download','listings',this.href);setTimeout(function(){location.href=that.href;},200);return false;\">listings.csv.gz</a>,\n",
       " <a href=\"http://data.insideairbnb.com/united-states/ca/san-francisco/2017-04-02/data/calendar.csv.gz\" onclick=\"var that=this;ga('send','event', 'download','calendar',this.href);setTimeout(function(){location.href=that.href;},200);return false;\">calendar.csv.gz</a>,\n",
       " <a href=\"http://data.insideairbnb.com/united-states/ca/san-francisco/2017-04-02/data/reviews.csv.gz\" onclick=\"var that=this;ga('send','event', 'download','reviews',this.href);setTimeout(function(){location.href=that.href;},200);return false;\">reviews.csv.gz</a>,\n",
       " <a href=\"http://data.insideairbnb.com/united-states/ca/san-francisco/2017-04-02/visualisations/listings.csv\" onclick=\"var that=this;ga('send','event', 'download','listings_visualisation',this.href);setTimeout(function(){location.href=that.href;},200);return false;\">listings.csv</a>,\n",
       " <a href=\"http://data.insideairbnb.com/united-states/ca/san-francisco/2017-04-02/visualisations/reviews.csv\" onclick=\"var that=this;ga('send','event', 'download','reviews_visualisation',this.href);setTimeout(function(){location.href=that.href;},200);return false;\"> reviews.csv</a>,\n",
       " <a href=\"http://data.insideairbnb.com/united-states/ca/san-francisco/2017-04-02/visualisations/neighbourhoods.csv\" onclick=\"var that=this;ga('send','event', 'download','neighbourhoods',this.href);setTimeout(function(){location.href=that.href;},200);return false;\">neighbourhoods.csv</a>,\n",
       " <a href=\"http://data.insideairbnb.com/united-states/ca/san-francisco/2017-04-02/visualisations/neighbourhoods.geojson\" onclick=\"var that=this;ga('send','event', 'download','geojson',this.href);setTimeout(function(){location.href=that.href;},200);return false;\">neighbourhoods.geojson</a>,\n",
       " <a href=\"http://data.insideairbnb.com/united-states/ca/san-francisco/2017-03-02/data/listings.csv.gz\" onclick=\"var that=this;ga('send','event', 'download','listings',this.href);setTimeout(function(){location.href=that.href;},200);return false;\">listings.csv.gz</a>,\n",
       " <a href=\"http://data.insideairbnb.com/united-states/ca/san-francisco/2017-03-02/data/calendar.csv.gz\" onclick=\"var that=this;ga('send','event', 'download','calendar',this.href);setTimeout(function(){location.href=that.href;},200);return false;\">calendar.csv.gz</a>,\n",
       " <a href=\"http://data.insideairbnb.com/united-states/ca/san-francisco/2017-03-02/data/reviews.csv.gz\" onclick=\"var that=this;ga('send','event', 'download','reviews',this.href);setTimeout(function(){location.href=that.href;},200);return false;\">reviews.csv.gz</a>,\n",
       " <a href=\"http://data.insideairbnb.com/united-states/ca/san-francisco/2017-03-02/visualisations/listings.csv\" onclick=\"var that=this;ga('send','event', 'download','listings_visualisation',this.href);setTimeout(function(){location.href=that.href;},200);return false;\">listings.csv</a>,\n",
       " <a href=\"http://data.insideairbnb.com/united-states/ca/san-francisco/2017-03-02/visualisations/reviews.csv\" onclick=\"var that=this;ga('send','event', 'download','reviews_visualisation',this.href);setTimeout(function(){location.href=that.href;},200);return false;\"> reviews.csv</a>,\n",
       " <a href=\"http://data.insideairbnb.com/united-states/ca/san-francisco/2017-03-02/visualisations/neighbourhoods.csv\" onclick=\"var that=this;ga('send','event', 'download','neighbourhoods',this.href);setTimeout(function(){location.href=that.href;},200);return false;\">neighbourhoods.csv</a>,\n",
       " <a href=\"http://data.insideairbnb.com/united-states/ca/san-francisco/2017-03-02/visualisations/neighbourhoods.geojson\" onclick=\"var that=this;ga('send','event', 'download','geojson',this.href);setTimeout(function(){location.href=that.href;},200);return false;\">neighbourhoods.geojson</a>,\n",
       " <a href=\"http://data.insideairbnb.com/united-states/ca/san-francisco/2017-02-02/data/listings.csv.gz\" onclick=\"var that=this;ga('send','event', 'download','listings',this.href);setTimeout(function(){location.href=that.href;},200);return false;\">listings.csv.gz</a>,\n",
       " <a href=\"http://data.insideairbnb.com/united-states/ca/san-francisco/2017-02-02/data/calendar.csv.gz\" onclick=\"var that=this;ga('send','event', 'download','calendar',this.href);setTimeout(function(){location.href=that.href;},200);return false;\">calendar.csv.gz</a>,\n",
       " <a href=\"http://data.insideairbnb.com/united-states/ca/san-francisco/2017-02-02/data/reviews.csv.gz\" onclick=\"var that=this;ga('send','event', 'download','reviews',this.href);setTimeout(function(){location.href=that.href;},200);return false;\">reviews.csv.gz</a>,\n",
       " <a href=\"http://data.insideairbnb.com/united-states/ca/san-francisco/2017-02-02/visualisations/listings.csv\" onclick=\"var that=this;ga('send','event', 'download','listings_visualisation',this.href);setTimeout(function(){location.href=that.href;},200);return false;\">listings.csv</a>,\n",
       " <a href=\"http://data.insideairbnb.com/united-states/ca/san-francisco/2017-02-02/visualisations/reviews.csv\" onclick=\"var that=this;ga('send','event', 'download','reviews_visualisation',this.href);setTimeout(function(){location.href=that.href;},200);return false;\"> reviews.csv</a>,\n",
       " <a href=\"http://data.insideairbnb.com/united-states/ca/san-francisco/2017-02-02/visualisations/neighbourhoods.csv\" onclick=\"var that=this;ga('send','event', 'download','neighbourhoods',this.href);setTimeout(function(){location.href=that.href;},200);return false;\">neighbourhoods.csv</a>,\n",
       " <a href=\"http://data.insideairbnb.com/united-states/ca/san-francisco/2017-02-02/visualisations/neighbourhoods.geojson\" onclick=\"var that=this;ga('send','event', 'download','geojson',this.href);setTimeout(function(){location.href=that.href;},200);return false;\">neighbourhoods.geojson</a>,\n",
       " <a href=\"http://data.insideairbnb.com/united-states/ca/san-francisco/2017-01-01/data/listings.csv.gz\" onclick=\"var that=this;ga('send','event', 'download','listings',this.href);setTimeout(function(){location.href=that.href;},200);return false;\">listings.csv.gz</a>,\n",
       " <a href=\"http://data.insideairbnb.com/united-states/ca/san-francisco/2017-01-01/data/calendar.csv.gz\" onclick=\"var that=this;ga('send','event', 'download','calendar',this.href);setTimeout(function(){location.href=that.href;},200);return false;\">calendar.csv.gz</a>,\n",
       " <a href=\"http://data.insideairbnb.com/united-states/ca/san-francisco/2017-01-01/data/reviews.csv.gz\" onclick=\"var that=this;ga('send','event', 'download','reviews',this.href);setTimeout(function(){location.href=that.href;},200);return false;\">reviews.csv.gz</a>,\n",
       " <a href=\"http://data.insideairbnb.com/united-states/ca/san-francisco/2017-01-01/visualisations/listings.csv\" onclick=\"var that=this;ga('send','event', 'download','listings_visualisation',this.href);setTimeout(function(){location.href=that.href;},200);return false;\">listings.csv</a>,\n",
       " <a href=\"http://data.insideairbnb.com/united-states/ca/san-francisco/2017-01-01/visualisations/reviews.csv\" onclick=\"var that=this;ga('send','event', 'download','reviews_visualisation',this.href);setTimeout(function(){location.href=that.href;},200);return false;\"> reviews.csv</a>,\n",
       " <a href=\"http://data.insideairbnb.com/united-states/ca/san-francisco/2017-01-01/visualisations/neighbourhoods.csv\" onclick=\"var that=this;ga('send','event', 'download','neighbourhoods',this.href);setTimeout(function(){location.href=that.href;},200);return false;\">neighbourhoods.csv</a>,\n",
       " <a href=\"http://data.insideairbnb.com/united-states/ca/san-francisco/2017-01-01/visualisations/neighbourhoods.geojson\" onclick=\"var that=this;ga('send','event', 'download','geojson',this.href);setTimeout(function(){location.href=that.href;},200);return false;\">neighbourhoods.geojson</a>,\n",
       " <a href=\"http://data.insideairbnb.com/united-states/ca/san-francisco/2016-12-03/data/listings.csv.gz\" onclick=\"var that=this;ga('send','event', 'download','listings',this.href);setTimeout(function(){location.href=that.href;},200);return false;\">listings.csv.gz</a>,\n",
       " <a href=\"http://data.insideairbnb.com/united-states/ca/san-francisco/2016-12-03/data/calendar.csv.gz\" onclick=\"var that=this;ga('send','event', 'download','calendar',this.href);setTimeout(function(){location.href=that.href;},200);return false;\">calendar.csv.gz</a>,\n",
       " <a href=\"http://data.insideairbnb.com/united-states/ca/san-francisco/2016-12-03/data/reviews.csv.gz\" onclick=\"var that=this;ga('send','event', 'download','reviews',this.href);setTimeout(function(){location.href=that.href;},200);return false;\">reviews.csv.gz</a>,\n",
       " <a href=\"http://data.insideairbnb.com/united-states/ca/san-francisco/2016-12-03/visualisations/listings.csv\" onclick=\"var that=this;ga('send','event', 'download','listings_visualisation',this.href);setTimeout(function(){location.href=that.href;},200);return false;\">listings.csv</a>,\n",
       " <a href=\"http://data.insideairbnb.com/united-states/ca/san-francisco/2016-12-03/visualisations/reviews.csv\" onclick=\"var that=this;ga('send','event', 'download','reviews_visualisation',this.href);setTimeout(function(){location.href=that.href;},200);return false;\"> reviews.csv</a>,\n",
       " <a href=\"http://data.insideairbnb.com/united-states/ca/san-francisco/2016-12-03/visualisations/neighbourhoods.csv\" onclick=\"var that=this;ga('send','event', 'download','neighbourhoods',this.href);setTimeout(function(){location.href=that.href;},200);return false;\">neighbourhoods.csv</a>,\n",
       " <a href=\"http://data.insideairbnb.com/united-states/ca/san-francisco/2016-12-03/visualisations/neighbourhoods.geojson\" onclick=\"var that=this;ga('send','event', 'download','geojson',this.href);setTimeout(function(){location.href=that.href;},200);return false;\">neighbourhoods.geojson</a>,\n",
       " <a href=\"http://data.insideairbnb.com/united-states/ca/san-francisco/2016-11-02/data/listings.csv.gz\" onclick=\"var that=this;ga('send','event', 'download','listings',this.href);setTimeout(function(){location.href=that.href;},200);return false;\">listings.csv.gz</a>,\n",
       " <a href=\"http://data.insideairbnb.com/united-states/ca/san-francisco/2016-11-02/data/calendar.csv.gz\" onclick=\"var that=this;ga('send','event', 'download','calendar',this.href);setTimeout(function(){location.href=that.href;},200);return false;\">calendar.csv.gz</a>,\n",
       " <a href=\"http://data.insideairbnb.com/united-states/ca/san-francisco/2016-11-02/data/reviews.csv.gz\" onclick=\"var that=this;ga('send','event', 'download','reviews',this.href);setTimeout(function(){location.href=that.href;},200);return false;\">reviews.csv.gz</a>,\n",
       " <a href=\"http://data.insideairbnb.com/united-states/ca/san-francisco/2016-11-02/visualisations/listings.csv\" onclick=\"var that=this;ga('send','event', 'download','listings_visualisation',this.href);setTimeout(function(){location.href=that.href;},200);return false;\">listings.csv</a>,\n",
       " <a href=\"http://data.insideairbnb.com/united-states/ca/san-francisco/2016-11-02/visualisations/reviews.csv\" onclick=\"var that=this;ga('send','event', 'download','reviews_visualisation',this.href);setTimeout(function(){location.href=that.href;},200);return false;\"> reviews.csv</a>,\n",
       " <a href=\"http://data.insideairbnb.com/united-states/ca/san-francisco/2016-11-02/visualisations/neighbourhoods.csv\" onclick=\"var that=this;ga('send','event', 'download','neighbourhoods',this.href);setTimeout(function(){location.href=that.href;},200);return false;\">neighbourhoods.csv</a>,\n",
       " <a href=\"http://data.insideairbnb.com/united-states/ca/san-francisco/2016-11-02/visualisations/neighbourhoods.geojson\" onclick=\"var that=this;ga('send','event', 'download','geojson',this.href);setTimeout(function(){location.href=that.href;},200);return false;\">neighbourhoods.geojson</a>,\n",
       " <a href=\"http://data.insideairbnb.com/united-states/ca/san-francisco/2016-10-01/data/listings.csv.gz\" onclick=\"var that=this;ga('send','event', 'download','listings',this.href);setTimeout(function(){location.href=that.href;},200);return false;\">listings.csv.gz</a>,\n",
       " <a href=\"http://data.insideairbnb.com/united-states/ca/san-francisco/2016-10-01/data/calendar.csv.gz\" onclick=\"var that=this;ga('send','event', 'download','calendar',this.href);setTimeout(function(){location.href=that.href;},200);return false;\">calendar.csv.gz</a>,\n",
       " <a href=\"http://data.insideairbnb.com/united-states/ca/san-francisco/2016-10-01/data/reviews.csv.gz\" onclick=\"var that=this;ga('send','event', 'download','reviews',this.href);setTimeout(function(){location.href=that.href;},200);return false;\">reviews.csv.gz</a>,\n",
       " <a href=\"http://data.insideairbnb.com/united-states/ca/san-francisco/2016-10-01/visualisations/listings.csv\" onclick=\"var that=this;ga('send','event', 'download','listings_visualisation',this.href);setTimeout(function(){location.href=that.href;},200);return false;\">listings.csv</a>,\n",
       " <a href=\"http://data.insideairbnb.com/united-states/ca/san-francisco/2016-10-01/visualisations/reviews.csv\" onclick=\"var that=this;ga('send','event', 'download','reviews_visualisation',this.href);setTimeout(function(){location.href=that.href;},200);return false;\"> reviews.csv</a>,\n",
       " <a href=\"http://data.insideairbnb.com/united-states/ca/san-francisco/2016-10-01/visualisations/neighbourhoods.csv\" onclick=\"var that=this;ga('send','event', 'download','neighbourhoods',this.href);setTimeout(function(){location.href=that.href;},200);return false;\">neighbourhoods.csv</a>,\n",
       " <a href=\"http://data.insideairbnb.com/united-states/ca/san-francisco/2016-10-01/visualisations/neighbourhoods.geojson\" onclick=\"var that=this;ga('send','event', 'download','geojson',this.href);setTimeout(function(){location.href=that.href;},200);return false;\">neighbourhoods.geojson</a>,\n",
       " <a href=\"http://data.insideairbnb.com/united-states/ca/san-francisco/2016-09-02/data/listings.csv.gz\" onclick=\"var that=this;ga('send','event', 'download','listings',this.href);setTimeout(function(){location.href=that.href;},200);return false;\">listings.csv.gz</a>,\n",
       " <a href=\"http://data.insideairbnb.com/united-states/ca/san-francisco/2016-09-02/data/calendar.csv.gz\" onclick=\"var that=this;ga('send','event', 'download','calendar',this.href);setTimeout(function(){location.href=that.href;},200);return false;\">calendar.csv.gz</a>,\n",
       " <a href=\"http://data.insideairbnb.com/united-states/ca/san-francisco/2016-09-02/data/reviews.csv.gz\" onclick=\"var that=this;ga('send','event', 'download','reviews',this.href);setTimeout(function(){location.href=that.href;},200);return false;\">reviews.csv.gz</a>,\n",
       " <a href=\"http://data.insideairbnb.com/united-states/ca/san-francisco/2016-09-02/visualisations/listings.csv\" onclick=\"var that=this;ga('send','event', 'download','listings_visualisation',this.href);setTimeout(function(){location.href=that.href;},200);return false;\">listings.csv</a>,\n",
       " <a href=\"http://data.insideairbnb.com/united-states/ca/san-francisco/2016-09-02/visualisations/reviews.csv\" onclick=\"var that=this;ga('send','event', 'download','reviews_visualisation',this.href);setTimeout(function(){location.href=that.href;},200);return false;\"> reviews.csv</a>,\n",
       " <a href=\"http://data.insideairbnb.com/united-states/ca/san-francisco/2016-09-02/visualisations/neighbourhoods.csv\" onclick=\"var that=this;ga('send','event', 'download','neighbourhoods',this.href);setTimeout(function(){location.href=that.href;},200);return false;\">neighbourhoods.csv</a>,\n",
       " <a href=\"http://data.insideairbnb.com/united-states/ca/san-francisco/2016-09-02/visualisations/neighbourhoods.geojson\" onclick=\"var that=this;ga('send','event', 'download','geojson',this.href);setTimeout(function(){location.href=that.href;},200);return false;\">neighbourhoods.geojson</a>,\n",
       " <a href=\"http://data.insideairbnb.com/united-states/ca/san-francisco/2016-08-02/data/listings.csv.gz\" onclick=\"var that=this;ga('send','event', 'download','listings',this.href);setTimeout(function(){location.href=that.href;},200);return false;\">listings.csv.gz</a>,\n",
       " <a href=\"http://data.insideairbnb.com/united-states/ca/san-francisco/2016-08-02/data/calendar.csv.gz\" onclick=\"var that=this;ga('send','event', 'download','calendar',this.href);setTimeout(function(){location.href=that.href;},200);return false;\">calendar.csv.gz</a>,\n",
       " <a href=\"http://data.insideairbnb.com/united-states/ca/san-francisco/2016-08-02/data/reviews.csv.gz\" onclick=\"var that=this;ga('send','event', 'download','reviews',this.href);setTimeout(function(){location.href=that.href;},200);return false;\">reviews.csv.gz</a>,\n",
       " <a href=\"http://data.insideairbnb.com/united-states/ca/san-francisco/2016-08-02/visualisations/listings.csv\" onclick=\"var that=this;ga('send','event', 'download','listings_visualisation',this.href);setTimeout(function(){location.href=that.href;},200);return false;\">listings.csv</a>,\n",
       " <a href=\"http://data.insideairbnb.com/united-states/ca/san-francisco/2016-08-02/visualisations/reviews.csv\" onclick=\"var that=this;ga('send','event', 'download','reviews_visualisation',this.href);setTimeout(function(){location.href=that.href;},200);return false;\"> reviews.csv</a>,\n",
       " <a href=\"http://data.insideairbnb.com/united-states/ca/san-francisco/2016-08-02/visualisations/neighbourhoods.csv\" onclick=\"var that=this;ga('send','event', 'download','neighbourhoods',this.href);setTimeout(function(){location.href=that.href;},200);return false;\">neighbourhoods.csv</a>,\n",
       " <a href=\"http://data.insideairbnb.com/united-states/ca/san-francisco/2016-08-02/visualisations/neighbourhoods.geojson\" onclick=\"var that=this;ga('send','event', 'download','geojson',this.href);setTimeout(function(){location.href=that.href;},200);return false;\">neighbourhoods.geojson</a>,\n",
       " <a href=\"http://data.insideairbnb.com/united-states/ca/san-francisco/2016-07-02/data/listings.csv.gz\" onclick=\"var that=this;ga('send','event', 'download','listings',this.href);setTimeout(function(){location.href=that.href;},200);return false;\">listings.csv.gz</a>,\n",
       " <a href=\"http://data.insideairbnb.com/united-states/ca/san-francisco/2016-07-02/data/calendar.csv.gz\" onclick=\"var that=this;ga('send','event', 'download','calendar',this.href);setTimeout(function(){location.href=that.href;},200);return false;\">calendar.csv.gz</a>,\n",
       " <a href=\"http://data.insideairbnb.com/united-states/ca/san-francisco/2016-07-02/data/reviews.csv.gz\" onclick=\"var that=this;ga('send','event', 'download','reviews',this.href);setTimeout(function(){location.href=that.href;},200);return false;\">reviews.csv.gz</a>,\n",
       " <a href=\"http://data.insideairbnb.com/united-states/ca/san-francisco/2016-07-02/visualisations/listings.csv\" onclick=\"var that=this;ga('send','event', 'download','listings_visualisation',this.href);setTimeout(function(){location.href=that.href;},200);return false;\">listings.csv</a>,\n",
       " <a href=\"http://data.insideairbnb.com/united-states/ca/san-francisco/2016-07-02/visualisations/reviews.csv\" onclick=\"var that=this;ga('send','event', 'download','reviews_visualisation',this.href);setTimeout(function(){location.href=that.href;},200);return false;\"> reviews.csv</a>,\n",
       " <a href=\"http://data.insideairbnb.com/united-states/ca/san-francisco/2016-07-02/visualisations/neighbourhoods.csv\" onclick=\"var that=this;ga('send','event', 'download','neighbourhoods',this.href);setTimeout(function(){location.href=that.href;},200);return false;\">neighbourhoods.csv</a>,\n",
       " <a href=\"http://data.insideairbnb.com/united-states/ca/san-francisco/2016-07-02/visualisations/neighbourhoods.geojson\" onclick=\"var that=this;ga('send','event', 'download','geojson',this.href);setTimeout(function(){location.href=that.href;},200);return false;\">neighbourhoods.geojson</a>,\n",
       " <a href=\"http://data.insideairbnb.com/united-states/ca/san-francisco/2016-06-02/data/listings.csv.gz\" onclick=\"var that=this;ga('send','event', 'download','listings',this.href);setTimeout(function(){location.href=that.href;},200);return false;\">listings.csv.gz</a>,\n",
       " <a href=\"http://data.insideairbnb.com/united-states/ca/san-francisco/2016-06-02/data/calendar.csv.gz\" onclick=\"var that=this;ga('send','event', 'download','calendar',this.href);setTimeout(function(){location.href=that.href;},200);return false;\">calendar.csv.gz</a>,\n",
       " <a href=\"http://data.insideairbnb.com/united-states/ca/san-francisco/2016-06-02/data/reviews.csv.gz\" onclick=\"var that=this;ga('send','event', 'download','reviews',this.href);setTimeout(function(){location.href=that.href;},200);return false;\">reviews.csv.gz</a>,\n",
       " <a href=\"http://data.insideairbnb.com/united-states/ca/san-francisco/2016-06-02/visualisations/listings.csv\" onclick=\"var that=this;ga('send','event', 'download','listings_visualisation',this.href);setTimeout(function(){location.href=that.href;},200);return false;\">listings.csv</a>,\n",
       " <a href=\"http://data.insideairbnb.com/united-states/ca/san-francisco/2016-06-02/visualisations/reviews.csv\" onclick=\"var that=this;ga('send','event', 'download','reviews_visualisation',this.href);setTimeout(function(){location.href=that.href;},200);return false;\"> reviews.csv</a>,\n",
       " <a href=\"http://data.insideairbnb.com/united-states/ca/san-francisco/2016-06-02/visualisations/neighbourhoods.csv\" onclick=\"var that=this;ga('send','event', 'download','neighbourhoods',this.href);setTimeout(function(){location.href=that.href;},200);return false;\">neighbourhoods.csv</a>,\n",
       " <a href=\"http://data.insideairbnb.com/united-states/ca/san-francisco/2016-06-02/visualisations/neighbourhoods.geojson\" onclick=\"var that=this;ga('send','event', 'download','geojson',this.href);setTimeout(function(){location.href=that.href;},200);return false;\">neighbourhoods.geojson</a>,\n",
       " <a href=\"http://data.insideairbnb.com/united-states/ca/san-francisco/2016-05-02/data/listings.csv.gz\" onclick=\"var that=this;ga('send','event', 'download','listings',this.href);setTimeout(function(){location.href=that.href;},200);return false;\">listings.csv.gz</a>,\n",
       " <a href=\"http://data.insideairbnb.com/united-states/ca/san-francisco/2016-05-02/data/calendar.csv.gz\" onclick=\"var that=this;ga('send','event', 'download','calendar',this.href);setTimeout(function(){location.href=that.href;},200);return false;\">calendar.csv.gz</a>,\n",
       " <a href=\"http://data.insideairbnb.com/united-states/ca/san-francisco/2016-05-02/data/reviews.csv.gz\" onclick=\"var that=this;ga('send','event', 'download','reviews',this.href);setTimeout(function(){location.href=that.href;},200);return false;\">reviews.csv.gz</a>,\n",
       " <a href=\"http://data.insideairbnb.com/united-states/ca/san-francisco/2016-05-02/visualisations/listings.csv\" onclick=\"var that=this;ga('send','event', 'download','listings_visualisation',this.href);setTimeout(function(){location.href=that.href;},200);return false;\">listings.csv</a>,\n",
       " <a href=\"http://data.insideairbnb.com/united-states/ca/san-francisco/2016-05-02/visualisations/reviews.csv\" onclick=\"var that=this;ga('send','event', 'download','reviews_visualisation',this.href);setTimeout(function(){location.href=that.href;},200);return false;\"> reviews.csv</a>,\n",
       " <a href=\"http://data.insideairbnb.com/united-states/ca/san-francisco/2016-05-02/visualisations/neighbourhoods.csv\" onclick=\"var that=this;ga('send','event', 'download','neighbourhoods',this.href);setTimeout(function(){location.href=that.href;},200);return false;\">neighbourhoods.csv</a>,\n",
       " <a href=\"http://data.insideairbnb.com/united-states/ca/san-francisco/2016-05-02/visualisations/neighbourhoods.geojson\" onclick=\"var that=this;ga('send','event', 'download','geojson',this.href);setTimeout(function(){location.href=that.href;},200);return false;\">neighbourhoods.geojson</a>,\n",
       " <a href=\"http://data.insideairbnb.com/united-states/ca/san-francisco/2016-04-03/data/listings.csv.gz\" onclick=\"var that=this;ga('send','event', 'download','listings',this.href);setTimeout(function(){location.href=that.href;},200);return false;\">listings.csv.gz</a>,\n",
       " <a href=\"http://data.insideairbnb.com/united-states/ca/san-francisco/2016-04-03/data/calendar.csv.gz\" onclick=\"var that=this;ga('send','event', 'download','calendar',this.href);setTimeout(function(){location.href=that.href;},200);return false;\">calendar.csv.gz</a>,\n",
       " <a href=\"http://data.insideairbnb.com/united-states/ca/san-francisco/2016-04-03/data/reviews.csv.gz\" onclick=\"var that=this;ga('send','event', 'download','reviews',this.href);setTimeout(function(){location.href=that.href;},200);return false;\">reviews.csv.gz</a>,\n",
       " <a href=\"http://data.insideairbnb.com/united-states/ca/san-francisco/2016-04-03/visualisations/listings.csv\" onclick=\"var that=this;ga('send','event', 'download','listings_visualisation',this.href);setTimeout(function(){location.href=that.href;},200);return false;\">listings.csv</a>,\n",
       " <a href=\"http://data.insideairbnb.com/united-states/ca/san-francisco/2016-04-03/visualisations/reviews.csv\" onclick=\"var that=this;ga('send','event', 'download','reviews_visualisation',this.href);setTimeout(function(){location.href=that.href;},200);return false;\"> reviews.csv</a>,\n",
       " <a href=\"http://data.insideairbnb.com/united-states/ca/san-francisco/2016-04-03/visualisations/neighbourhoods.csv\" onclick=\"var that=this;ga('send','event', 'download','neighbourhoods',this.href);setTimeout(function(){location.href=that.href;},200);return false;\">neighbourhoods.csv</a>,\n",
       " <a href=\"http://data.insideairbnb.com/united-states/ca/san-francisco/2016-04-03/visualisations/neighbourhoods.geojson\" onclick=\"var that=this;ga('send','event', 'download','geojson',this.href);setTimeout(function(){location.href=that.href;},200);return false;\">neighbourhoods.geojson</a>,\n",
       " <a href=\"http://data.insideairbnb.com/united-states/ca/san-francisco/2016-02-02/data/listings.csv.gz\" onclick=\"var that=this;ga('send','event', 'download','listings',this.href);setTimeout(function(){location.href=that.href;},200);return false;\">listings.csv.gz</a>,\n",
       " <a href=\"http://data.insideairbnb.com/united-states/ca/san-francisco/2016-02-02/data/calendar.csv.gz\" onclick=\"var that=this;ga('send','event', 'download','calendar',this.href);setTimeout(function(){location.href=that.href;},200);return false;\">calendar.csv.gz</a>,\n",
       " <a href=\"http://data.insideairbnb.com/united-states/ca/san-francisco/2016-02-02/data/reviews.csv.gz\" onclick=\"var that=this;ga('send','event', 'download','reviews',this.href);setTimeout(function(){location.href=that.href;},200);return false;\">reviews.csv.gz</a>,\n",
       " <a href=\"http://data.insideairbnb.com/united-states/ca/san-francisco/2016-02-02/visualisations/listings.csv\" onclick=\"var that=this;ga('send','event', 'download','listings_visualisation',this.href);setTimeout(function(){location.href=that.href;},200);return false;\">listings.csv</a>,\n",
       " <a href=\"http://data.insideairbnb.com/united-states/ca/san-francisco/2016-02-02/visualisations/reviews.csv\" onclick=\"var that=this;ga('send','event', 'download','reviews_visualisation',this.href);setTimeout(function(){location.href=that.href;},200);return false;\"> reviews.csv</a>,\n",
       " <a href=\"http://data.insideairbnb.com/united-states/ca/san-francisco/2016-02-02/visualisations/neighbourhoods.csv\" onclick=\"var that=this;ga('send','event', 'download','neighbourhoods',this.href);setTimeout(function(){location.href=that.href;},200);return false;\">neighbourhoods.csv</a>,\n",
       " <a href=\"http://data.insideairbnb.com/united-states/ca/san-francisco/2016-02-02/visualisations/neighbourhoods.geojson\" onclick=\"var that=this;ga('send','event', 'download','geojson',this.href);setTimeout(function(){location.href=that.href;},200);return false;\">neighbourhoods.geojson</a>,\n",
       " <a href=\"http://data.insideairbnb.com/united-states/ca/san-francisco/2015-12-02/data/listings.csv.gz\" onclick=\"var that=this;ga('send','event', 'download','listings',this.href);setTimeout(function(){location.href=that.href;},200);return false;\">listings.csv.gz</a>,\n",
       " <a href=\"http://data.insideairbnb.com/united-states/ca/san-francisco/2015-12-02/data/calendar.csv.gz\" onclick=\"var that=this;ga('send','event', 'download','calendar',this.href);setTimeout(function(){location.href=that.href;},200);return false;\">calendar.csv.gz</a>,\n",
       " <a href=\"http://data.insideairbnb.com/united-states/ca/san-francisco/2015-12-02/data/reviews.csv.gz\" onclick=\"var that=this;ga('send','event', 'download','reviews',this.href);setTimeout(function(){location.href=that.href;},200);return false;\">reviews.csv.gz</a>,\n",
       " <a href=\"http://data.insideairbnb.com/united-states/ca/san-francisco/2015-12-02/visualisations/listings.csv\" onclick=\"var that=this;ga('send','event', 'download','listings_visualisation',this.href);setTimeout(function(){location.href=that.href;},200);return false;\">listings.csv</a>,\n",
       " <a href=\"http://data.insideairbnb.com/united-states/ca/san-francisco/2015-12-02/visualisations/reviews.csv\" onclick=\"var that=this;ga('send','event', 'download','reviews_visualisation',this.href);setTimeout(function(){location.href=that.href;},200);return false;\"> reviews.csv</a>,\n",
       " <a href=\"http://data.insideairbnb.com/united-states/ca/san-francisco/2015-12-02/visualisations/neighbourhoods.csv\" onclick=\"var that=this;ga('send','event', 'download','neighbourhoods',this.href);setTimeout(function(){location.href=that.href;},200);return false;\">neighbourhoods.csv</a>,\n",
       " <a href=\"http://data.insideairbnb.com/united-states/ca/san-francisco/2015-12-02/visualisations/neighbourhoods.geojson\" onclick=\"var that=this;ga('send','event', 'download','geojson',this.href);setTimeout(function(){location.href=that.href;},200);return false;\">neighbourhoods.geojson</a>,\n",
       " <a href=\"http://data.insideairbnb.com/united-states/ca/san-francisco/2015-11-01/data/listings.csv.gz\" onclick=\"var that=this;ga('send','event', 'download','listings',this.href);setTimeout(function(){location.href=that.href;},200);return false;\">listings.csv.gz</a>,\n",
       " <a href=\"http://data.insideairbnb.com/united-states/ca/san-francisco/2015-11-01/data/calendar.csv.gz\" onclick=\"var that=this;ga('send','event', 'download','calendar',this.href);setTimeout(function(){location.href=that.href;},200);return false;\">calendar.csv.gz</a>,\n",
       " <a href=\"http://data.insideairbnb.com/united-states/ca/san-francisco/2015-11-01/data/reviews.csv.gz\" onclick=\"var that=this;ga('send','event', 'download','reviews',this.href);setTimeout(function(){location.href=that.href;},200);return false;\">reviews.csv.gz</a>,\n",
       " <a href=\"http://data.insideairbnb.com/united-states/ca/san-francisco/2015-11-01/visualisations/listings.csv\" onclick=\"var that=this;ga('send','event', 'download','listings_visualisation',this.href);setTimeout(function(){location.href=that.href;},200);return false;\">listings.csv</a>,\n",
       " <a href=\"http://data.insideairbnb.com/united-states/ca/san-francisco/2015-11-01/visualisations/reviews.csv\" onclick=\"var that=this;ga('send','event', 'download','reviews_visualisation',this.href);setTimeout(function(){location.href=that.href;},200);return false;\"> reviews.csv</a>,\n",
       " <a href=\"http://data.insideairbnb.com/united-states/ca/san-francisco/2015-11-01/visualisations/neighbourhoods.csv\" onclick=\"var that=this;ga('send','event', 'download','neighbourhoods',this.href);setTimeout(function(){location.href=that.href;},200);return false;\">neighbourhoods.csv</a>,\n",
       " <a href=\"http://data.insideairbnb.com/united-states/ca/san-francisco/2015-11-01/visualisations/neighbourhoods.geojson\" onclick=\"var that=this;ga('send','event', 'download','geojson',this.href);setTimeout(function(){location.href=that.href;},200);return false;\">neighbourhoods.geojson</a>,\n",
       " <a href=\"http://data.insideairbnb.com/united-states/ca/san-francisco/2015-09-02/data/listings.csv.gz\" onclick=\"var that=this;ga('send','event', 'download','listings',this.href);setTimeout(function(){location.href=that.href;},200);return false;\">listings.csv.gz</a>,\n",
       " <a href=\"http://data.insideairbnb.com/united-states/ca/san-francisco/2015-09-02/data/calendar.csv.gz\" onclick=\"var that=this;ga('send','event', 'download','calendar',this.href);setTimeout(function(){location.href=that.href;},200);return false;\">calendar.csv.gz</a>,\n",
       " <a href=\"http://data.insideairbnb.com/united-states/ca/san-francisco/2015-09-02/data/reviews.csv.gz\" onclick=\"var that=this;ga('send','event', 'download','reviews',this.href);setTimeout(function(){location.href=that.href;},200);return false;\">reviews.csv.gz</a>,\n",
       " <a href=\"http://data.insideairbnb.com/united-states/ca/san-francisco/2015-09-02/visualisations/listings.csv\" onclick=\"var that=this;ga('send','event', 'download','listings_visualisation',this.href);setTimeout(function(){location.href=that.href;},200);return false;\">listings.csv</a>,\n",
       " <a href=\"http://data.insideairbnb.com/united-states/ca/san-francisco/2015-09-02/visualisations/reviews.csv\" onclick=\"var that=this;ga('send','event', 'download','reviews_visualisation',this.href);setTimeout(function(){location.href=that.href;},200);return false;\"> reviews.csv</a>,\n",
       " <a href=\"http://data.insideairbnb.com/united-states/ca/san-francisco/2015-09-02/visualisations/neighbourhoods.csv\" onclick=\"var that=this;ga('send','event', 'download','neighbourhoods',this.href);setTimeout(function(){location.href=that.href;},200);return false;\">neighbourhoods.csv</a>,\n",
       " <a href=\"http://data.insideairbnb.com/united-states/ca/san-francisco/2015-09-02/visualisations/neighbourhoods.geojson\" onclick=\"var that=this;ga('send','event', 'download','geojson',this.href);setTimeout(function(){location.href=that.href;},200);return false;\">neighbourhoods.geojson</a>,\n",
       " <a href=\"http://data.insideairbnb.com/united-states/ca/san-francisco/2015-05-04/data/listings.csv.gz\" onclick=\"var that=this;ga('send','event', 'download','listings',this.href);setTimeout(function(){location.href=that.href;},200);return false;\">listings.csv.gz</a>,\n",
       " <a href=\"http://data.insideairbnb.com/united-states/ca/san-francisco/2015-05-04/data/calendar.csv.gz\" onclick=\"var that=this;ga('send','event', 'download','calendar',this.href);setTimeout(function(){location.href=that.href;},200);return false;\">calendar.csv.gz</a>,\n",
       " <a href=\"http://data.insideairbnb.com/united-states/ca/san-francisco/2015-05-04/data/reviews.csv.gz\" onclick=\"var that=this;ga('send','event', 'download','reviews',this.href);setTimeout(function(){location.href=that.href;},200);return false;\">reviews.csv.gz</a>,\n",
       " <a href=\"http://data.insideairbnb.com/united-states/ca/san-francisco/2015-05-04/visualisations/listings.csv\" onclick=\"var that=this;ga('send','event', 'download','listings_visualisation',this.href);setTimeout(function(){location.href=that.href;},200);return false;\">listings.csv</a>,\n",
       " <a href=\"http://data.insideairbnb.com/united-states/ca/san-francisco/2015-05-04/visualisations/reviews.csv\" onclick=\"var that=this;ga('send','event', 'download','reviews_visualisation',this.href);setTimeout(function(){location.href=that.href;},200);return false;\"> reviews.csv</a>,\n",
       " <a href=\"http://data.insideairbnb.com/united-states/ca/san-francisco/2015-05-04/visualisations/neighbourhoods.csv\" onclick=\"var that=this;ga('send','event', 'download','neighbourhoods',this.href);setTimeout(function(){location.href=that.href;},200);return false;\">neighbourhoods.csv</a>,\n",
       " <a href=\"http://data.insideairbnb.com/united-states/ca/san-francisco/2015-05-04/visualisations/neighbourhoods.geojson\" onclick=\"var that=this;ga('send','event', 'download','geojson',this.href);setTimeout(function(){location.href=that.href;},200);return false;\">neighbourhoods.geojson</a>]"
      ]
     },
     "execution_count": 5,
     "metadata": {},
     "output_type": "execute_result"
    }
   ],
   "source": [
    "soup.find('table', {'class': 'table table-hover table-striped san-francisco'}).find_all('a')"
   ]
  },
  {
   "cell_type": "code",
   "execution_count": 6,
   "metadata": {},
   "outputs": [],
   "source": [
    "url = []\n",
    "for row in soup.find('table', {'class': 'table table-hover table-striped san-francisco'}).find_all('a'): \n",
    "    link = str(row.attrs['href'])\n",
    "    url.append(link)"
   ]
  },
  {
   "cell_type": "code",
   "execution_count": 7,
   "metadata": {
    "scrolled": true
   },
   "outputs": [
    {
     "data": {
      "text/plain": [
       "'reviews'"
      ]
     },
     "execution_count": 7,
     "metadata": {},
     "output_type": "execute_result"
    }
   ],
   "source": [
    "url[2][-14:-7]"
   ]
  },
  {
   "cell_type": "markdown",
   "metadata": {},
   "source": [
    "### All URL\n",
    "---"
   ]
  },
  {
   "cell_type": "code",
   "execution_count": 8,
   "metadata": {
    "scrolled": true
   },
   "outputs": [
    {
     "data": {
      "text/plain": [
       "['http://data.insideairbnb.com/united-states/ca/san-francisco/2019-03-06/data/listings.csv.gz',\n",
       " 'http://data.insideairbnb.com/united-states/ca/san-francisco/2019-03-06/data/calendar.csv.gz',\n",
       " 'http://data.insideairbnb.com/united-states/ca/san-francisco/2019-03-06/data/reviews.csv.gz',\n",
       " 'http://data.insideairbnb.com/united-states/ca/san-francisco/2019-03-06/visualisations/listings.csv',\n",
       " 'http://data.insideairbnb.com/united-states/ca/san-francisco/2019-03-06/visualisations/reviews.csv',\n",
       " 'http://data.insideairbnb.com/united-states/ca/san-francisco/2019-03-06/visualisations/neighbourhoods.csv',\n",
       " 'http://data.insideairbnb.com/united-states/ca/san-francisco/2019-03-06/visualisations/neighbourhoods.geojson',\n",
       " 'http://data.insideairbnb.com/united-states/ca/san-francisco/2019-02-01/data/listings.csv.gz',\n",
       " 'http://data.insideairbnb.com/united-states/ca/san-francisco/2019-02-01/data/calendar.csv.gz',\n",
       " 'http://data.insideairbnb.com/united-states/ca/san-francisco/2019-02-01/data/reviews.csv.gz',\n",
       " 'http://data.insideairbnb.com/united-states/ca/san-francisco/2019-02-01/visualisations/listings.csv',\n",
       " 'http://data.insideairbnb.com/united-states/ca/san-francisco/2019-02-01/visualisations/reviews.csv',\n",
       " 'http://data.insideairbnb.com/united-states/ca/san-francisco/2019-02-01/visualisations/neighbourhoods.csv',\n",
       " 'http://data.insideairbnb.com/united-states/ca/san-francisco/2019-02-01/visualisations/neighbourhoods.geojson',\n",
       " 'http://data.insideairbnb.com/united-states/ca/san-francisco/2019-01-09/data/listings.csv.gz',\n",
       " 'http://data.insideairbnb.com/united-states/ca/san-francisco/2019-01-09/data/calendar.csv.gz',\n",
       " 'http://data.insideairbnb.com/united-states/ca/san-francisco/2019-01-09/data/reviews.csv.gz',\n",
       " 'http://data.insideairbnb.com/united-states/ca/san-francisco/2019-01-09/visualisations/listings.csv',\n",
       " 'http://data.insideairbnb.com/united-states/ca/san-francisco/2019-01-09/visualisations/reviews.csv',\n",
       " 'http://data.insideairbnb.com/united-states/ca/san-francisco/2019-01-09/visualisations/neighbourhoods.csv',\n",
       " 'http://data.insideairbnb.com/united-states/ca/san-francisco/2019-01-09/visualisations/neighbourhoods.geojson',\n",
       " 'http://data.insideairbnb.com/united-states/ca/san-francisco/2018-12-06/data/listings.csv.gz',\n",
       " 'http://data.insideairbnb.com/united-states/ca/san-francisco/2018-12-06/data/calendar.csv.gz',\n",
       " 'http://data.insideairbnb.com/united-states/ca/san-francisco/2018-12-06/data/reviews.csv.gz',\n",
       " 'http://data.insideairbnb.com/united-states/ca/san-francisco/2018-12-06/visualisations/listings.csv',\n",
       " 'http://data.insideairbnb.com/united-states/ca/san-francisco/2018-12-06/visualisations/reviews.csv',\n",
       " 'http://data.insideairbnb.com/united-states/ca/san-francisco/2018-12-06/visualisations/neighbourhoods.csv',\n",
       " 'http://data.insideairbnb.com/united-states/ca/san-francisco/2018-12-06/visualisations/neighbourhoods.geojson',\n",
       " 'http://data.insideairbnb.com/united-states/ca/san-francisco/2018-11-03/data/listings.csv.gz',\n",
       " 'http://data.insideairbnb.com/united-states/ca/san-francisco/2018-11-03/data/calendar.csv.gz',\n",
       " 'http://data.insideairbnb.com/united-states/ca/san-francisco/2018-11-03/data/reviews.csv.gz',\n",
       " 'http://data.insideairbnb.com/united-states/ca/san-francisco/2018-11-03/visualisations/listings.csv',\n",
       " 'http://data.insideairbnb.com/united-states/ca/san-francisco/2018-11-03/visualisations/reviews.csv',\n",
       " 'http://data.insideairbnb.com/united-states/ca/san-francisco/2018-11-03/visualisations/neighbourhoods.csv',\n",
       " 'http://data.insideairbnb.com/united-states/ca/san-francisco/2018-11-03/visualisations/neighbourhoods.geojson',\n",
       " 'http://data.insideairbnb.com/united-states/ca/san-francisco/2018-10-03/data/listings.csv.gz',\n",
       " 'http://data.insideairbnb.com/united-states/ca/san-francisco/2018-10-03/data/calendar.csv.gz',\n",
       " 'http://data.insideairbnb.com/united-states/ca/san-francisco/2018-10-03/data/reviews.csv.gz',\n",
       " 'http://data.insideairbnb.com/united-states/ca/san-francisco/2018-10-03/visualisations/listings.csv',\n",
       " 'http://data.insideairbnb.com/united-states/ca/san-francisco/2018-10-03/visualisations/reviews.csv',\n",
       " 'http://data.insideairbnb.com/united-states/ca/san-francisco/2018-10-03/visualisations/neighbourhoods.csv',\n",
       " 'http://data.insideairbnb.com/united-states/ca/san-francisco/2018-10-03/visualisations/neighbourhoods.geojson',\n",
       " 'http://data.insideairbnb.com/united-states/ca/san-francisco/2018-09-08/data/listings.csv.gz',\n",
       " 'http://data.insideairbnb.com/united-states/ca/san-francisco/2018-09-08/data/calendar.csv.gz',\n",
       " 'http://data.insideairbnb.com/united-states/ca/san-francisco/2018-09-08/data/reviews.csv.gz',\n",
       " 'http://data.insideairbnb.com/united-states/ca/san-francisco/2018-09-08/visualisations/listings.csv',\n",
       " 'http://data.insideairbnb.com/united-states/ca/san-francisco/2018-09-08/visualisations/reviews.csv',\n",
       " 'http://data.insideairbnb.com/united-states/ca/san-francisco/2018-09-08/visualisations/neighbourhoods.csv',\n",
       " 'http://data.insideairbnb.com/united-states/ca/san-francisco/2018-09-08/visualisations/neighbourhoods.geojson',\n",
       " 'http://data.insideairbnb.com/united-states/ca/san-francisco/2018-08-06/data/listings.csv.gz',\n",
       " 'http://data.insideairbnb.com/united-states/ca/san-francisco/2018-08-06/data/calendar.csv.gz',\n",
       " 'http://data.insideairbnb.com/united-states/ca/san-francisco/2018-08-06/data/reviews.csv.gz',\n",
       " 'http://data.insideairbnb.com/united-states/ca/san-francisco/2018-08-06/visualisations/listings.csv',\n",
       " 'http://data.insideairbnb.com/united-states/ca/san-francisco/2018-08-06/visualisations/reviews.csv',\n",
       " 'http://data.insideairbnb.com/united-states/ca/san-francisco/2018-08-06/visualisations/neighbourhoods.csv',\n",
       " 'http://data.insideairbnb.com/united-states/ca/san-francisco/2018-08-06/visualisations/neighbourhoods.geojson',\n",
       " 'http://data.insideairbnb.com/united-states/ca/san-francisco/2018-07-05/data/listings.csv.gz',\n",
       " 'http://data.insideairbnb.com/united-states/ca/san-francisco/2018-07-05/data/calendar.csv.gz',\n",
       " 'http://data.insideairbnb.com/united-states/ca/san-francisco/2018-07-05/data/reviews.csv.gz',\n",
       " 'http://data.insideairbnb.com/united-states/ca/san-francisco/2018-07-05/visualisations/listings.csv',\n",
       " 'http://data.insideairbnb.com/united-states/ca/san-francisco/2018-07-05/visualisations/reviews.csv',\n",
       " 'http://data.insideairbnb.com/united-states/ca/san-francisco/2018-07-05/visualisations/neighbourhoods.csv',\n",
       " 'http://data.insideairbnb.com/united-states/ca/san-francisco/2018-07-05/visualisations/neighbourhoods.geojson',\n",
       " 'http://data.insideairbnb.com/united-states/ca/san-francisco/2018-05-09/data/listings.csv.gz',\n",
       " 'http://data.insideairbnb.com/united-states/ca/san-francisco/2018-05-09/data/calendar.csv.gz',\n",
       " 'http://data.insideairbnb.com/united-states/ca/san-francisco/2018-05-09/data/reviews.csv.gz',\n",
       " 'http://data.insideairbnb.com/united-states/ca/san-francisco/2018-05-09/visualisations/listings.csv',\n",
       " 'http://data.insideairbnb.com/united-states/ca/san-francisco/2018-05-09/visualisations/reviews.csv',\n",
       " 'http://data.insideairbnb.com/united-states/ca/san-francisco/2018-05-09/visualisations/neighbourhoods.csv',\n",
       " 'http://data.insideairbnb.com/united-states/ca/san-francisco/2018-05-09/visualisations/neighbourhoods.geojson',\n",
       " 'http://data.insideairbnb.com/united-states/ca/san-francisco/2018-04-06/data/listings.csv.gz',\n",
       " 'http://data.insideairbnb.com/united-states/ca/san-francisco/2018-04-06/data/calendar.csv.gz',\n",
       " 'http://data.insideairbnb.com/united-states/ca/san-francisco/2018-04-06/data/reviews.csv.gz',\n",
       " 'http://data.insideairbnb.com/united-states/ca/san-francisco/2018-04-06/visualisations/listings.csv',\n",
       " 'http://data.insideairbnb.com/united-states/ca/san-francisco/2018-04-06/visualisations/reviews.csv',\n",
       " 'http://data.insideairbnb.com/united-states/ca/san-francisco/2018-04-06/visualisations/neighbourhoods.csv',\n",
       " 'http://data.insideairbnb.com/united-states/ca/san-francisco/2018-04-06/visualisations/neighbourhoods.geojson',\n",
       " 'http://data.insideairbnb.com/united-states/ca/san-francisco/2018-03-04/data/listings.csv.gz',\n",
       " 'http://data.insideairbnb.com/united-states/ca/san-francisco/2018-03-04/data/calendar.csv.gz',\n",
       " 'http://data.insideairbnb.com/united-states/ca/san-francisco/2018-03-04/data/reviews.csv.gz',\n",
       " 'http://data.insideairbnb.com/united-states/ca/san-francisco/2018-03-04/visualisations/listings.csv',\n",
       " 'http://data.insideairbnb.com/united-states/ca/san-francisco/2018-03-04/visualisations/reviews.csv',\n",
       " 'http://data.insideairbnb.com/united-states/ca/san-francisco/2018-03-04/visualisations/neighbourhoods.csv',\n",
       " 'http://data.insideairbnb.com/united-states/ca/san-francisco/2018-03-04/visualisations/neighbourhoods.geojson',\n",
       " 'http://data.insideairbnb.com/united-states/ca/san-francisco/2018-02-02/data/listings.csv.gz',\n",
       " 'http://data.insideairbnb.com/united-states/ca/san-francisco/2018-02-02/data/calendar.csv.gz',\n",
       " 'http://data.insideairbnb.com/united-states/ca/san-francisco/2018-02-02/data/reviews.csv.gz',\n",
       " 'http://data.insideairbnb.com/united-states/ca/san-francisco/2018-02-02/visualisations/listings.csv',\n",
       " 'http://data.insideairbnb.com/united-states/ca/san-francisco/2018-02-02/visualisations/reviews.csv',\n",
       " 'http://data.insideairbnb.com/united-states/ca/san-francisco/2018-02-02/visualisations/neighbourhoods.csv',\n",
       " 'http://data.insideairbnb.com/united-states/ca/san-francisco/2018-02-02/visualisations/neighbourhoods.geojson',\n",
       " 'http://data.insideairbnb.com/united-states/ca/san-francisco/2018-01-17/data/listings.csv.gz',\n",
       " 'http://data.insideairbnb.com/united-states/ca/san-francisco/2018-01-17/data/calendar.csv.gz',\n",
       " 'http://data.insideairbnb.com/united-states/ca/san-francisco/2018-01-17/data/reviews.csv.gz',\n",
       " 'http://data.insideairbnb.com/united-states/ca/san-francisco/2018-01-17/visualisations/listings.csv',\n",
       " 'http://data.insideairbnb.com/united-states/ca/san-francisco/2018-01-17/visualisations/reviews.csv',\n",
       " 'http://data.insideairbnb.com/united-states/ca/san-francisco/2018-01-17/visualisations/neighbourhoods.csv',\n",
       " 'http://data.insideairbnb.com/united-states/ca/san-francisco/2018-01-17/visualisations/neighbourhoods.geojson',\n",
       " 'http://data.insideairbnb.com/united-states/ca/san-francisco/2018-01-10/data/listings.csv.gz',\n",
       " 'http://data.insideairbnb.com/united-states/ca/san-francisco/2018-01-10/data/calendar.csv.gz',\n",
       " 'http://data.insideairbnb.com/united-states/ca/san-francisco/2018-01-10/data/reviews.csv.gz',\n",
       " 'http://data.insideairbnb.com/united-states/ca/san-francisco/2018-01-10/visualisations/listings.csv',\n",
       " 'http://data.insideairbnb.com/united-states/ca/san-francisco/2018-01-10/visualisations/reviews.csv',\n",
       " 'http://data.insideairbnb.com/united-states/ca/san-francisco/2018-01-10/visualisations/neighbourhoods.csv',\n",
       " 'http://data.insideairbnb.com/united-states/ca/san-francisco/2018-01-10/visualisations/neighbourhoods.geojson',\n",
       " 'http://data.insideairbnb.com/united-states/ca/san-francisco/2017-12-07/data/listings.csv.gz',\n",
       " 'http://data.insideairbnb.com/united-states/ca/san-francisco/2017-12-07/data/calendar.csv.gz',\n",
       " 'http://data.insideairbnb.com/united-states/ca/san-francisco/2017-12-07/data/reviews.csv.gz',\n",
       " 'http://data.insideairbnb.com/united-states/ca/san-francisco/2017-12-07/visualisations/listings.csv',\n",
       " 'http://data.insideairbnb.com/united-states/ca/san-francisco/2017-12-07/visualisations/reviews.csv',\n",
       " 'http://data.insideairbnb.com/united-states/ca/san-francisco/2017-12-07/visualisations/neighbourhoods.csv',\n",
       " 'http://data.insideairbnb.com/united-states/ca/san-francisco/2017-12-07/visualisations/neighbourhoods.geojson',\n",
       " 'http://data.insideairbnb.com/united-states/ca/san-francisco/2017-12-02/data/listings.csv.gz',\n",
       " 'http://data.insideairbnb.com/united-states/ca/san-francisco/2017-12-02/data/calendar.csv.gz',\n",
       " 'http://data.insideairbnb.com/united-states/ca/san-francisco/2017-12-02/data/reviews.csv.gz',\n",
       " 'http://data.insideairbnb.com/united-states/ca/san-francisco/2017-12-02/visualisations/listings.csv',\n",
       " 'http://data.insideairbnb.com/united-states/ca/san-francisco/2017-12-02/visualisations/reviews.csv',\n",
       " 'http://data.insideairbnb.com/united-states/ca/san-francisco/2017-12-02/visualisations/neighbourhoods.csv',\n",
       " 'http://data.insideairbnb.com/united-states/ca/san-francisco/2017-12-02/visualisations/neighbourhoods.geojson',\n",
       " 'http://data.insideairbnb.com/united-states/ca/san-francisco/2017-11-08/data/listings.csv.gz',\n",
       " 'http://data.insideairbnb.com/united-states/ca/san-francisco/2017-11-08/data/calendar.csv.gz',\n",
       " 'http://data.insideairbnb.com/united-states/ca/san-francisco/2017-11-08/data/reviews.csv.gz',\n",
       " 'http://data.insideairbnb.com/united-states/ca/san-francisco/2017-11-08/visualisations/listings.csv',\n",
       " 'http://data.insideairbnb.com/united-states/ca/san-francisco/2017-11-08/visualisations/reviews.csv',\n",
       " 'http://data.insideairbnb.com/united-states/ca/san-francisco/2017-11-08/visualisations/neighbourhoods.csv',\n",
       " 'http://data.insideairbnb.com/united-states/ca/san-francisco/2017-11-08/visualisations/neighbourhoods.geojson',\n",
       " 'http://data.insideairbnb.com/united-states/ca/san-francisco/2017-11-01/data/listings.csv.gz',\n",
       " 'http://data.insideairbnb.com/united-states/ca/san-francisco/2017-11-01/data/calendar.csv.gz',\n",
       " 'http://data.insideairbnb.com/united-states/ca/san-francisco/2017-11-01/data/reviews.csv.gz',\n",
       " 'http://data.insideairbnb.com/united-states/ca/san-francisco/2017-11-01/visualisations/listings.csv',\n",
       " 'http://data.insideairbnb.com/united-states/ca/san-francisco/2017-11-01/visualisations/reviews.csv',\n",
       " 'http://data.insideairbnb.com/united-states/ca/san-francisco/2017-11-01/visualisations/neighbourhoods.csv',\n",
       " 'http://data.insideairbnb.com/united-states/ca/san-francisco/2017-11-01/visualisations/neighbourhoods.geojson',\n",
       " 'http://data.insideairbnb.com/united-states/ca/san-francisco/2017-10-02/data/listings.csv.gz',\n",
       " 'http://data.insideairbnb.com/united-states/ca/san-francisco/2017-10-02/data/calendar.csv.gz',\n",
       " 'http://data.insideairbnb.com/united-states/ca/san-francisco/2017-10-02/data/reviews.csv.gz',\n",
       " 'http://data.insideairbnb.com/united-states/ca/san-francisco/2017-10-02/visualisations/listings.csv',\n",
       " 'http://data.insideairbnb.com/united-states/ca/san-francisco/2017-10-02/visualisations/reviews.csv',\n",
       " 'http://data.insideairbnb.com/united-states/ca/san-francisco/2017-10-02/visualisations/neighbourhoods.csv',\n",
       " 'http://data.insideairbnb.com/united-states/ca/san-francisco/2017-10-02/visualisations/neighbourhoods.geojson',\n",
       " 'http://data.insideairbnb.com/united-states/ca/san-francisco/2017-09-02/data/listings.csv.gz',\n",
       " 'http://data.insideairbnb.com/united-states/ca/san-francisco/2017-09-02/data/calendar.csv.gz',\n",
       " 'http://data.insideairbnb.com/united-states/ca/san-francisco/2017-09-02/data/reviews.csv.gz',\n",
       " 'http://data.insideairbnb.com/united-states/ca/san-francisco/2017-09-02/visualisations/listings.csv',\n",
       " 'http://data.insideairbnb.com/united-states/ca/san-francisco/2017-09-02/visualisations/reviews.csv',\n",
       " 'http://data.insideairbnb.com/united-states/ca/san-francisco/2017-09-02/visualisations/neighbourhoods.csv',\n",
       " 'http://data.insideairbnb.com/united-states/ca/san-francisco/2017-09-02/visualisations/neighbourhoods.geojson',\n",
       " 'http://data.insideairbnb.com/united-states/ca/san-francisco/2017-08-02/data/listings.csv.gz',\n",
       " 'http://data.insideairbnb.com/united-states/ca/san-francisco/2017-08-02/data/calendar.csv.gz',\n",
       " 'http://data.insideairbnb.com/united-states/ca/san-francisco/2017-08-02/data/reviews.csv.gz',\n",
       " 'http://data.insideairbnb.com/united-states/ca/san-francisco/2017-08-02/visualisations/listings.csv',\n",
       " 'http://data.insideairbnb.com/united-states/ca/san-francisco/2017-08-02/visualisations/reviews.csv',\n",
       " 'http://data.insideairbnb.com/united-states/ca/san-francisco/2017-08-02/visualisations/neighbourhoods.csv',\n",
       " 'http://data.insideairbnb.com/united-states/ca/san-francisco/2017-08-02/visualisations/neighbourhoods.geojson',\n",
       " 'http://data.insideairbnb.com/united-states/ca/san-francisco/2017-07-02/data/listings.csv.gz',\n",
       " 'http://data.insideairbnb.com/united-states/ca/san-francisco/2017-07-02/data/calendar.csv.gz',\n",
       " 'http://data.insideairbnb.com/united-states/ca/san-francisco/2017-07-02/data/reviews.csv.gz',\n",
       " 'http://data.insideairbnb.com/united-states/ca/san-francisco/2017-07-02/visualisations/listings.csv',\n",
       " 'http://data.insideairbnb.com/united-states/ca/san-francisco/2017-07-02/visualisations/reviews.csv',\n",
       " 'http://data.insideairbnb.com/united-states/ca/san-francisco/2017-07-02/visualisations/neighbourhoods.csv',\n",
       " 'http://data.insideairbnb.com/united-states/ca/san-francisco/2017-07-02/visualisations/neighbourhoods.geojson',\n",
       " 'http://data.insideairbnb.com/united-states/ca/san-francisco/2017-06-02/data/listings.csv.gz',\n",
       " 'http://data.insideairbnb.com/united-states/ca/san-francisco/2017-06-02/data/calendar.csv.gz',\n",
       " 'http://data.insideairbnb.com/united-states/ca/san-francisco/2017-06-02/data/reviews.csv.gz',\n",
       " 'http://data.insideairbnb.com/united-states/ca/san-francisco/2017-06-02/visualisations/listings.csv',\n",
       " 'http://data.insideairbnb.com/united-states/ca/san-francisco/2017-06-02/visualisations/reviews.csv',\n",
       " 'http://data.insideairbnb.com/united-states/ca/san-francisco/2017-06-02/visualisations/neighbourhoods.csv',\n",
       " 'http://data.insideairbnb.com/united-states/ca/san-francisco/2017-06-02/visualisations/neighbourhoods.geojson',\n",
       " 'http://data.insideairbnb.com/united-states/ca/san-francisco/2017-05-02/data/listings.csv.gz',\n",
       " 'http://data.insideairbnb.com/united-states/ca/san-francisco/2017-05-02/data/calendar.csv.gz',\n",
       " 'http://data.insideairbnb.com/united-states/ca/san-francisco/2017-05-02/data/reviews.csv.gz',\n",
       " 'http://data.insideairbnb.com/united-states/ca/san-francisco/2017-05-02/visualisations/listings.csv',\n",
       " 'http://data.insideairbnb.com/united-states/ca/san-francisco/2017-05-02/visualisations/reviews.csv',\n",
       " 'http://data.insideairbnb.com/united-states/ca/san-francisco/2017-05-02/visualisations/neighbourhoods.csv',\n",
       " 'http://data.insideairbnb.com/united-states/ca/san-francisco/2017-05-02/visualisations/neighbourhoods.geojson',\n",
       " 'http://data.insideairbnb.com/united-states/ca/san-francisco/2017-04-02/data/listings.csv.gz',\n",
       " 'http://data.insideairbnb.com/united-states/ca/san-francisco/2017-04-02/data/calendar.csv.gz',\n",
       " 'http://data.insideairbnb.com/united-states/ca/san-francisco/2017-04-02/data/reviews.csv.gz',\n",
       " 'http://data.insideairbnb.com/united-states/ca/san-francisco/2017-04-02/visualisations/listings.csv',\n",
       " 'http://data.insideairbnb.com/united-states/ca/san-francisco/2017-04-02/visualisations/reviews.csv',\n",
       " 'http://data.insideairbnb.com/united-states/ca/san-francisco/2017-04-02/visualisations/neighbourhoods.csv',\n",
       " 'http://data.insideairbnb.com/united-states/ca/san-francisco/2017-04-02/visualisations/neighbourhoods.geojson',\n",
       " 'http://data.insideairbnb.com/united-states/ca/san-francisco/2017-03-02/data/listings.csv.gz',\n",
       " 'http://data.insideairbnb.com/united-states/ca/san-francisco/2017-03-02/data/calendar.csv.gz',\n",
       " 'http://data.insideairbnb.com/united-states/ca/san-francisco/2017-03-02/data/reviews.csv.gz',\n",
       " 'http://data.insideairbnb.com/united-states/ca/san-francisco/2017-03-02/visualisations/listings.csv',\n",
       " 'http://data.insideairbnb.com/united-states/ca/san-francisco/2017-03-02/visualisations/reviews.csv',\n",
       " 'http://data.insideairbnb.com/united-states/ca/san-francisco/2017-03-02/visualisations/neighbourhoods.csv',\n",
       " 'http://data.insideairbnb.com/united-states/ca/san-francisco/2017-03-02/visualisations/neighbourhoods.geojson',\n",
       " 'http://data.insideairbnb.com/united-states/ca/san-francisco/2017-02-02/data/listings.csv.gz',\n",
       " 'http://data.insideairbnb.com/united-states/ca/san-francisco/2017-02-02/data/calendar.csv.gz',\n",
       " 'http://data.insideairbnb.com/united-states/ca/san-francisco/2017-02-02/data/reviews.csv.gz',\n",
       " 'http://data.insideairbnb.com/united-states/ca/san-francisco/2017-02-02/visualisations/listings.csv',\n",
       " 'http://data.insideairbnb.com/united-states/ca/san-francisco/2017-02-02/visualisations/reviews.csv',\n",
       " 'http://data.insideairbnb.com/united-states/ca/san-francisco/2017-02-02/visualisations/neighbourhoods.csv',\n",
       " 'http://data.insideairbnb.com/united-states/ca/san-francisco/2017-02-02/visualisations/neighbourhoods.geojson',\n",
       " 'http://data.insideairbnb.com/united-states/ca/san-francisco/2017-01-01/data/listings.csv.gz',\n",
       " 'http://data.insideairbnb.com/united-states/ca/san-francisco/2017-01-01/data/calendar.csv.gz',\n",
       " 'http://data.insideairbnb.com/united-states/ca/san-francisco/2017-01-01/data/reviews.csv.gz',\n",
       " 'http://data.insideairbnb.com/united-states/ca/san-francisco/2017-01-01/visualisations/listings.csv',\n",
       " 'http://data.insideairbnb.com/united-states/ca/san-francisco/2017-01-01/visualisations/reviews.csv',\n",
       " 'http://data.insideairbnb.com/united-states/ca/san-francisco/2017-01-01/visualisations/neighbourhoods.csv',\n",
       " 'http://data.insideairbnb.com/united-states/ca/san-francisco/2017-01-01/visualisations/neighbourhoods.geojson',\n",
       " 'http://data.insideairbnb.com/united-states/ca/san-francisco/2016-12-03/data/listings.csv.gz',\n",
       " 'http://data.insideairbnb.com/united-states/ca/san-francisco/2016-12-03/data/calendar.csv.gz',\n",
       " 'http://data.insideairbnb.com/united-states/ca/san-francisco/2016-12-03/data/reviews.csv.gz',\n",
       " 'http://data.insideairbnb.com/united-states/ca/san-francisco/2016-12-03/visualisations/listings.csv',\n",
       " 'http://data.insideairbnb.com/united-states/ca/san-francisco/2016-12-03/visualisations/reviews.csv',\n",
       " 'http://data.insideairbnb.com/united-states/ca/san-francisco/2016-12-03/visualisations/neighbourhoods.csv',\n",
       " 'http://data.insideairbnb.com/united-states/ca/san-francisco/2016-12-03/visualisations/neighbourhoods.geojson',\n",
       " 'http://data.insideairbnb.com/united-states/ca/san-francisco/2016-11-02/data/listings.csv.gz',\n",
       " 'http://data.insideairbnb.com/united-states/ca/san-francisco/2016-11-02/data/calendar.csv.gz',\n",
       " 'http://data.insideairbnb.com/united-states/ca/san-francisco/2016-11-02/data/reviews.csv.gz',\n",
       " 'http://data.insideairbnb.com/united-states/ca/san-francisco/2016-11-02/visualisations/listings.csv',\n",
       " 'http://data.insideairbnb.com/united-states/ca/san-francisco/2016-11-02/visualisations/reviews.csv',\n",
       " 'http://data.insideairbnb.com/united-states/ca/san-francisco/2016-11-02/visualisations/neighbourhoods.csv',\n",
       " 'http://data.insideairbnb.com/united-states/ca/san-francisco/2016-11-02/visualisations/neighbourhoods.geojson',\n",
       " 'http://data.insideairbnb.com/united-states/ca/san-francisco/2016-10-01/data/listings.csv.gz',\n",
       " 'http://data.insideairbnb.com/united-states/ca/san-francisco/2016-10-01/data/calendar.csv.gz',\n",
       " 'http://data.insideairbnb.com/united-states/ca/san-francisco/2016-10-01/data/reviews.csv.gz',\n",
       " 'http://data.insideairbnb.com/united-states/ca/san-francisco/2016-10-01/visualisations/listings.csv',\n",
       " 'http://data.insideairbnb.com/united-states/ca/san-francisco/2016-10-01/visualisations/reviews.csv',\n",
       " 'http://data.insideairbnb.com/united-states/ca/san-francisco/2016-10-01/visualisations/neighbourhoods.csv',\n",
       " 'http://data.insideairbnb.com/united-states/ca/san-francisco/2016-10-01/visualisations/neighbourhoods.geojson',\n",
       " 'http://data.insideairbnb.com/united-states/ca/san-francisco/2016-09-02/data/listings.csv.gz',\n",
       " 'http://data.insideairbnb.com/united-states/ca/san-francisco/2016-09-02/data/calendar.csv.gz',\n",
       " 'http://data.insideairbnb.com/united-states/ca/san-francisco/2016-09-02/data/reviews.csv.gz',\n",
       " 'http://data.insideairbnb.com/united-states/ca/san-francisco/2016-09-02/visualisations/listings.csv',\n",
       " 'http://data.insideairbnb.com/united-states/ca/san-francisco/2016-09-02/visualisations/reviews.csv',\n",
       " 'http://data.insideairbnb.com/united-states/ca/san-francisco/2016-09-02/visualisations/neighbourhoods.csv',\n",
       " 'http://data.insideairbnb.com/united-states/ca/san-francisco/2016-09-02/visualisations/neighbourhoods.geojson',\n",
       " 'http://data.insideairbnb.com/united-states/ca/san-francisco/2016-08-02/data/listings.csv.gz',\n",
       " 'http://data.insideairbnb.com/united-states/ca/san-francisco/2016-08-02/data/calendar.csv.gz',\n",
       " 'http://data.insideairbnb.com/united-states/ca/san-francisco/2016-08-02/data/reviews.csv.gz',\n",
       " 'http://data.insideairbnb.com/united-states/ca/san-francisco/2016-08-02/visualisations/listings.csv',\n",
       " 'http://data.insideairbnb.com/united-states/ca/san-francisco/2016-08-02/visualisations/reviews.csv',\n",
       " 'http://data.insideairbnb.com/united-states/ca/san-francisco/2016-08-02/visualisations/neighbourhoods.csv',\n",
       " 'http://data.insideairbnb.com/united-states/ca/san-francisco/2016-08-02/visualisations/neighbourhoods.geojson',\n",
       " 'http://data.insideairbnb.com/united-states/ca/san-francisco/2016-07-02/data/listings.csv.gz',\n",
       " 'http://data.insideairbnb.com/united-states/ca/san-francisco/2016-07-02/data/calendar.csv.gz',\n",
       " 'http://data.insideairbnb.com/united-states/ca/san-francisco/2016-07-02/data/reviews.csv.gz',\n",
       " 'http://data.insideairbnb.com/united-states/ca/san-francisco/2016-07-02/visualisations/listings.csv',\n",
       " 'http://data.insideairbnb.com/united-states/ca/san-francisco/2016-07-02/visualisations/reviews.csv',\n",
       " 'http://data.insideairbnb.com/united-states/ca/san-francisco/2016-07-02/visualisations/neighbourhoods.csv',\n",
       " 'http://data.insideairbnb.com/united-states/ca/san-francisco/2016-07-02/visualisations/neighbourhoods.geojson',\n",
       " 'http://data.insideairbnb.com/united-states/ca/san-francisco/2016-06-02/data/listings.csv.gz',\n",
       " 'http://data.insideairbnb.com/united-states/ca/san-francisco/2016-06-02/data/calendar.csv.gz',\n",
       " 'http://data.insideairbnb.com/united-states/ca/san-francisco/2016-06-02/data/reviews.csv.gz',\n",
       " 'http://data.insideairbnb.com/united-states/ca/san-francisco/2016-06-02/visualisations/listings.csv',\n",
       " 'http://data.insideairbnb.com/united-states/ca/san-francisco/2016-06-02/visualisations/reviews.csv',\n",
       " 'http://data.insideairbnb.com/united-states/ca/san-francisco/2016-06-02/visualisations/neighbourhoods.csv',\n",
       " 'http://data.insideairbnb.com/united-states/ca/san-francisco/2016-06-02/visualisations/neighbourhoods.geojson',\n",
       " 'http://data.insideairbnb.com/united-states/ca/san-francisco/2016-05-02/data/listings.csv.gz',\n",
       " 'http://data.insideairbnb.com/united-states/ca/san-francisco/2016-05-02/data/calendar.csv.gz',\n",
       " 'http://data.insideairbnb.com/united-states/ca/san-francisco/2016-05-02/data/reviews.csv.gz',\n",
       " 'http://data.insideairbnb.com/united-states/ca/san-francisco/2016-05-02/visualisations/listings.csv',\n",
       " 'http://data.insideairbnb.com/united-states/ca/san-francisco/2016-05-02/visualisations/reviews.csv',\n",
       " 'http://data.insideairbnb.com/united-states/ca/san-francisco/2016-05-02/visualisations/neighbourhoods.csv',\n",
       " 'http://data.insideairbnb.com/united-states/ca/san-francisco/2016-05-02/visualisations/neighbourhoods.geojson',\n",
       " 'http://data.insideairbnb.com/united-states/ca/san-francisco/2016-04-03/data/listings.csv.gz',\n",
       " 'http://data.insideairbnb.com/united-states/ca/san-francisco/2016-04-03/data/calendar.csv.gz',\n",
       " 'http://data.insideairbnb.com/united-states/ca/san-francisco/2016-04-03/data/reviews.csv.gz',\n",
       " 'http://data.insideairbnb.com/united-states/ca/san-francisco/2016-04-03/visualisations/listings.csv',\n",
       " 'http://data.insideairbnb.com/united-states/ca/san-francisco/2016-04-03/visualisations/reviews.csv',\n",
       " 'http://data.insideairbnb.com/united-states/ca/san-francisco/2016-04-03/visualisations/neighbourhoods.csv',\n",
       " 'http://data.insideairbnb.com/united-states/ca/san-francisco/2016-04-03/visualisations/neighbourhoods.geojson',\n",
       " 'http://data.insideairbnb.com/united-states/ca/san-francisco/2016-02-02/data/listings.csv.gz',\n",
       " 'http://data.insideairbnb.com/united-states/ca/san-francisco/2016-02-02/data/calendar.csv.gz',\n",
       " 'http://data.insideairbnb.com/united-states/ca/san-francisco/2016-02-02/data/reviews.csv.gz',\n",
       " 'http://data.insideairbnb.com/united-states/ca/san-francisco/2016-02-02/visualisations/listings.csv',\n",
       " 'http://data.insideairbnb.com/united-states/ca/san-francisco/2016-02-02/visualisations/reviews.csv',\n",
       " 'http://data.insideairbnb.com/united-states/ca/san-francisco/2016-02-02/visualisations/neighbourhoods.csv',\n",
       " 'http://data.insideairbnb.com/united-states/ca/san-francisco/2016-02-02/visualisations/neighbourhoods.geojson',\n",
       " 'http://data.insideairbnb.com/united-states/ca/san-francisco/2015-12-02/data/listings.csv.gz',\n",
       " 'http://data.insideairbnb.com/united-states/ca/san-francisco/2015-12-02/data/calendar.csv.gz',\n",
       " 'http://data.insideairbnb.com/united-states/ca/san-francisco/2015-12-02/data/reviews.csv.gz',\n",
       " 'http://data.insideairbnb.com/united-states/ca/san-francisco/2015-12-02/visualisations/listings.csv',\n",
       " 'http://data.insideairbnb.com/united-states/ca/san-francisco/2015-12-02/visualisations/reviews.csv',\n",
       " 'http://data.insideairbnb.com/united-states/ca/san-francisco/2015-12-02/visualisations/neighbourhoods.csv',\n",
       " 'http://data.insideairbnb.com/united-states/ca/san-francisco/2015-12-02/visualisations/neighbourhoods.geojson',\n",
       " 'http://data.insideairbnb.com/united-states/ca/san-francisco/2015-11-01/data/listings.csv.gz',\n",
       " 'http://data.insideairbnb.com/united-states/ca/san-francisco/2015-11-01/data/calendar.csv.gz',\n",
       " 'http://data.insideairbnb.com/united-states/ca/san-francisco/2015-11-01/data/reviews.csv.gz',\n",
       " 'http://data.insideairbnb.com/united-states/ca/san-francisco/2015-11-01/visualisations/listings.csv',\n",
       " 'http://data.insideairbnb.com/united-states/ca/san-francisco/2015-11-01/visualisations/reviews.csv',\n",
       " 'http://data.insideairbnb.com/united-states/ca/san-francisco/2015-11-01/visualisations/neighbourhoods.csv',\n",
       " 'http://data.insideairbnb.com/united-states/ca/san-francisco/2015-11-01/visualisations/neighbourhoods.geojson',\n",
       " 'http://data.insideairbnb.com/united-states/ca/san-francisco/2015-09-02/data/listings.csv.gz',\n",
       " 'http://data.insideairbnb.com/united-states/ca/san-francisco/2015-09-02/data/calendar.csv.gz',\n",
       " 'http://data.insideairbnb.com/united-states/ca/san-francisco/2015-09-02/data/reviews.csv.gz',\n",
       " 'http://data.insideairbnb.com/united-states/ca/san-francisco/2015-09-02/visualisations/listings.csv',\n",
       " 'http://data.insideairbnb.com/united-states/ca/san-francisco/2015-09-02/visualisations/reviews.csv',\n",
       " 'http://data.insideairbnb.com/united-states/ca/san-francisco/2015-09-02/visualisations/neighbourhoods.csv',\n",
       " 'http://data.insideairbnb.com/united-states/ca/san-francisco/2015-09-02/visualisations/neighbourhoods.geojson',\n",
       " 'http://data.insideairbnb.com/united-states/ca/san-francisco/2015-05-04/data/listings.csv.gz',\n",
       " 'http://data.insideairbnb.com/united-states/ca/san-francisco/2015-05-04/data/calendar.csv.gz',\n",
       " 'http://data.insideairbnb.com/united-states/ca/san-francisco/2015-05-04/data/reviews.csv.gz',\n",
       " 'http://data.insideairbnb.com/united-states/ca/san-francisco/2015-05-04/visualisations/listings.csv',\n",
       " 'http://data.insideairbnb.com/united-states/ca/san-francisco/2015-05-04/visualisations/reviews.csv',\n",
       " 'http://data.insideairbnb.com/united-states/ca/san-francisco/2015-05-04/visualisations/neighbourhoods.csv',\n",
       " 'http://data.insideairbnb.com/united-states/ca/san-francisco/2015-05-04/visualisations/neighbourhoods.geojson']"
      ]
     },
     "execution_count": 8,
     "metadata": {},
     "output_type": "execute_result"
    }
   ],
   "source": [
    "url"
   ]
  },
  {
   "cell_type": "markdown",
   "metadata": {},
   "source": [
    "### Listing Data Collection \n",
    "\n",
    "---"
   ]
  },
  {
   "cell_type": "code",
   "execution_count": 12,
   "metadata": {},
   "outputs": [],
   "source": [
    "listings = []\n",
    "for link in url: \n",
    "    if link[-15:-7] == \"listings\":\n",
    "        listings.append(link)"
   ]
  },
  {
   "cell_type": "code",
   "execution_count": 13,
   "metadata": {},
   "outputs": [
    {
     "data": {
      "text/plain": [
       "'2019-03-06_data_listings.csv'"
      ]
     },
     "execution_count": 13,
     "metadata": {},
     "output_type": "execute_result"
    }
   ],
   "source": [
    "listings[0][60:][:-3].replace('/','_')"
   ]
  },
  {
   "cell_type": "code",
   "execution_count": 14,
   "metadata": {},
   "outputs": [],
   "source": [
    "import gzip\n",
    "import urllib.request"
   ]
  },
  {
   "cell_type": "code",
   "execution_count": 16,
   "metadata": {},
   "outputs": [],
   "source": [
    "for i in listings:\n",
    "    baseURL = \"http://data.insideairbnb.com/united-states/ca/san-francisco/\"\n",
    "    filename = f'{i[60:]}'\n",
    "    outFilePath = './data/listings/' + filename[:-3].replace('/','_')\n",
    "    response = urllib.request.urlopen(baseURL + filename)\n",
    "    with open(outFilePath, 'wb') as outfile:\n",
    "        outfile.write(gzip.decompress(response.read()))"
   ]
  },
  {
   "cell_type": "markdown",
   "metadata": {},
   "source": [
    "### Review Data Collection\n",
    "---"
   ]
  },
  {
   "cell_type": "code",
   "execution_count": 19,
   "metadata": {},
   "outputs": [],
   "source": [
    "reviews = []\n",
    "for link in url: \n",
    "    if link[-14:-7] == \"reviews\":\n",
    "        reviews.append(link)"
   ]
  },
  {
   "cell_type": "code",
   "execution_count": 17,
   "metadata": {},
   "outputs": [
    {
     "data": {
      "text/plain": [
       "'http://data.insideairbnb.com/united-states/ca/san-francisco/'"
      ]
     },
     "execution_count": 17,
     "metadata": {},
     "output_type": "execute_result"
    }
   ],
   "source": [
    "reviews[0][:60]"
   ]
  },
  {
   "cell_type": "code",
   "execution_count": 18,
   "metadata": {},
   "outputs": [
    {
     "data": {
      "text/plain": [
       "'2019-03-06_data_reviews.csv'"
      ]
     },
     "execution_count": 18,
     "metadata": {},
     "output_type": "execute_result"
    }
   ],
   "source": [
    "reviews[0][60:][:-3].replace('/','_')"
   ]
  },
  {
   "cell_type": "code",
   "execution_count": 46,
   "metadata": {},
   "outputs": [
    {
     "data": {
      "text/plain": [
       "43"
      ]
     },
     "execution_count": 46,
     "metadata": {},
     "output_type": "execute_result"
    }
   ],
   "source": [
    "len(reviews)"
   ]
  },
  {
   "cell_type": "code",
   "execution_count": 21,
   "metadata": {},
   "outputs": [
    {
     "name": "stdout",
     "output_type": "stream",
     "text": [
      "CPU times: user 29.3 s, sys: 10.4 s, total: 39.6 s\n",
      "Wall time: 3min 57s\n"
     ]
    }
   ],
   "source": [
    "%%time \n",
    "for i in reviews:\n",
    "    baseURL = \"http://data.insideairbnb.com/united-states/ca/san-francisco/\"\n",
    "    filename = f'{i[60:]}'\n",
    "    outFilePath = './data/reviews/' + filename[:-3].replace('/','_')\n",
    "    response = urllib.request.urlopen(baseURL + filename)\n",
    "    with open(outFilePath, 'wb') as outfile:\n",
    "        outfile.write(gzip.decompress(response.read()))"
   ]
  },
  {
   "cell_type": "markdown",
   "metadata": {},
   "source": [
    "### Calender Data Collection "
   ]
  },
  {
   "cell_type": "code",
   "execution_count": 43,
   "metadata": {},
   "outputs": [
    {
     "data": {
      "text/plain": [
       "'calendar'"
      ]
     },
     "execution_count": 43,
     "metadata": {},
     "output_type": "execute_result"
    }
   ],
   "source": [
    "url[1][-15:-7]"
   ]
  },
  {
   "cell_type": "code",
   "execution_count": 44,
   "metadata": {},
   "outputs": [],
   "source": [
    "calenders = []\n",
    "for link in url: \n",
    "    if link[-15:-7] == \"calendar\":\n",
    "        calenders.append(link)"
   ]
  },
  {
   "cell_type": "code",
   "execution_count": 47,
   "metadata": {},
   "outputs": [
    {
     "data": {
      "text/plain": [
       "43"
      ]
     },
     "execution_count": 47,
     "metadata": {},
     "output_type": "execute_result"
    }
   ],
   "source": [
    "len(calenders)"
   ]
  },
  {
   "cell_type": "code",
   "execution_count": 48,
   "metadata": {},
   "outputs": [
    {
     "data": {
      "text/plain": [
       "'2019-03-06/data/calendar.csv.gz'"
      ]
     },
     "execution_count": 48,
     "metadata": {},
     "output_type": "execute_result"
    }
   ],
   "source": [
    "calenders[0][60:]"
   ]
  },
  {
   "cell_type": "code",
   "execution_count": 49,
   "metadata": {},
   "outputs": [
    {
     "name": "stdout",
     "output_type": "stream",
     "text": [
      "CPU times: user 10.7 s, sys: 3.49 s, total: 14.2 s\n",
      "Wall time: 1min 25s\n"
     ]
    }
   ],
   "source": [
    "%%time \n",
    "for i in calenders:\n",
    "    baseURL = \"http://data.insideairbnb.com/united-states/ca/san-francisco/\"\n",
    "    filename = f'{i[60:]}'\n",
    "    outFilePath = './data/calenders/' + filename[:-3].replace('/','_')\n",
    "    response = urllib.request.urlopen(baseURL + filename)\n",
    "    with open(outFilePath, 'wb') as outfile:\n",
    "        outfile.write(gzip.decompress(response.read()))"
   ]
  },
  {
   "cell_type": "code",
   "execution_count": null,
   "metadata": {},
   "outputs": [],
   "source": []
  }
 ],
 "metadata": {
  "kernelspec": {
   "display_name": "Python 3",
   "language": "python",
   "name": "python3"
  },
  "language_info": {
   "codemirror_mode": {
    "name": "ipython",
    "version": 3
   },
   "file_extension": ".py",
   "mimetype": "text/x-python",
   "name": "python",
   "nbconvert_exporter": "python",
   "pygments_lexer": "ipython3",
   "version": "3.7.1"
  }
 },
 "nbformat": 4,
 "nbformat_minor": 2
}
