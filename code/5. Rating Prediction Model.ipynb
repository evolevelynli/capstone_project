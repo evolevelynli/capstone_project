{
 "cells": [
  {
   "cell_type": "markdown",
   "metadata": {},
   "source": [
    "# Capstone Project: Comment Subtopics Analysis for Airbnb Hosts\n",
    "---"
   ]
  },
  {
   "cell_type": "markdown",
   "metadata": {},
   "source": [
    "How can a host on Airbnb understand that are their strengths and weaknesses? How can hosts point out the demand trend of their customers from a large scale of comments? This project focuses on using machine learning tools to help hosts understand the underlying trends of the comments on their property.  \n",
    "\n",
    "---"
   ]
  },
  {
   "cell_type": "markdown",
   "metadata": {
    "toc": true
   },
   "source": [
    "<h1>Table of Contents<span class=\"tocSkip\"></span></h1>\n",
    "<div class=\"toc\"><ul class=\"toc-item\"><li><span><a href=\"#Capstone-Project:-Comment-Subtopics-Analysis-for-Airbnb-Hosts\" data-toc-modified-id=\"Capstone-Project:-Comment-Subtopics-Analysis-for-Airbnb-Hosts-1\"><span class=\"toc-item-num\">1&nbsp;&nbsp;</span>Capstone Project: Comment Subtopics Analysis for Airbnb Hosts</a></span></li><li><span><a href=\"#Part-5:-Use-Comments-to-Predict-Star-Ratings-For-Each-Host\" data-toc-modified-id=\"Part-5:-Use-Comments-to-Predict-Star-Ratings-For-Each-Host-2\"><span class=\"toc-item-num\">2&nbsp;&nbsp;</span>Part 5: Use Comments to Predict Star Ratings For Each Host</a></span><ul class=\"toc-item\"><li><ul class=\"toc-item\"><li><span><a href=\"#Steps\" data-toc-modified-id=\"Steps-2.0.1\"><span class=\"toc-item-num\">2.0.1&nbsp;&nbsp;</span>Steps</a></span></li></ul></li><li><span><a href=\"#Creating-individual-Corpus-For-Each-Listings\" data-toc-modified-id=\"Creating-individual-Corpus-For-Each-Listings-2.1\"><span class=\"toc-item-num\">2.1&nbsp;&nbsp;</span>Creating individual Corpus For Each Listings</a></span></li><li><span><a href=\"#Cleaning-Comments\" data-toc-modified-id=\"Cleaning-Comments-2.2\"><span class=\"toc-item-num\">2.2&nbsp;&nbsp;</span>Cleaning Comments</a></span></li><li><span><a href=\"#Train-Test-Split\" data-toc-modified-id=\"Train-Test-Split-2.3\"><span class=\"toc-item-num\">2.3&nbsp;&nbsp;</span>Train Test Split</a></span><ul class=\"toc-item\"><li><span><a href=\"#with-CountVectorizer\" data-toc-modified-id=\"with-CountVectorizer-2.3.1\"><span class=\"toc-item-num\">2.3.1&nbsp;&nbsp;</span>with CountVectorizer</a></span></li><li><span><a href=\"#with-TFIDF\" data-toc-modified-id=\"with-TFIDF-2.3.2\"><span class=\"toc-item-num\">2.3.2&nbsp;&nbsp;</span>with TFIDF</a></span></li></ul></li><li><span><a href=\"#Power-Transformer\" data-toc-modified-id=\"Power-Transformer-2.4\"><span class=\"toc-item-num\">2.4&nbsp;&nbsp;</span>Power Transformer</a></span></li><li><span><a href=\"#Building-Baseline-Model\" data-toc-modified-id=\"Building-Baseline-Model-2.5\"><span class=\"toc-item-num\">2.5&nbsp;&nbsp;</span>Building Baseline Model</a></span><ul class=\"toc-item\"><li><span><a href=\"#Linear-Regression\" data-toc-modified-id=\"Linear-Regression-2.5.1\"><span class=\"toc-item-num\">2.5.1&nbsp;&nbsp;</span>Linear Regression</a></span></li><li><span><a href=\"#Grandient-Boosting-Regressor\" data-toc-modified-id=\"Grandient-Boosting-Regressor-2.5.2\"><span class=\"toc-item-num\">2.5.2&nbsp;&nbsp;</span>Grandient Boosting Regressor</a></span></li><li><span><a href=\"#Random-Forest\" data-toc-modified-id=\"Random-Forest-2.5.3\"><span class=\"toc-item-num\">2.5.3&nbsp;&nbsp;</span>Random Forest</a></span></li></ul></li><li><span><a href=\"#Use-Neural-Network-to-Predict-Rating\" data-toc-modified-id=\"Use-Neural-Network-to-Predict-Rating-2.6\"><span class=\"toc-item-num\">2.6&nbsp;&nbsp;</span>Use Neural Network to Predict Rating</a></span><ul class=\"toc-item\"><li><span><a href=\"#Scailing-the-Data\" data-toc-modified-id=\"Scailing-the-Data-2.6.1\"><span class=\"toc-item-num\">2.6.1&nbsp;&nbsp;</span>Scailing the Data</a></span></li></ul></li><li><span><a href=\"#Model\" data-toc-modified-id=\"Model-2.7\"><span class=\"toc-item-num\">2.7&nbsp;&nbsp;</span>Model</a></span></li></ul></li></ul></div>"
   ]
  },
  {
   "cell_type": "markdown",
   "metadata": {},
   "source": [
    "\n",
    "# Part 5: Use Comments to Predict Star Ratings For Each Host\n",
    "\n",
    "- After performing exploratory data analysis on the documents, we can see that here is some kind of realtionship between comments and review score.Now, with this finding, in this documentation, we are going to use comments in each listings to predict the rating for this listing. \n",
    "---\n",
    "\n",
    "### Steps \n",
    "1. creating individual corpus for each listing \n",
    "2. build a baseline model for prediction \n",
    "3. improve on model"
   ]
  },
  {
   "cell_type": "code",
   "execution_count": 61,
   "metadata": {},
   "outputs": [],
   "source": [
    "import numpy as np\n",
    "import pandas as pd\n",
    "import matplotlib.pyplot as plt\n",
    "import seaborn as sns\n",
    "import regex as re\n",
    "\n",
    "from sklearn.model_selection import train_test_split\n",
    "from sklearn.preprocessing import StandardScaler, PowerTransformer\n",
    "from sklearn.decomposition import PCA, TruncatedSVD\n",
    "from sklearn.feature_extraction.text import CountVectorizer, ENGLISH_STOP_WORDS\n",
    "\n",
    "from sklearn.pipeline import Pipeline\n",
    "from sklearn.feature_extraction.text import TfidfTransformer, CountVectorizer, TfidfVectorizer\n",
    "from sklearn.model_selection import train_test_split, GridSearchCV\n",
    "from sklearn import metrics\n",
    "\n",
    "from sklearn.linear_model import LinearRegression\n",
    "from sklearn.naive_bayes import MultinomialNB, GaussianNB\n",
    "from sklearn.neighbors import KNeighborsRegressor\n",
    "from sklearn.tree import DecisionTreeRegressor, export_graphviz\n",
    "from sklearn.ensemble import ExtraTreesRegressor, RandomForestRegressor, BaggingRegressor, GradientBoostingRegressor, AdaBoostRegressor\n",
    "from sklearn import svm\n",
    "\n",
    "import warnings\n",
    "warnings.filterwarnings(\"ignore\", category=DeprecationWarning)\n",
    "\n",
    "np.random.seed(42)"
   ]
  },
  {
   "cell_type": "code",
   "execution_count": 2,
   "metadata": {},
   "outputs": [],
   "source": [
    "reviews = pd.read_csv('../data/reviews_sentiment_score.csv', index_col = 0)"
   ]
  },
  {
   "cell_type": "code",
   "execution_count": 3,
   "metadata": {
    "scrolled": false
   },
   "outputs": [
    {
     "data": {
      "text/html": [
       "<div>\n",
       "<style scoped>\n",
       "    .dataframe tbody tr th:only-of-type {\n",
       "        vertical-align: middle;\n",
       "    }\n",
       "\n",
       "    .dataframe tbody tr th {\n",
       "        vertical-align: top;\n",
       "    }\n",
       "\n",
       "    .dataframe thead th {\n",
       "        text-align: right;\n",
       "    }\n",
       "</style>\n",
       "<table border=\"1\" class=\"dataframe\">\n",
       "  <thead>\n",
       "    <tr style=\"text-align: right;\">\n",
       "      <th></th>\n",
       "      <th>key_0</th>\n",
       "      <th>listing_id</th>\n",
       "      <th>id</th>\n",
       "      <th>date</th>\n",
       "      <th>reviewer_id</th>\n",
       "      <th>reviewer_name</th>\n",
       "      <th>comments</th>\n",
       "      <th>language</th>\n",
       "      <th>overall_rating</th>\n",
       "      <th>compound</th>\n",
       "      <th>neg</th>\n",
       "      <th>neu</th>\n",
       "      <th>pos</th>\n",
       "    </tr>\n",
       "  </thead>\n",
       "  <tbody>\n",
       "    <tr>\n",
       "      <th>0</th>\n",
       "      <td>0</td>\n",
       "      <td>958</td>\n",
       "      <td>5977</td>\n",
       "      <td>2009-07-23</td>\n",
       "      <td>15695</td>\n",
       "      <td>Edmund C</td>\n",
       "      <td>Our experience was, without a doubt, a five st...</td>\n",
       "      <td>en</td>\n",
       "      <td>97.0</td>\n",
       "      <td>0.9590</td>\n",
       "      <td>0.000</td>\n",
       "      <td>0.788</td>\n",
       "      <td>0.212</td>\n",
       "    </tr>\n",
       "    <tr>\n",
       "      <th>1</th>\n",
       "      <td>1</td>\n",
       "      <td>958</td>\n",
       "      <td>6660</td>\n",
       "      <td>2009-08-03</td>\n",
       "      <td>26145</td>\n",
       "      <td>Simon</td>\n",
       "      <td>Returning to San Francisco is a rejuvenating t...</td>\n",
       "      <td>en</td>\n",
       "      <td>97.0</td>\n",
       "      <td>0.9819</td>\n",
       "      <td>0.000</td>\n",
       "      <td>0.697</td>\n",
       "      <td>0.303</td>\n",
       "    </tr>\n",
       "    <tr>\n",
       "      <th>2</th>\n",
       "      <td>2</td>\n",
       "      <td>958</td>\n",
       "      <td>11519</td>\n",
       "      <td>2009-09-27</td>\n",
       "      <td>25839</td>\n",
       "      <td>Denis</td>\n",
       "      <td>We were very pleased with the accommodations a...</td>\n",
       "      <td>en</td>\n",
       "      <td>97.0</td>\n",
       "      <td>0.7600</td>\n",
       "      <td>0.134</td>\n",
       "      <td>0.710</td>\n",
       "      <td>0.156</td>\n",
       "    </tr>\n",
       "    <tr>\n",
       "      <th>3</th>\n",
       "      <td>3</td>\n",
       "      <td>958</td>\n",
       "      <td>16282</td>\n",
       "      <td>2009-11-05</td>\n",
       "      <td>33750</td>\n",
       "      <td>Anna</td>\n",
       "      <td>We highly recommend this accomodation and agre...</td>\n",
       "      <td>en</td>\n",
       "      <td>97.0</td>\n",
       "      <td>0.9840</td>\n",
       "      <td>0.035</td>\n",
       "      <td>0.646</td>\n",
       "      <td>0.319</td>\n",
       "    </tr>\n",
       "    <tr>\n",
       "      <th>4</th>\n",
       "      <td>4</td>\n",
       "      <td>958</td>\n",
       "      <td>26008</td>\n",
       "      <td>2010-02-13</td>\n",
       "      <td>15416</td>\n",
       "      <td>Venetia</td>\n",
       "      <td>Holly's place was great. It was exactly what I...</td>\n",
       "      <td>en</td>\n",
       "      <td>97.0</td>\n",
       "      <td>0.9617</td>\n",
       "      <td>0.000</td>\n",
       "      <td>0.613</td>\n",
       "      <td>0.387</td>\n",
       "    </tr>\n",
       "  </tbody>\n",
       "</table>\n",
       "</div>"
      ],
      "text/plain": [
       "   key_0  listing_id     id        date  reviewer_id reviewer_name  \\\n",
       "0      0         958   5977  2009-07-23        15695      Edmund C   \n",
       "1      1         958   6660  2009-08-03        26145         Simon   \n",
       "2      2         958  11519  2009-09-27        25839         Denis   \n",
       "3      3         958  16282  2009-11-05        33750          Anna   \n",
       "4      4         958  26008  2010-02-13        15416       Venetia   \n",
       "\n",
       "                                            comments language  overall_rating  \\\n",
       "0  Our experience was, without a doubt, a five st...       en            97.0   \n",
       "1  Returning to San Francisco is a rejuvenating t...       en            97.0   \n",
       "2  We were very pleased with the accommodations a...       en            97.0   \n",
       "3  We highly recommend this accomodation and agre...       en            97.0   \n",
       "4  Holly's place was great. It was exactly what I...       en            97.0   \n",
       "\n",
       "   compound    neg    neu    pos  \n",
       "0    0.9590  0.000  0.788  0.212  \n",
       "1    0.9819  0.000  0.697  0.303  \n",
       "2    0.7600  0.134  0.710  0.156  \n",
       "3    0.9840  0.035  0.646  0.319  \n",
       "4    0.9617  0.000  0.613  0.387  "
      ]
     },
     "execution_count": 3,
     "metadata": {},
     "output_type": "execute_result"
    }
   ],
   "source": [
    "reviews.head()"
   ]
  },
  {
   "cell_type": "code",
   "execution_count": 135,
   "metadata": {},
   "outputs": [],
   "source": [
    "listing = pd.read_csv('../data/listings/2019-03-06_data_listings.csv')"
   ]
  },
  {
   "cell_type": "code",
   "execution_count": 136,
   "metadata": {
    "scrolled": true
   },
   "outputs": [
    {
     "data": {
      "text/plain": [
       "key_0               int64\n",
       "listing_id          int64\n",
       "id                  int64\n",
       "date               object\n",
       "reviewer_id         int64\n",
       "reviewer_name      object\n",
       "comments           object\n",
       "language           object\n",
       "overall_rating    float64\n",
       "compound          float64\n",
       "neg               float64\n",
       "neu               float64\n",
       "pos               float64\n",
       "dtype: object"
      ]
     },
     "execution_count": 136,
     "metadata": {},
     "output_type": "execute_result"
    }
   ],
   "source": [
    "reviews.dtypes"
   ]
  },
  {
   "cell_type": "markdown",
   "metadata": {},
   "source": [
    "## Creating individual Corpus For Each Listings \n",
    "\n",
    "---"
   ]
  },
  {
   "cell_type": "code",
   "execution_count": 137,
   "metadata": {},
   "outputs": [],
   "source": [
    "review_dict = {}\n",
    "for i in reviews['listing_id'].unique(): \n",
    "    comment_list = list(reviews[reviews['listing_id'] == i]['comments'])\n",
    "    one_list = \"\".join(comment_list)\n",
    "    review_dict[i] = one_list"
   ]
  },
  {
   "cell_type": "code",
   "execution_count": 138,
   "metadata": {},
   "outputs": [
    {
     "data": {
      "text/plain": [
       "4199"
      ]
     },
     "execution_count": 138,
     "metadata": {},
     "output_type": "execute_result"
    }
   ],
   "source": [
    "len(review_dict)"
   ]
  },
  {
   "cell_type": "code",
   "execution_count": 139,
   "metadata": {},
   "outputs": [
    {
     "data": {
      "text/plain": [
       "4199"
      ]
     },
     "execution_count": 139,
     "metadata": {},
     "output_type": "execute_result"
    }
   ],
   "source": [
    "len(reviews['listing_id'].unique())"
   ]
  },
  {
   "cell_type": "code",
   "execution_count": 140,
   "metadata": {},
   "outputs": [],
   "source": [
    "review_prediction_df = pd.DataFrame(data = [review_dict.keys()])"
   ]
  },
  {
   "cell_type": "code",
   "execution_count": 141,
   "metadata": {},
   "outputs": [],
   "source": [
    "review_prediction_df = review_prediction_df.T"
   ]
  },
  {
   "cell_type": "code",
   "execution_count": 142,
   "metadata": {},
   "outputs": [],
   "source": [
    "review_prediction_df.columns = ['listing_id']"
   ]
  },
  {
   "cell_type": "code",
   "execution_count": 143,
   "metadata": {},
   "outputs": [],
   "source": [
    "review_prediction_df['comment'] = review_prediction_df['listing_id'].map(review_dict)"
   ]
  },
  {
   "cell_type": "code",
   "execution_count": 144,
   "metadata": {},
   "outputs": [],
   "source": [
    "review_prediction_df['overall_score'] = listing['review_scores_rating']"
   ]
  },
  {
   "cell_type": "code",
   "execution_count": 145,
   "metadata": {
    "scrolled": false
   },
   "outputs": [
    {
     "data": {
      "text/html": [
       "<div>\n",
       "<style scoped>\n",
       "    .dataframe tbody tr th:only-of-type {\n",
       "        vertical-align: middle;\n",
       "    }\n",
       "\n",
       "    .dataframe tbody tr th {\n",
       "        vertical-align: top;\n",
       "    }\n",
       "\n",
       "    .dataframe thead th {\n",
       "        text-align: right;\n",
       "    }\n",
       "</style>\n",
       "<table border=\"1\" class=\"dataframe\">\n",
       "  <thead>\n",
       "    <tr style=\"text-align: right;\">\n",
       "      <th></th>\n",
       "      <th>listing_id</th>\n",
       "      <th>comment</th>\n",
       "      <th>overall_score</th>\n",
       "    </tr>\n",
       "  </thead>\n",
       "  <tbody>\n",
       "    <tr>\n",
       "      <th>0</th>\n",
       "      <td>958</td>\n",
       "      <td>Our experience was, without a doubt, a five st...</td>\n",
       "      <td>97.0</td>\n",
       "    </tr>\n",
       "    <tr>\n",
       "      <th>1</th>\n",
       "      <td>5858</td>\n",
       "      <td>We had a fabulous time staying with Philip and...</td>\n",
       "      <td>98.0</td>\n",
       "    </tr>\n",
       "    <tr>\n",
       "      <th>2</th>\n",
       "      <td>7918</td>\n",
       "      <td>My stay was fantastic!  The neighborhood is gr...</td>\n",
       "      <td>85.0</td>\n",
       "    </tr>\n",
       "    <tr>\n",
       "      <th>3</th>\n",
       "      <td>8142</td>\n",
       "      <td>Excellent! The space is clean and quiet, and t...</td>\n",
       "      <td>93.0</td>\n",
       "    </tr>\n",
       "    <tr>\n",
       "      <th>4</th>\n",
       "      <td>8339</td>\n",
       "      <td>My stay was wonderful in many ways; the apartm...</td>\n",
       "      <td>97.0</td>\n",
       "    </tr>\n",
       "  </tbody>\n",
       "</table>\n",
       "</div>"
      ],
      "text/plain": [
       "   listing_id                                            comment  \\\n",
       "0         958  Our experience was, without a doubt, a five st...   \n",
       "1        5858  We had a fabulous time staying with Philip and...   \n",
       "2        7918  My stay was fantastic!  The neighborhood is gr...   \n",
       "3        8142  Excellent! The space is clean and quiet, and t...   \n",
       "4        8339  My stay was wonderful in many ways; the apartm...   \n",
       "\n",
       "   overall_score  \n",
       "0           97.0  \n",
       "1           98.0  \n",
       "2           85.0  \n",
       "3           93.0  \n",
       "4           97.0  "
      ]
     },
     "execution_count": 145,
     "metadata": {},
     "output_type": "execute_result"
    }
   ],
   "source": [
    "#complete Review Prediction Data Frame \n",
    "review_prediction_df.head()"
   ]
  },
  {
   "cell_type": "code",
   "execution_count": 146,
   "metadata": {},
   "outputs": [
    {
     "data": {
      "text/html": [
       "<div>\n",
       "<style scoped>\n",
       "    .dataframe tbody tr th:only-of-type {\n",
       "        vertical-align: middle;\n",
       "    }\n",
       "\n",
       "    .dataframe tbody tr th {\n",
       "        vertical-align: top;\n",
       "    }\n",
       "\n",
       "    .dataframe thead th {\n",
       "        text-align: right;\n",
       "    }\n",
       "</style>\n",
       "<table border=\"1\" class=\"dataframe\">\n",
       "  <thead>\n",
       "    <tr style=\"text-align: right;\">\n",
       "      <th></th>\n",
       "      <th>listing_id</th>\n",
       "      <th>overall_score</th>\n",
       "    </tr>\n",
       "  </thead>\n",
       "  <tbody>\n",
       "    <tr>\n",
       "      <th>count</th>\n",
       "      <td>4.199000e+03</td>\n",
       "      <td>4008.000000</td>\n",
       "    </tr>\n",
       "    <tr>\n",
       "      <th>mean</th>\n",
       "      <td>9.700544e+06</td>\n",
       "      <td>95.506487</td>\n",
       "    </tr>\n",
       "    <tr>\n",
       "      <th>std</th>\n",
       "      <td>7.126105e+06</td>\n",
       "      <td>6.109349</td>\n",
       "    </tr>\n",
       "    <tr>\n",
       "      <th>min</th>\n",
       "      <td>9.580000e+02</td>\n",
       "      <td>20.000000</td>\n",
       "    </tr>\n",
       "    <tr>\n",
       "      <th>25%</th>\n",
       "      <td>2.700651e+06</td>\n",
       "      <td>94.000000</td>\n",
       "    </tr>\n",
       "    <tr>\n",
       "      <th>50%</th>\n",
       "      <td>8.817059e+06</td>\n",
       "      <td>97.000000</td>\n",
       "    </tr>\n",
       "    <tr>\n",
       "      <th>75%</th>\n",
       "      <td>1.616297e+07</td>\n",
       "      <td>99.000000</td>\n",
       "    </tr>\n",
       "    <tr>\n",
       "      <th>max</th>\n",
       "      <td>2.181282e+07</td>\n",
       "      <td>100.000000</td>\n",
       "    </tr>\n",
       "  </tbody>\n",
       "</table>\n",
       "</div>"
      ],
      "text/plain": [
       "         listing_id  overall_score\n",
       "count  4.199000e+03    4008.000000\n",
       "mean   9.700544e+06      95.506487\n",
       "std    7.126105e+06       6.109349\n",
       "min    9.580000e+02      20.000000\n",
       "25%    2.700651e+06      94.000000\n",
       "50%    8.817059e+06      97.000000\n",
       "75%    1.616297e+07      99.000000\n",
       "max    2.181282e+07     100.000000"
      ]
     },
     "execution_count": 146,
     "metadata": {},
     "output_type": "execute_result"
    }
   ],
   "source": [
    "review_prediction_df.describe()"
   ]
  },
  {
   "cell_type": "markdown",
   "metadata": {},
   "source": [
    "## Cleaning Comments\n",
    "\n",
    "---"
   ]
  },
  {
   "cell_type": "code",
   "execution_count": 147,
   "metadata": {},
   "outputs": [],
   "source": [
    "def clean_text(text): \n",
    "    '''\n",
    "    This clean_text function will focus on: \n",
    "    1. cleaning the content including removing prentecisis, \\r\\n, : and so on. \n",
    "    2. lower case all words.\n",
    "    3. remove stop words from articles. \n",
    "    '''\n",
    "    text = re.sub(r'\\r\\n', r' ', text)\n",
    "    text = re.sub(r'[\\\\\\.\\:\\*/\\,\\!]', r' ', text)\n",
    "    text = re.sub(r'[\\(\\)]', r' ', text)\n",
    "    text = re.sub(r'[\\\"\\“\\”\\—\\[\\]]', r' ', text)\n",
    "    text = re.sub(r\"'s\", r' ', text)\n",
    "    text = re.sub(r'[\\\\\"]', r' ', text)\n",
    "    text = text.lower()\n",
    "    \n",
    "    return text"
   ]
  },
  {
   "cell_type": "code",
   "execution_count": 148,
   "metadata": {},
   "outputs": [],
   "source": [
    "clean_comment = []\n",
    "for comment in review_prediction_df['comment']: \n",
    "    new_comment = clean_text(comment)\n",
    "    clean_comment.append(new_comment)"
   ]
  },
  {
   "cell_type": "code",
   "execution_count": 149,
   "metadata": {},
   "outputs": [],
   "source": [
    "review_prediction_df['comment'] = clean_comment"
   ]
  },
  {
   "cell_type": "code",
   "execution_count": 150,
   "metadata": {
    "scrolled": false
   },
   "outputs": [
    {
     "data": {
      "text/html": [
       "<div>\n",
       "<style scoped>\n",
       "    .dataframe tbody tr th:only-of-type {\n",
       "        vertical-align: middle;\n",
       "    }\n",
       "\n",
       "    .dataframe tbody tr th {\n",
       "        vertical-align: top;\n",
       "    }\n",
       "\n",
       "    .dataframe thead th {\n",
       "        text-align: right;\n",
       "    }\n",
       "</style>\n",
       "<table border=\"1\" class=\"dataframe\">\n",
       "  <thead>\n",
       "    <tr style=\"text-align: right;\">\n",
       "      <th></th>\n",
       "      <th>listing_id</th>\n",
       "      <th>comment</th>\n",
       "      <th>overall_score</th>\n",
       "    </tr>\n",
       "  </thead>\n",
       "  <tbody>\n",
       "    <tr>\n",
       "      <th>0</th>\n",
       "      <td>958</td>\n",
       "      <td>our experience was  without a doubt  a five st...</td>\n",
       "      <td>97.0</td>\n",
       "    </tr>\n",
       "    <tr>\n",
       "      <th>1</th>\n",
       "      <td>5858</td>\n",
       "      <td>we had a fabulous time staying with philip and...</td>\n",
       "      <td>98.0</td>\n",
       "    </tr>\n",
       "    <tr>\n",
       "      <th>2</th>\n",
       "      <td>7918</td>\n",
       "      <td>my stay was fantastic   the neighborhood is gr...</td>\n",
       "      <td>85.0</td>\n",
       "    </tr>\n",
       "    <tr>\n",
       "      <th>3</th>\n",
       "      <td>8142</td>\n",
       "      <td>excellent  the space is clean and quiet  and t...</td>\n",
       "      <td>93.0</td>\n",
       "    </tr>\n",
       "    <tr>\n",
       "      <th>4</th>\n",
       "      <td>8339</td>\n",
       "      <td>my stay was wonderful in many ways; the apartm...</td>\n",
       "      <td>97.0</td>\n",
       "    </tr>\n",
       "  </tbody>\n",
       "</table>\n",
       "</div>"
      ],
      "text/plain": [
       "   listing_id                                            comment  \\\n",
       "0         958  our experience was  without a doubt  a five st...   \n",
       "1        5858  we had a fabulous time staying with philip and...   \n",
       "2        7918  my stay was fantastic   the neighborhood is gr...   \n",
       "3        8142  excellent  the space is clean and quiet  and t...   \n",
       "4        8339  my stay was wonderful in many ways; the apartm...   \n",
       "\n",
       "   overall_score  \n",
       "0           97.0  \n",
       "1           98.0  \n",
       "2           85.0  \n",
       "3           93.0  \n",
       "4           97.0  "
      ]
     },
     "execution_count": 150,
     "metadata": {},
     "output_type": "execute_result"
    }
   ],
   "source": [
    "review_prediction_df.head()"
   ]
  },
  {
   "cell_type": "code",
   "execution_count": 314,
   "metadata": {},
   "outputs": [],
   "source": [
    "#number of words \n",
    "length = review_prediction_df['comment'].map(lambda x: len(x))"
   ]
  },
  {
   "cell_type": "code",
   "execution_count": 317,
   "metadata": {},
   "outputs": [
    {
     "data": {
      "text/plain": [
       "count      4008.000000\n",
       "mean      19678.842315\n",
       "std       25119.676195\n",
       "min          12.000000\n",
       "25%        2781.000000\n",
       "50%       10153.000000\n",
       "75%       26420.000000\n",
       "max      210701.000000\n",
       "Name: comment, dtype: float64"
      ]
     },
     "execution_count": 317,
     "metadata": {},
     "output_type": "execute_result"
    }
   ],
   "source": [
    "length.describe()"
   ]
  },
  {
   "cell_type": "code",
   "execution_count": 151,
   "metadata": {},
   "outputs": [
    {
     "data": {
      "text/plain": [
       "(4199, 3)"
      ]
     },
     "execution_count": 151,
     "metadata": {},
     "output_type": "execute_result"
    }
   ],
   "source": [
    "review_prediction_df.shape "
   ]
  },
  {
   "cell_type": "code",
   "execution_count": 128,
   "metadata": {},
   "outputs": [],
   "source": [
    "review_prediction_df.to_csv('../data/clean_comments.csv')"
   ]
  },
  {
   "cell_type": "markdown",
   "metadata": {},
   "source": [
    "## Train Test Split \n",
    "___"
   ]
  },
  {
   "cell_type": "code",
   "execution_count": 152,
   "metadata": {},
   "outputs": [],
   "source": [
    "#extract samples from the population to perform regression models \n",
    "sample_df = review_prediction_df.sample(500)"
   ]
  },
  {
   "cell_type": "code",
   "execution_count": 153,
   "metadata": {},
   "outputs": [],
   "source": [
    "X = sample_df['comment']\n",
    "y = sample_df['overall_score'].fillna(0)"
   ]
  },
  {
   "cell_type": "code",
   "execution_count": 154,
   "metadata": {},
   "outputs": [],
   "source": [
    "X_train, X_test, y_train, y_test = train_test_split(X, y, random_state = 24)"
   ]
  },
  {
   "cell_type": "markdown",
   "metadata": {},
   "source": [
    "### with CountVectorizer "
   ]
  },
  {
   "cell_type": "code",
   "execution_count": 155,
   "metadata": {},
   "outputs": [],
   "source": [
    "#building baseine model \n",
    "cv = CountVectorizer(ngram_range= (1,1), \n",
    "                     stop_words= 'english', \n",
    "                     min_df = 2,\n",
    "                     max_features = 20000)\n",
    "X_train_cv = cv.fit_transform(X_train)"
   ]
  },
  {
   "cell_type": "code",
   "execution_count": 156,
   "metadata": {},
   "outputs": [],
   "source": [
    "X_test_cv = cv.transform(X_test)"
   ]
  },
  {
   "cell_type": "code",
   "execution_count": 157,
   "metadata": {
    "scrolled": false
   },
   "outputs": [
    {
     "data": {
      "text/plain": [
       "((375, 7807), (125, 7807))"
      ]
     },
     "execution_count": 157,
     "metadata": {},
     "output_type": "execute_result"
    }
   ],
   "source": [
    "X_train_cv.shape, X_test_cv.shape"
   ]
  },
  {
   "cell_type": "markdown",
   "metadata": {},
   "source": [
    "### with TFIDF "
   ]
  },
  {
   "cell_type": "code",
   "execution_count": 158,
   "metadata": {},
   "outputs": [],
   "source": [
    "tfidf = TfidfVectorizer(max_features = 20000, \n",
    "                        stop_words = 'english', \n",
    "                        ngram_range = (1,1))\n",
    "X_train_tfidf = tfidf.fit_transform(X_train)"
   ]
  },
  {
   "cell_type": "code",
   "execution_count": 159,
   "metadata": {},
   "outputs": [],
   "source": [
    "X_test_tfidf = tfidf.transform(X_test)"
   ]
  },
  {
   "cell_type": "code",
   "execution_count": 160,
   "metadata": {
    "scrolled": false
   },
   "outputs": [
    {
     "data": {
      "text/plain": [
       "((375, 16088), (125, 16088))"
      ]
     },
     "execution_count": 160,
     "metadata": {},
     "output_type": "execute_result"
    }
   ],
   "source": [
    "X_train_tfidf.shape, X_test_tfidf.shape"
   ]
  },
  {
   "cell_type": "markdown",
   "metadata": {},
   "source": [
    "## Power Transformer \n",
    "---"
   ]
  },
  {
   "cell_type": "code",
   "execution_count": 94,
   "metadata": {
    "scrolled": true
   },
   "outputs": [],
   "source": [
    "#for cvec \n",
    "pt = PowerTransformer()\n",
    "X_train_cvec_pt = pt.fit_transform(X_train_cv.toarray())\n",
    "X_test_cvec_pt = pt.transform(X_test_cv.toarray())"
   ]
  },
  {
   "cell_type": "code",
   "execution_count": 89,
   "metadata": {},
   "outputs": [],
   "source": [
    "#for cvec \n",
    "pt = PowerTransformer()\n",
    "X_train_tfidf_pt = pt.fit_transform(X_train_tfidf.toarray())\n",
    "X_test_tfidf_pt = pt.transform(X_test_tfidf.toarray())"
   ]
  },
  {
   "cell_type": "markdown",
   "metadata": {},
   "source": [
    "## Building Baseline Model \n",
    "---"
   ]
  },
  {
   "cell_type": "markdown",
   "metadata": {},
   "source": [
    "### Linear Regression"
   ]
  },
  {
   "cell_type": "code",
   "execution_count": 95,
   "metadata": {},
   "outputs": [
    {
     "name": "stdout",
     "output_type": "stream",
     "text": [
      "1.0\n"
     ]
    },
    {
     "data": {
      "text/plain": [
       "-0.486421017725454"
      ]
     },
     "execution_count": 95,
     "metadata": {},
     "output_type": "execute_result"
    }
   ],
   "source": [
    "#with countvectorizer \n",
    "lr = LinearRegression()\n",
    "lr.fit(X_train_cvec_pt, y_train)\n",
    "\n",
    "print(lr.score(X_train_cvec_pt, y_train))\n",
    "lr.score(X_test_cvec_pt, y_test)"
   ]
  },
  {
   "cell_type": "code",
   "execution_count": 110,
   "metadata": {
    "scrolled": false
   },
   "outputs": [
    {
     "name": "stdout",
     "output_type": "stream",
     "text": [
      "1.0\n"
     ]
    },
    {
     "data": {
      "text/plain": [
       "-0.11663358671044222"
      ]
     },
     "execution_count": 110,
     "metadata": {},
     "output_type": "execute_result"
    }
   ],
   "source": [
    "#with tfidf\n",
    "lr = LinearRegression()\n",
    "lr.fit(X_train_tfidf_pt, y_train)\n",
    "print(lr.score(X_train_tfidf_pt, y_train))\n",
    "lr.score(X_test_tfidf_pt, y_test)"
   ]
  },
  {
   "cell_type": "code",
   "execution_count": 542,
   "metadata": {},
   "outputs": [
    {
     "data": {
      "text/plain": [
       "array([ 0.07344386, -0.00221107,  0.00174742, ..., -0.00537382,\n",
       "        0.00091585, -0.00537409])"
      ]
     },
     "execution_count": 542,
     "metadata": {},
     "output_type": "execute_result"
    }
   ],
   "source": [
    "lr.coef_"
   ]
  },
  {
   "cell_type": "markdown",
   "metadata": {},
   "source": [
    "### Grandient Boosting Regressor "
   ]
  },
  {
   "cell_type": "code",
   "execution_count": 109,
   "metadata": {},
   "outputs": [
    {
     "name": "stdout",
     "output_type": "stream",
     "text": [
      "0.37419612902329225\n",
      "-0.12607426638921582\n"
     ]
    }
   ],
   "source": [
    "ada = AdaBoostRegressor()\n",
    "ada.fit(X_train_cvec_pt, y_train)\n",
    "print(ada.score(X_train_cvec_pt, y_train))\n",
    "print(ada.score(X_test_cvec_pt, y_test))"
   ]
  },
  {
   "cell_type": "code",
   "execution_count": 111,
   "metadata": {},
   "outputs": [
    {
     "name": "stdout",
     "output_type": "stream",
     "text": [
      "0.4334897911074721\n",
      "-0.08059940048192349\n"
     ]
    }
   ],
   "source": [
    "ada = AdaBoostRegressor()\n",
    "ada.fit(X_train_tfidf_pt, y_train)\n",
    "print(ada.score(X_train_tfidf_pt, y_train))\n",
    "print(ada.score(X_test_tfidf_pt, y_test))"
   ]
  },
  {
   "cell_type": "markdown",
   "metadata": {},
   "source": [
    "### Random Forest "
   ]
  },
  {
   "cell_type": "code",
   "execution_count": 103,
   "metadata": {},
   "outputs": [
    {
     "name": "stderr",
     "output_type": "stream",
     "text": [
      "/Users/evelyn/anaconda3/lib/python3.7/site-packages/sklearn/ensemble/forest.py:246: FutureWarning: The default value of n_estimators will change from 10 in version 0.20 to 100 in 0.22.\n",
      "  \"10 in version 0.20 to 100 in 0.22.\", FutureWarning)\n"
     ]
    },
    {
     "name": "stdout",
     "output_type": "stream",
     "text": [
      "0.8119393640434089\n",
      "-0.37849665098430085\n"
     ]
    }
   ],
   "source": [
    "rf = RandomForestRegressor()\n",
    "rf.fit(X_train_cvec_pt, y_train)\n",
    "\n",
    "print(rf.score(X_train_cvec_pt, y_train))\n",
    "print(rf.score(X_test_cvec_pt, y_test))"
   ]
  },
  {
   "cell_type": "code",
   "execution_count": 104,
   "metadata": {},
   "outputs": [
    {
     "name": "stderr",
     "output_type": "stream",
     "text": [
      "/Users/evelyn/anaconda3/lib/python3.7/site-packages/sklearn/ensemble/forest.py:246: FutureWarning: The default value of n_estimators will change from 10 in version 0.20 to 100 in 0.22.\n",
      "  \"10 in version 0.20 to 100 in 0.22.\", FutureWarning)\n"
     ]
    },
    {
     "name": "stdout",
     "output_type": "stream",
     "text": [
      "0.7964723887581897\n",
      "-0.3329663705459267\n"
     ]
    }
   ],
   "source": [
    "rf = RandomForestRegressor()\n",
    "rf.fit(X_train_cvec_pt, y_train)\n",
    "\n",
    "print(rf.score(X_train_cvec_pt, y_train))\n",
    "print(rf.score(X_test_cvec_pt, y_test))"
   ]
  },
  {
   "cell_type": "markdown",
   "metadata": {},
   "source": [
    "## Use Neural Network to Predict Rating \n",
    "---\n"
   ]
  },
  {
   "cell_type": "code",
   "execution_count": 545,
   "metadata": {
    "scrolled": true
   },
   "outputs": [],
   "source": [
    "from keras.models import Sequential\n",
    "from keras.preprocessing.text import Tokenizer\n",
    "from keras.preprocessing.sequence import pad_sequences\n",
    "from keras.layers import Dense, Flatten, LSTM, Conv1D, MaxPooling1D, Dropout, Activation, SpatialDropout1D\n",
    "from keras.layers.embeddings import Embedding\n",
    "from keras.optimizers import Adam\n",
    "from keras import optimizers\n",
    "from keras import regularizers\n",
    "from keras.callbacks import EarlyStopping\n",
    "\n",
    "from nltk.corpus import stopwords"
   ]
  },
  {
   "cell_type": "code",
   "execution_count": 162,
   "metadata": {},
   "outputs": [
    {
     "data": {
      "text/plain": [
       "listing_id         0\n",
       "comment            0\n",
       "overall_score    191\n",
       "dtype: int64"
      ]
     },
     "execution_count": 162,
     "metadata": {},
     "output_type": "execute_result"
    }
   ],
   "source": [
    "review_prediction_df.isnull().sum()"
   ]
  },
  {
   "cell_type": "code",
   "execution_count": 163,
   "metadata": {},
   "outputs": [],
   "source": [
    "#drop NA \n",
    "review_prediction_df.dropna(inplace= True)"
   ]
  },
  {
   "cell_type": "code",
   "execution_count": 164,
   "metadata": {
    "scrolled": false
   },
   "outputs": [
    {
     "data": {
      "text/plain": [
       "listing_id       0\n",
       "comment          0\n",
       "overall_score    0\n",
       "dtype: int64"
      ]
     },
     "execution_count": 164,
     "metadata": {},
     "output_type": "execute_result"
    }
   ],
   "source": [
    "review_prediction_df.isnull().sum()"
   ]
  },
  {
   "cell_type": "code",
   "execution_count": 165,
   "metadata": {
    "scrolled": true
   },
   "outputs": [
    {
     "data": {
      "text/html": [
       "<div>\n",
       "<style scoped>\n",
       "    .dataframe tbody tr th:only-of-type {\n",
       "        vertical-align: middle;\n",
       "    }\n",
       "\n",
       "    .dataframe tbody tr th {\n",
       "        vertical-align: top;\n",
       "    }\n",
       "\n",
       "    .dataframe thead th {\n",
       "        text-align: right;\n",
       "    }\n",
       "</style>\n",
       "<table border=\"1\" class=\"dataframe\">\n",
       "  <thead>\n",
       "    <tr style=\"text-align: right;\">\n",
       "      <th></th>\n",
       "      <th>listing_id</th>\n",
       "      <th>comment</th>\n",
       "      <th>overall_score</th>\n",
       "    </tr>\n",
       "  </thead>\n",
       "  <tbody>\n",
       "    <tr>\n",
       "      <th>0</th>\n",
       "      <td>958</td>\n",
       "      <td>our experience was  without a doubt  a five st...</td>\n",
       "      <td>97.0</td>\n",
       "    </tr>\n",
       "    <tr>\n",
       "      <th>1</th>\n",
       "      <td>5858</td>\n",
       "      <td>we had a fabulous time staying with philip and...</td>\n",
       "      <td>98.0</td>\n",
       "    </tr>\n",
       "    <tr>\n",
       "      <th>2</th>\n",
       "      <td>7918</td>\n",
       "      <td>my stay was fantastic   the neighborhood is gr...</td>\n",
       "      <td>85.0</td>\n",
       "    </tr>\n",
       "    <tr>\n",
       "      <th>3</th>\n",
       "      <td>8142</td>\n",
       "      <td>excellent  the space is clean and quiet  and t...</td>\n",
       "      <td>93.0</td>\n",
       "    </tr>\n",
       "    <tr>\n",
       "      <th>4</th>\n",
       "      <td>8339</td>\n",
       "      <td>my stay was wonderful in many ways; the apartm...</td>\n",
       "      <td>97.0</td>\n",
       "    </tr>\n",
       "  </tbody>\n",
       "</table>\n",
       "</div>"
      ],
      "text/plain": [
       "   listing_id                                            comment  \\\n",
       "0         958  our experience was  without a doubt  a five st...   \n",
       "1        5858  we had a fabulous time staying with philip and...   \n",
       "2        7918  my stay was fantastic   the neighborhood is gr...   \n",
       "3        8142  excellent  the space is clean and quiet  and t...   \n",
       "4        8339  my stay was wonderful in many ways; the apartm...   \n",
       "\n",
       "   overall_score  \n",
       "0           97.0  \n",
       "1           98.0  \n",
       "2           85.0  \n",
       "3           93.0  \n",
       "4           97.0  "
      ]
     },
     "execution_count": 165,
     "metadata": {},
     "output_type": "execute_result"
    }
   ],
   "source": [
    "review_prediction_df.head()"
   ]
  },
  {
   "cell_type": "code",
   "execution_count": 166,
   "metadata": {},
   "outputs": [
    {
     "data": {
      "text/plain": [
       "(4008, 3)"
      ]
     },
     "execution_count": 166,
     "metadata": {},
     "output_type": "execute_result"
    }
   ],
   "source": [
    "review_prediction_df.shape"
   ]
  },
  {
   "cell_type": "code",
   "execution_count": 468,
   "metadata": {},
   "outputs": [],
   "source": [
    "#tokenizing the data \n",
    "vocabulary_size = 50000\n",
    "max_sequence= 5000 \n",
    "embedding_dim = 500\n",
    "tokenizer = Tokenizer(num_words= vocabulary_size)\n",
    "tokenizer.fit_on_texts(review_prediction_df['comment'].values)"
   ]
  },
  {
   "cell_type": "code",
   "execution_count": 469,
   "metadata": {},
   "outputs": [
    {
     "name": "stdout",
     "output_type": "stream",
     "text": [
      "Found 65973 unique tokens.\n"
     ]
    }
   ],
   "source": [
    "word_index = tokenizer.word_index\n",
    "print('Found %s unique tokens.' % len(word_index))"
   ]
  },
  {
   "cell_type": "code",
   "execution_count": 470,
   "metadata": {},
   "outputs": [
    {
     "data": {
      "text/plain": [
       "4008"
      ]
     },
     "execution_count": 470,
     "metadata": {},
     "output_type": "execute_result"
    }
   ],
   "source": [
    "len(review_prediction_df['comment'].values)"
   ]
  },
  {
   "cell_type": "code",
   "execution_count": 471,
   "metadata": {},
   "outputs": [],
   "source": [
    "X = tokenizer.texts_to_sequences(review_prediction_df['comment'].values)\n",
    "X = pad_sequences(X, maxlen = max_sequence)"
   ]
  },
  {
   "cell_type": "code",
   "execution_count": 472,
   "metadata": {
    "scrolled": true
   },
   "outputs": [
    {
     "name": "stdout",
     "output_type": "stream",
     "text": [
      "Shape of data tensor: (4008, 5000)\n"
     ]
    }
   ],
   "source": [
    "print('Shape of data tensor:', X.shape)"
   ]
  },
  {
   "cell_type": "code",
   "execution_count": 473,
   "metadata": {},
   "outputs": [
    {
     "name": "stdout",
     "output_type": "stream",
     "text": [
      "Shape of target: (4008,)\n"
     ]
    }
   ],
   "source": [
    "y = review_prediction_df['overall_score']\n",
    "print('Shape of target:', y.shape)"
   ]
  },
  {
   "cell_type": "code",
   "execution_count": 474,
   "metadata": {},
   "outputs": [
    {
     "name": "stdout",
     "output_type": "stream",
     "text": [
      "(3206, 5000) (3206,)\n",
      "(802, 5000) (802,)\n"
     ]
    }
   ],
   "source": [
    "#Train_test Split \n",
    "X_train, X_test, y_train, y_test = train_test_split(X, y, test_size = 0.20, random_state = 42)\n",
    "print(X_train.shape, y_train.shape)\n",
    "print(X_test.shape, y_test.shape)"
   ]
  },
  {
   "cell_type": "markdown",
   "metadata": {},
   "source": [
    "### Scailing the Data \n",
    "---"
   ]
  },
  {
   "cell_type": "code",
   "execution_count": 504,
   "metadata": {
    "scrolled": true
   },
   "outputs": [],
   "source": [
    "pt = PowerTransformer()\n",
    "X_train_pt = pt.fit_transform(X_train)\n",
    "X_test_pt = pt.transform(X_test)"
   ]
  },
  {
   "cell_type": "code",
   "execution_count": 476,
   "metadata": {
    "scrolled": false
   },
   "outputs": [
    {
     "data": {
      "text/plain": [
       "(3206, 5000)"
      ]
     },
     "execution_count": 476,
     "metadata": {},
     "output_type": "execute_result"
    }
   ],
   "source": [
    "X_train_pt.shape"
   ]
  },
  {
   "cell_type": "markdown",
   "metadata": {},
   "source": [
    "## Model \n",
    "---"
   ]
  },
  {
   "cell_type": "code",
   "execution_count": 581,
   "metadata": {
    "scrolled": false
   },
   "outputs": [
    {
     "name": "stdout",
     "output_type": "stream",
     "text": [
      "Train on 2885 samples, validate on 321 samples\n",
      "Epoch 1/20\n",
      "2885/2885 [==============================] - 14s 5ms/step - loss: 30.9844 - mean_absolute_error: 30.9844 - val_loss: 8.1175 - val_mean_absolute_error: 8.1175\n",
      "Epoch 2/20\n",
      "2885/2885 [==============================] - 6s 2ms/step - loss: 5.6650 - mean_absolute_error: 5.6650 - val_loss: 5.7585 - val_mean_absolute_error: 5.7585\n",
      "Epoch 3/20\n",
      "2885/2885 [==============================] - 6s 2ms/step - loss: 6.7879 - mean_absolute_error: 6.7879 - val_loss: 6.2008 - val_mean_absolute_error: 6.2008\n",
      "Epoch 4/20\n",
      "2885/2885 [==============================] - 6s 2ms/step - loss: 5.6264 - mean_absolute_error: 5.6264 - val_loss: 6.4321 - val_mean_absolute_error: 6.4321\n",
      "Epoch 5/20\n",
      "2885/2885 [==============================] - 8s 3ms/step - loss: 6.4811 - mean_absolute_error: 6.4811 - val_loss: 6.4994 - val_mean_absolute_error: 6.4994\n"
     ]
    }
   ],
   "source": [
    "#building model\n",
    "\n",
    "model = Sequential()\n",
    "\n",
    "model.add(Dense(1200, \n",
    "                activation = 'relu', \n",
    "                input_shape = (5000,)))\n",
    "\n",
    "model.add(Dense(600, activation = 'relu'))\n",
    "\n",
    "model.add(Dense(300, activation = 'relu'))\n",
    "\n",
    "model.add(Dense(120, activation = 'relu'))\n",
    "\n",
    "model.add(Dense(64, activation = 'relu'))\n",
    "\n",
    "model.add(Dense(32, activation = 'relu' ))\n",
    "\n",
    "model.add(Dense(12, activation = 'relu' ))\n",
    "\n",
    "#output layer \n",
    "model.add(Dense(1))\n",
    "\n",
    "#adjust learning rate\n",
    "# adadelta = optimizers.Adadelta(lr=1.0, rho=0.95, epsilon=None, decay=0.0)\n",
    "adam = optimizers.Adam(lr=0.002, beta_1=0.9, beta_2=0.999, epsilon=None, decay=0.0001, amsgrad=False)\n",
    "# RMSprop = optimizers.RMSprop(lr=0.001, rho=0.9, epsilon=None, decay=0.0)\n",
    "model.compile(optimizer= adam, loss='mean_absolute_error', metrics=['mean_absolute_error'])\n",
    "\n",
    "epochs = 20\n",
    "batch_size = 86\n",
    "\n",
    "history = model.fit(X_train_pt, y_train, epochs=epochs, batch_size=batch_size, validation_split=0.1,\n",
    "                    callbacks=[EarlyStopping(monitor='val_loss', patience=3, min_delta=0.0001)])"
   ]
  },
  {
   "cell_type": "code",
   "execution_count": 582,
   "metadata": {
    "scrolled": true
   },
   "outputs": [
    {
     "data": {
      "image/png": "[encoded data removed]",
      "text/plain": [
       "<Figure size 432x288 with 1 Axes>"
      ]
     },
     "metadata": {
      "needs_background": "light"
     },
     "output_type": "display_data"
    }
   ],
   "source": [
    "plt.title('Loss')\n",
    "plt.plot(history.history['loss'], label='train')\n",
    "plt.plot(history.history['val_loss'], label='test')\n",
    "plt.legend()\n",
    "plt.show();"
   ]
  },
  {
   "cell_type": "code",
   "execution_count": 583,
   "metadata": {
    "scrolled": false
   },
   "outputs": [
    {
     "data": {
      "image/png": "[encoded data removed]",
      "text/plain": [
       "<Figure size 432x288 with 1 Axes>"
      ]
     },
     "metadata": {
      "needs_background": "light"
     },
     "output_type": "display_data"
    }
   ],
   "source": [
    "plt.title('Mean Absolute Error ')\n",
    "plt.plot(history.history['mean_absolute_error'], label='train')\n",
    "plt.plot(history.history['val_mean_absolute_error'], label='test')\n",
    "plt.legend()\n",
    "plt.show();"
   ]
  },
  {
   "cell_type": "code",
   "execution_count": 584,
   "metadata": {},
   "outputs": [
    {
     "data": {
      "text/plain": [
       "array([-0.54552781, -0.54502107, -0.54460265, ...,  0.45424254,\n",
       "        0.06565463, -0.57595098])"
      ]
     },
     "execution_count": 584,
     "metadata": {},
     "output_type": "execute_result"
    }
   ],
   "source": [
    "X_test_pt[7]"
   ]
  },
  {
   "cell_type": "code",
   "execution_count": 585,
   "metadata": {},
   "outputs": [],
   "source": [
    "prediction = model.predict(X_test_pt)"
   ]
  },
  {
   "cell_type": "code",
   "execution_count": 586,
   "metadata": {},
   "outputs": [],
   "source": [
    "#building prediction DataFrame\n",
    "prediction_df = pd.DataFrame(data = prediction, columns= ['prediction'])\n",
    "\n",
    "prediction_df['y_test'] = y_test.values\n",
    "\n",
    "prediction_df['difference'] = prediction_df['prediction'] - prediction_df['y_test']"
   ]
  },
  {
   "cell_type": "code",
   "execution_count": 587,
   "metadata": {},
   "outputs": [
    {
     "data": {
      "image/png": "[encoded data removed]",
      "text/plain": [
       "<Figure size 432x288 with 1 Axes>"
      ]
     },
     "metadata": {
      "needs_background": "light"
     },
     "output_type": "display_data"
    }
   ],
   "source": [
    "plt.hist(prediction_df['y_test'], bins = 20)\n",
    "plt.hist(prediction_df['prediction'], bins = 20); "
   ]
  },
  {
   "cell_type": "code",
   "execution_count": 588,
   "metadata": {},
   "outputs": [
    {
     "data": {
      "text/plain": [
       "[<matplotlib.lines.Line2D at 0x30fc0acc0>]"
      ]
     },
     "execution_count": 588,
     "metadata": {},
     "output_type": "execute_result"
    },
    {
     "data": {
      "image/png": "[encoded data removed]",
      "text/plain": [
       "<Figure size 864x432 with 1 Axes>"
      ]
     },
     "metadata": {
      "needs_background": "light"
     },
     "output_type": "display_data"
    }
   ],
   "source": [
    "plt.figure(figsize = (12,6))\n",
    "plt.plot(prediction_df['difference'])"
   ]
  },
  {
   "cell_type": "code",
   "execution_count": 589,
   "metadata": {},
   "outputs": [
    {
     "data": {
      "text/plain": [
       "-0.83805519096583"
      ]
     },
     "execution_count": 589,
     "metadata": {},
     "output_type": "execute_result"
    }
   ],
   "source": [
    "metrics.r2_score(prediction_df['y_test'], prediction_df['prediction'])"
   ]
  },
  {
   "cell_type": "code",
   "execution_count": null,
   "metadata": {},
   "outputs": [],
   "source": []
  }
 ],
 "metadata": {
  "hide_input": false,
  "kernelspec": {
   "display_name": "Python 3",
   "language": "python",
   "name": "python3"
  },
  "language_info": {
   "codemirror_mode": {
    "name": "ipython",
    "version": 3
   },
   "file_extension": ".py",
   "mimetype": "text/x-python",
   "name": "python",
   "nbconvert_exporter": "python",
   "pygments_lexer": "ipython3",
   "version": "3.7.1"
  },
  "toc": {
   "base_numbering": 1,
   "nav_menu": {},
   "number_sections": true,
   "sideBar": true,
   "skip_h1_title": false,
   "title_cell": "Table of Contents",
   "title_sidebar": "Contents",
   "toc_cell": true,
   "toc_position": {},
   "toc_section_display": true,
   "toc_window_display": false
  },
  "varInspector": {
   "cols": {
    "lenName": 16,
    "lenType": 16,
    "lenVar": 40
   },
   "kernels_config": {
    "python": {
     "delete_cmd_postfix": "",
     "delete_cmd_prefix": "del ",
     "library": "var_list.py",
     "varRefreshCmd": "print(var_dic_list())"
    },
    "r": {
     "delete_cmd_postfix": ") ",
     "delete_cmd_prefix": "rm(",
     "library": "var_list.r",
     "varRefreshCmd": "cat(var_dic_list()) "
    }
   },
   "types_to_exclude": [
    "module",
    "function",
    "builtin_function_or_method",
    "instance",
    "_Feature"
   ],
   "window_display": false
  }
 },
 "nbformat": 4,
 "nbformat_minor": 2
}
