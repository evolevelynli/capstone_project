{
 "cells": [
  {
   "cell_type": "markdown",
   "metadata": {},
   "source": [
    "# Capstone Project: Comment Subtopics Analysis for Airbnb Hosts\n",
    "---"
   ]
  },
  {
   "cell_type": "markdown",
   "metadata": {},
   "source": [
    "How can a host on Airbnb understand that are their strengths and weaknesses? How can hosts point out the demand trend of their customers from a large scale of comments? This project focuses on using machine learning tools to help hosts understand the underlying trends of the comments on their property.  \n",
    "\n",
    "---"
   ]
  },
  {
   "cell_type": "markdown",
   "metadata": {
    "toc": true
   },
   "source": [
    "<h1>Table of Contents<span class=\"tocSkip\"></span></h1>\n",
    "<div class=\"toc\"><ul class=\"toc-item\"><li><span><a href=\"#Capstone-Project:-Comment-Subtopics-Analysis-for-Airbnb-Hosts\" data-toc-modified-id=\"Capstone-Project:-Comment-Subtopics-Analysis-for-Airbnb-Hosts-1\"><span class=\"toc-item-num\">1&nbsp;&nbsp;</span>Capstone Project: Comment Subtopics Analysis for Airbnb Hosts</a></span></li><li><span><a href=\"#Part-4:-Hidden-Topics-Analysis\" data-toc-modified-id=\"Part-4:-Hidden-Topics-Analysis-2\"><span class=\"toc-item-num\">2&nbsp;&nbsp;</span>Part 4: Hidden Topics Analysis</a></span><ul class=\"toc-item\"><li><ul class=\"toc-item\"><li><span><a href=\"#Map-Location-To-Listing\" data-toc-modified-id=\"Map-Location-To-Listing-2.0.1\"><span class=\"toc-item-num\">2.0.1&nbsp;&nbsp;</span>Map Location To Listing</a></span></li></ul></li><li><span><a href=\"#Create-Hidden-Topics-Based-On-Previous-LDA\" data-toc-modified-id=\"Create-Hidden-Topics-Based-On-Previous-LDA-2.1\"><span class=\"toc-item-num\">2.1&nbsp;&nbsp;</span>Create Hidden Topics Based On Previous LDA</a></span></li><li><span><a href=\"#Building-Hidden-Topic-Relevancy-Steps\" data-toc-modified-id=\"Building-Hidden-Topic-Relevancy-Steps-2.2\"><span class=\"toc-item-num\">2.2&nbsp;&nbsp;</span>Building Hidden Topic Relevancy Steps</a></span><ul class=\"toc-item\"><li><span><a href=\"#Example-Analysis-on-a-100-point,-5-stars-hosts\" data-toc-modified-id=\"Example-Analysis-on-a-100-point,-5-stars-hosts-2.2.1\"><span class=\"toc-item-num\">2.2.1&nbsp;&nbsp;</span>Example Analysis on a 100 point, 5 stars hosts</a></span></li><li><span><a href=\"#Example-Analysis-on-a-76-point,--3-stars-hosts\" data-toc-modified-id=\"Example-Analysis-on-a-76-point,--3-stars-hosts-2.2.2\"><span class=\"toc-item-num\">2.2.2&nbsp;&nbsp;</span>Example Analysis on a 76 point,  3 stars hosts</a></span></li></ul></li><li><span><a href=\"#Build-A-Function-for-Conetent-Based-Hidden-Topic-Analysis\" data-toc-modified-id=\"Build-A-Function-for-Conetent-Based-Hidden-Topic-Analysis-2.3\"><span class=\"toc-item-num\">2.3&nbsp;&nbsp;</span>Build A Function for Conetent Based Hidden Topic Analysis</a></span></li><li><span><a href=\"#3-star-host\" data-toc-modified-id=\"3-star-host-2.4\"><span class=\"toc-item-num\">2.4&nbsp;&nbsp;</span>3 star host</a></span></li><li><span><a href=\"#5-Stars-Host\" data-toc-modified-id=\"5-Stars-Host-2.5\"><span class=\"toc-item-num\">2.5&nbsp;&nbsp;</span>5 Stars Host</a></span></li></ul></li></ul></div>"
   ]
  },
  {
   "cell_type": "markdown",
   "metadata": {},
   "source": [
    "\n",
    "# Part 4: Hidden Topics Analysis \n",
    "---"
   ]
  },
  {
   "cell_type": "code",
   "execution_count": 1,
   "metadata": {},
   "outputs": [],
   "source": [
    "import numpy as np\n",
    "import pandas as pd\n",
    "import matplotlib.pyplot as plt \n",
    "import seaborn as sns\n",
    "from sklearn.feature_extraction.text import CountVectorizer, ENGLISH_STOP_WORDS\n",
    "from sklearn.decomposition import LatentDirichletAllocation\n",
    "\n",
    "from gensim import corpora, models\n",
    "import pyLDAvis.gensim\n",
    "from langdetect import detect\n",
    "\n",
    "pyLDAvis.enable_notebook()\n",
    "\n",
    "import warnings\n",
    "warnings.filterwarnings(\"ignore\", category=DeprecationWarning)\n",
    "\n",
    "np.random.seed(42)"
   ]
  },
  {
   "cell_type": "code",
   "execution_count": 2,
   "metadata": {},
   "outputs": [],
   "source": [
    "reviews = pd.read_csv('../data/reviews_sentiment_score.csv', index_col = 0)"
   ]
  },
  {
   "cell_type": "code",
   "execution_count": 3,
   "metadata": {},
   "outputs": [
    {
     "data": {
      "text/html": [
       "<div>\n",
       "<style scoped>\n",
       "    .dataframe tbody tr th:only-of-type {\n",
       "        vertical-align: middle;\n",
       "    }\n",
       "\n",
       "    .dataframe tbody tr th {\n",
       "        vertical-align: top;\n",
       "    }\n",
       "\n",
       "    .dataframe thead th {\n",
       "        text-align: right;\n",
       "    }\n",
       "</style>\n",
       "<table border=\"1\" class=\"dataframe\">\n",
       "  <thead>\n",
       "    <tr style=\"text-align: right;\">\n",
       "      <th></th>\n",
       "      <th>key_0</th>\n",
       "      <th>listing_id</th>\n",
       "      <th>id</th>\n",
       "      <th>date</th>\n",
       "      <th>reviewer_id</th>\n",
       "      <th>reviewer_name</th>\n",
       "      <th>comments</th>\n",
       "      <th>language</th>\n",
       "      <th>overall_rating</th>\n",
       "      <th>compound</th>\n",
       "      <th>neg</th>\n",
       "      <th>neu</th>\n",
       "      <th>pos</th>\n",
       "    </tr>\n",
       "  </thead>\n",
       "  <tbody>\n",
       "    <tr>\n",
       "      <th>0</th>\n",
       "      <td>0</td>\n",
       "      <td>958</td>\n",
       "      <td>5977</td>\n",
       "      <td>2009-07-23</td>\n",
       "      <td>15695</td>\n",
       "      <td>Edmund C</td>\n",
       "      <td>Our experience was, without a doubt, a five st...</td>\n",
       "      <td>en</td>\n",
       "      <td>97.0</td>\n",
       "      <td>0.9590</td>\n",
       "      <td>0.000</td>\n",
       "      <td>0.788</td>\n",
       "      <td>0.212</td>\n",
       "    </tr>\n",
       "    <tr>\n",
       "      <th>1</th>\n",
       "      <td>1</td>\n",
       "      <td>958</td>\n",
       "      <td>6660</td>\n",
       "      <td>2009-08-03</td>\n",
       "      <td>26145</td>\n",
       "      <td>Simon</td>\n",
       "      <td>Returning to San Francisco is a rejuvenating t...</td>\n",
       "      <td>en</td>\n",
       "      <td>97.0</td>\n",
       "      <td>0.9819</td>\n",
       "      <td>0.000</td>\n",
       "      <td>0.697</td>\n",
       "      <td>0.303</td>\n",
       "    </tr>\n",
       "    <tr>\n",
       "      <th>2</th>\n",
       "      <td>2</td>\n",
       "      <td>958</td>\n",
       "      <td>11519</td>\n",
       "      <td>2009-09-27</td>\n",
       "      <td>25839</td>\n",
       "      <td>Denis</td>\n",
       "      <td>We were very pleased with the accommodations a...</td>\n",
       "      <td>en</td>\n",
       "      <td>97.0</td>\n",
       "      <td>0.7600</td>\n",
       "      <td>0.134</td>\n",
       "      <td>0.710</td>\n",
       "      <td>0.156</td>\n",
       "    </tr>\n",
       "    <tr>\n",
       "      <th>3</th>\n",
       "      <td>3</td>\n",
       "      <td>958</td>\n",
       "      <td>16282</td>\n",
       "      <td>2009-11-05</td>\n",
       "      <td>33750</td>\n",
       "      <td>Anna</td>\n",
       "      <td>We highly recommend this accomodation and agre...</td>\n",
       "      <td>en</td>\n",
       "      <td>97.0</td>\n",
       "      <td>0.9840</td>\n",
       "      <td>0.035</td>\n",
       "      <td>0.646</td>\n",
       "      <td>0.319</td>\n",
       "    </tr>\n",
       "    <tr>\n",
       "      <th>4</th>\n",
       "      <td>4</td>\n",
       "      <td>958</td>\n",
       "      <td>26008</td>\n",
       "      <td>2010-02-13</td>\n",
       "      <td>15416</td>\n",
       "      <td>Venetia</td>\n",
       "      <td>Holly's place was great. It was exactly what I...</td>\n",
       "      <td>en</td>\n",
       "      <td>97.0</td>\n",
       "      <td>0.9617</td>\n",
       "      <td>0.000</td>\n",
       "      <td>0.613</td>\n",
       "      <td>0.387</td>\n",
       "    </tr>\n",
       "  </tbody>\n",
       "</table>\n",
       "</div>"
      ],
      "text/plain": [
       "   key_0  listing_id     id        date  reviewer_id reviewer_name  \\\n",
       "0      0         958   5977  2009-07-23        15695      Edmund C   \n",
       "1      1         958   6660  2009-08-03        26145         Simon   \n",
       "2      2         958  11519  2009-09-27        25839         Denis   \n",
       "3      3         958  16282  2009-11-05        33750          Anna   \n",
       "4      4         958  26008  2010-02-13        15416       Venetia   \n",
       "\n",
       "                                            comments language  overall_rating  \\\n",
       "0  Our experience was, without a doubt, a five st...       en            97.0   \n",
       "1  Returning to San Francisco is a rejuvenating t...       en            97.0   \n",
       "2  We were very pleased with the accommodations a...       en            97.0   \n",
       "3  We highly recommend this accomodation and agre...       en            97.0   \n",
       "4  Holly's place was great. It was exactly what I...       en            97.0   \n",
       "\n",
       "   compound    neg    neu    pos  \n",
       "0    0.9590  0.000  0.788  0.212  \n",
       "1    0.9819  0.000  0.697  0.303  \n",
       "2    0.7600  0.134  0.710  0.156  \n",
       "3    0.9840  0.035  0.646  0.319  \n",
       "4    0.9617  0.000  0.613  0.387  "
      ]
     },
     "execution_count": 3,
     "metadata": {},
     "output_type": "execute_result"
    }
   ],
   "source": [
    "reviews.head()"
   ]
  },
  {
   "cell_type": "code",
   "execution_count": 4,
   "metadata": {},
   "outputs": [],
   "source": [
    "listing = pd.read_csv('../data/listings/2019-03-06_data_listings.csv')"
   ]
  },
  {
   "cell_type": "code",
   "execution_count": 5,
   "metadata": {},
   "outputs": [
    {
     "data": {
      "text/html": [
       "<div>\n",
       "<style scoped>\n",
       "    .dataframe tbody tr th:only-of-type {\n",
       "        vertical-align: middle;\n",
       "    }\n",
       "\n",
       "    .dataframe tbody tr th {\n",
       "        vertical-align: top;\n",
       "    }\n",
       "\n",
       "    .dataframe thead th {\n",
       "        text-align: right;\n",
       "    }\n",
       "</style>\n",
       "<table border=\"1\" class=\"dataframe\">\n",
       "  <thead>\n",
       "    <tr style=\"text-align: right;\">\n",
       "      <th></th>\n",
       "      <th>id</th>\n",
       "      <th>listing_url</th>\n",
       "      <th>scrape_id</th>\n",
       "      <th>last_scraped</th>\n",
       "      <th>name</th>\n",
       "      <th>summary</th>\n",
       "      <th>space</th>\n",
       "      <th>description</th>\n",
       "      <th>experiences_offered</th>\n",
       "      <th>neighborhood_overview</th>\n",
       "      <th>...</th>\n",
       "      <th>instant_bookable</th>\n",
       "      <th>is_business_travel_ready</th>\n",
       "      <th>cancellation_policy</th>\n",
       "      <th>require_guest_profile_picture</th>\n",
       "      <th>require_guest_phone_verification</th>\n",
       "      <th>calculated_host_listings_count</th>\n",
       "      <th>calculated_host_listings_count_entire_homes</th>\n",
       "      <th>calculated_host_listings_count_private_rooms</th>\n",
       "      <th>calculated_host_listings_count_shared_rooms</th>\n",
       "      <th>reviews_per_month</th>\n",
       "    </tr>\n",
       "  </thead>\n",
       "  <tbody>\n",
       "    <tr>\n",
       "      <th>0</th>\n",
       "      <td>958</td>\n",
       "      <td>https://www.airbnb.com/rooms/958</td>\n",
       "      <td>20190306152813</td>\n",
       "      <td>2019-03-06</td>\n",
       "      <td>Bright, Modern Garden Unit - 1BR/1B</td>\n",
       "      <td>New update: the house next door is under const...</td>\n",
       "      <td>Newly remodeled, modern, and bright garden uni...</td>\n",
       "      <td>New update: the house next door is under const...</td>\n",
       "      <td>none</td>\n",
       "      <td>*Quiet cul de sac in friendly neighborhood *St...</td>\n",
       "      <td>...</td>\n",
       "      <td>t</td>\n",
       "      <td>f</td>\n",
       "      <td>moderate</td>\n",
       "      <td>f</td>\n",
       "      <td>f</td>\n",
       "      <td>1</td>\n",
       "      <td>1</td>\n",
       "      <td>0</td>\n",
       "      <td>0</td>\n",
       "      <td>1.54</td>\n",
       "    </tr>\n",
       "    <tr>\n",
       "      <th>1</th>\n",
       "      <td>5858</td>\n",
       "      <td>https://www.airbnb.com/rooms/5858</td>\n",
       "      <td>20190306152813</td>\n",
       "      <td>2019-03-06</td>\n",
       "      <td>Creative Sanctuary</td>\n",
       "      <td>NaN</td>\n",
       "      <td>We live in a large Victorian house on a quiet ...</td>\n",
       "      <td>We live in a large Victorian house on a quiet ...</td>\n",
       "      <td>none</td>\n",
       "      <td>I love how our neighborhood feels quiet but is...</td>\n",
       "      <td>...</td>\n",
       "      <td>f</td>\n",
       "      <td>f</td>\n",
       "      <td>strict_14_with_grace_period</td>\n",
       "      <td>f</td>\n",
       "      <td>f</td>\n",
       "      <td>1</td>\n",
       "      <td>1</td>\n",
       "      <td>0</td>\n",
       "      <td>0</td>\n",
       "      <td>0.93</td>\n",
       "    </tr>\n",
       "    <tr>\n",
       "      <th>2</th>\n",
       "      <td>7918</td>\n",
       "      <td>https://www.airbnb.com/rooms/7918</td>\n",
       "      <td>20190306152813</td>\n",
       "      <td>2019-03-06</td>\n",
       "      <td>A Friendly Room - UCSF/USF - San Francisco</td>\n",
       "      <td>Nice and good public transportation.  7 minute...</td>\n",
       "      <td>Room rental-sunny view room/sink/Wi Fi (inner ...</td>\n",
       "      <td>Nice and good public transportation.  7 minute...</td>\n",
       "      <td>none</td>\n",
       "      <td>Shopping old town, restaurants, McDonald, Whol...</td>\n",
       "      <td>...</td>\n",
       "      <td>f</td>\n",
       "      <td>f</td>\n",
       "      <td>strict_14_with_grace_period</td>\n",
       "      <td>f</td>\n",
       "      <td>f</td>\n",
       "      <td>9</td>\n",
       "      <td>0</td>\n",
       "      <td>9</td>\n",
       "      <td>0</td>\n",
       "      <td>0.15</td>\n",
       "    </tr>\n",
       "    <tr>\n",
       "      <th>3</th>\n",
       "      <td>8142</td>\n",
       "      <td>https://www.airbnb.com/rooms/8142</td>\n",
       "      <td>20190306152813</td>\n",
       "      <td>2019-03-06</td>\n",
       "      <td>Friendly Room Apt. Style -UCSF/USF - San Franc...</td>\n",
       "      <td>Nice and good public transportation.  7 minute...</td>\n",
       "      <td>Room rental Sunny view Rm/Wi-Fi/TV/sink/large ...</td>\n",
       "      <td>Nice and good public transportation.  7 minute...</td>\n",
       "      <td>none</td>\n",
       "      <td>NaN</td>\n",
       "      <td>...</td>\n",
       "      <td>f</td>\n",
       "      <td>f</td>\n",
       "      <td>strict_14_with_grace_period</td>\n",
       "      <td>f</td>\n",
       "      <td>f</td>\n",
       "      <td>9</td>\n",
       "      <td>0</td>\n",
       "      <td>9</td>\n",
       "      <td>0</td>\n",
       "      <td>0.15</td>\n",
       "    </tr>\n",
       "    <tr>\n",
       "      <th>4</th>\n",
       "      <td>8339</td>\n",
       "      <td>https://www.airbnb.com/rooms/8339</td>\n",
       "      <td>20190306152813</td>\n",
       "      <td>2019-03-06</td>\n",
       "      <td>Historic Alamo Square Victorian</td>\n",
       "      <td>Pls email before booking.  Interior featured i...</td>\n",
       "      <td>Please send us a quick message before booking ...</td>\n",
       "      <td>Pls email before booking.  Interior featured i...</td>\n",
       "      <td>none</td>\n",
       "      <td>NaN</td>\n",
       "      <td>...</td>\n",
       "      <td>f</td>\n",
       "      <td>f</td>\n",
       "      <td>strict_14_with_grace_period</td>\n",
       "      <td>t</td>\n",
       "      <td>t</td>\n",
       "      <td>2</td>\n",
       "      <td>2</td>\n",
       "      <td>0</td>\n",
       "      <td>0</td>\n",
       "      <td>0.23</td>\n",
       "    </tr>\n",
       "  </tbody>\n",
       "</table>\n",
       "<p>5 rows × 106 columns</p>\n",
       "</div>"
      ],
      "text/plain": [
       "     id                        listing_url       scrape_id last_scraped  \\\n",
       "0   958   https://www.airbnb.com/rooms/958  20190306152813   2019-03-06   \n",
       "1  5858  https://www.airbnb.com/rooms/5858  20190306152813   2019-03-06   \n",
       "2  7918  https://www.airbnb.com/rooms/7918  20190306152813   2019-03-06   \n",
       "3  8142  https://www.airbnb.com/rooms/8142  20190306152813   2019-03-06   \n",
       "4  8339  https://www.airbnb.com/rooms/8339  20190306152813   2019-03-06   \n",
       "\n",
       "                                                name  \\\n",
       "0                Bright, Modern Garden Unit - 1BR/1B   \n",
       "1                                 Creative Sanctuary   \n",
       "2         A Friendly Room - UCSF/USF - San Francisco   \n",
       "3  Friendly Room Apt. Style -UCSF/USF - San Franc...   \n",
       "4                    Historic Alamo Square Victorian   \n",
       "\n",
       "                                             summary  \\\n",
       "0  New update: the house next door is under const...   \n",
       "1                                                NaN   \n",
       "2  Nice and good public transportation.  7 minute...   \n",
       "3  Nice and good public transportation.  7 minute...   \n",
       "4  Pls email before booking.  Interior featured i...   \n",
       "\n",
       "                                               space  \\\n",
       "0  Newly remodeled, modern, and bright garden uni...   \n",
       "1  We live in a large Victorian house on a quiet ...   \n",
       "2  Room rental-sunny view room/sink/Wi Fi (inner ...   \n",
       "3  Room rental Sunny view Rm/Wi-Fi/TV/sink/large ...   \n",
       "4  Please send us a quick message before booking ...   \n",
       "\n",
       "                                         description experiences_offered  \\\n",
       "0  New update: the house next door is under const...                none   \n",
       "1  We live in a large Victorian house on a quiet ...                none   \n",
       "2  Nice and good public transportation.  7 minute...                none   \n",
       "3  Nice and good public transportation.  7 minute...                none   \n",
       "4  Pls email before booking.  Interior featured i...                none   \n",
       "\n",
       "                               neighborhood_overview  ... instant_bookable  \\\n",
       "0  *Quiet cul de sac in friendly neighborhood *St...  ...                t   \n",
       "1  I love how our neighborhood feels quiet but is...  ...                f   \n",
       "2  Shopping old town, restaurants, McDonald, Whol...  ...                f   \n",
       "3                                                NaN  ...                f   \n",
       "4                                                NaN  ...                f   \n",
       "\n",
       "  is_business_travel_ready          cancellation_policy  \\\n",
       "0                        f                     moderate   \n",
       "1                        f  strict_14_with_grace_period   \n",
       "2                        f  strict_14_with_grace_period   \n",
       "3                        f  strict_14_with_grace_period   \n",
       "4                        f  strict_14_with_grace_period   \n",
       "\n",
       "  require_guest_profile_picture require_guest_phone_verification  \\\n",
       "0                             f                                f   \n",
       "1                             f                                f   \n",
       "2                             f                                f   \n",
       "3                             f                                f   \n",
       "4                             t                                t   \n",
       "\n",
       "   calculated_host_listings_count  \\\n",
       "0                               1   \n",
       "1                               1   \n",
       "2                               9   \n",
       "3                               9   \n",
       "4                               2   \n",
       "\n",
       "   calculated_host_listings_count_entire_homes  \\\n",
       "0                                            1   \n",
       "1                                            1   \n",
       "2                                            0   \n",
       "3                                            0   \n",
       "4                                            2   \n",
       "\n",
       "  calculated_host_listings_count_private_rooms  \\\n",
       "0                                            0   \n",
       "1                                            0   \n",
       "2                                            9   \n",
       "3                                            9   \n",
       "4                                            0   \n",
       "\n",
       "   calculated_host_listings_count_shared_rooms  reviews_per_month  \n",
       "0                                            0               1.54  \n",
       "1                                            0               0.93  \n",
       "2                                            0               0.15  \n",
       "3                                            0               0.15  \n",
       "4                                            0               0.23  \n",
       "\n",
       "[5 rows x 106 columns]"
      ]
     },
     "execution_count": 5,
     "metadata": {},
     "output_type": "execute_result"
    }
   ],
   "source": [
    "listing.head()"
   ]
  },
  {
   "cell_type": "markdown",
   "metadata": {},
   "source": [
    "### Map Location To Listing \n",
    "---"
   ]
  },
  {
   "cell_type": "code",
   "execution_count": 6,
   "metadata": {},
   "outputs": [],
   "source": [
    "location_dict = {}\n",
    "for i, neighbourhood in zip(listing['id'],listing['neighbourhood_cleansed']):\n",
    "    location_dict[i] = neighbourhood"
   ]
  },
  {
   "cell_type": "code",
   "execution_count": 7,
   "metadata": {},
   "outputs": [
    {
     "data": {
      "text/plain": [
       "7151"
      ]
     },
     "execution_count": 7,
     "metadata": {},
     "output_type": "execute_result"
    }
   ],
   "source": [
    "len(location_dict)"
   ]
  },
  {
   "cell_type": "code",
   "execution_count": 8,
   "metadata": {},
   "outputs": [],
   "source": [
    "reviews['neighbourhood'] = reviews['listing_id'].map(location_dict)"
   ]
  },
  {
   "cell_type": "code",
   "execution_count": 9,
   "metadata": {
    "scrolled": true
   },
   "outputs": [
    {
     "data": {
      "text/html": [
       "<div>\n",
       "<style scoped>\n",
       "    .dataframe tbody tr th:only-of-type {\n",
       "        vertical-align: middle;\n",
       "    }\n",
       "\n",
       "    .dataframe tbody tr th {\n",
       "        vertical-align: top;\n",
       "    }\n",
       "\n",
       "    .dataframe thead th {\n",
       "        text-align: right;\n",
       "    }\n",
       "</style>\n",
       "<table border=\"1\" class=\"dataframe\">\n",
       "  <thead>\n",
       "    <tr style=\"text-align: right;\">\n",
       "      <th></th>\n",
       "      <th>key_0</th>\n",
       "      <th>listing_id</th>\n",
       "      <th>id</th>\n",
       "      <th>date</th>\n",
       "      <th>reviewer_id</th>\n",
       "      <th>reviewer_name</th>\n",
       "      <th>comments</th>\n",
       "      <th>language</th>\n",
       "      <th>overall_rating</th>\n",
       "      <th>compound</th>\n",
       "      <th>neg</th>\n",
       "      <th>neu</th>\n",
       "      <th>pos</th>\n",
       "      <th>neighbourhood</th>\n",
       "    </tr>\n",
       "  </thead>\n",
       "  <tbody>\n",
       "    <tr>\n",
       "      <th>0</th>\n",
       "      <td>0</td>\n",
       "      <td>958</td>\n",
       "      <td>5977</td>\n",
       "      <td>2009-07-23</td>\n",
       "      <td>15695</td>\n",
       "      <td>Edmund C</td>\n",
       "      <td>Our experience was, without a doubt, a five st...</td>\n",
       "      <td>en</td>\n",
       "      <td>97.0</td>\n",
       "      <td>0.9590</td>\n",
       "      <td>0.000</td>\n",
       "      <td>0.788</td>\n",
       "      <td>0.212</td>\n",
       "      <td>Western Addition</td>\n",
       "    </tr>\n",
       "    <tr>\n",
       "      <th>1</th>\n",
       "      <td>1</td>\n",
       "      <td>958</td>\n",
       "      <td>6660</td>\n",
       "      <td>2009-08-03</td>\n",
       "      <td>26145</td>\n",
       "      <td>Simon</td>\n",
       "      <td>Returning to San Francisco is a rejuvenating t...</td>\n",
       "      <td>en</td>\n",
       "      <td>97.0</td>\n",
       "      <td>0.9819</td>\n",
       "      <td>0.000</td>\n",
       "      <td>0.697</td>\n",
       "      <td>0.303</td>\n",
       "      <td>Western Addition</td>\n",
       "    </tr>\n",
       "    <tr>\n",
       "      <th>2</th>\n",
       "      <td>2</td>\n",
       "      <td>958</td>\n",
       "      <td>11519</td>\n",
       "      <td>2009-09-27</td>\n",
       "      <td>25839</td>\n",
       "      <td>Denis</td>\n",
       "      <td>We were very pleased with the accommodations a...</td>\n",
       "      <td>en</td>\n",
       "      <td>97.0</td>\n",
       "      <td>0.7600</td>\n",
       "      <td>0.134</td>\n",
       "      <td>0.710</td>\n",
       "      <td>0.156</td>\n",
       "      <td>Western Addition</td>\n",
       "    </tr>\n",
       "    <tr>\n",
       "      <th>3</th>\n",
       "      <td>3</td>\n",
       "      <td>958</td>\n",
       "      <td>16282</td>\n",
       "      <td>2009-11-05</td>\n",
       "      <td>33750</td>\n",
       "      <td>Anna</td>\n",
       "      <td>We highly recommend this accomodation and agre...</td>\n",
       "      <td>en</td>\n",
       "      <td>97.0</td>\n",
       "      <td>0.9840</td>\n",
       "      <td>0.035</td>\n",
       "      <td>0.646</td>\n",
       "      <td>0.319</td>\n",
       "      <td>Western Addition</td>\n",
       "    </tr>\n",
       "    <tr>\n",
       "      <th>4</th>\n",
       "      <td>4</td>\n",
       "      <td>958</td>\n",
       "      <td>26008</td>\n",
       "      <td>2010-02-13</td>\n",
       "      <td>15416</td>\n",
       "      <td>Venetia</td>\n",
       "      <td>Holly's place was great. It was exactly what I...</td>\n",
       "      <td>en</td>\n",
       "      <td>97.0</td>\n",
       "      <td>0.9617</td>\n",
       "      <td>0.000</td>\n",
       "      <td>0.613</td>\n",
       "      <td>0.387</td>\n",
       "      <td>Western Addition</td>\n",
       "    </tr>\n",
       "  </tbody>\n",
       "</table>\n",
       "</div>"
      ],
      "text/plain": [
       "   key_0  listing_id     id        date  reviewer_id reviewer_name  \\\n",
       "0      0         958   5977  2009-07-23        15695      Edmund C   \n",
       "1      1         958   6660  2009-08-03        26145         Simon   \n",
       "2      2         958  11519  2009-09-27        25839         Denis   \n",
       "3      3         958  16282  2009-11-05        33750          Anna   \n",
       "4      4         958  26008  2010-02-13        15416       Venetia   \n",
       "\n",
       "                                            comments language  overall_rating  \\\n",
       "0  Our experience was, without a doubt, a five st...       en            97.0   \n",
       "1  Returning to San Francisco is a rejuvenating t...       en            97.0   \n",
       "2  We were very pleased with the accommodations a...       en            97.0   \n",
       "3  We highly recommend this accomodation and agre...       en            97.0   \n",
       "4  Holly's place was great. It was exactly what I...       en            97.0   \n",
       "\n",
       "   compound    neg    neu    pos     neighbourhood  \n",
       "0    0.9590  0.000  0.788  0.212  Western Addition  \n",
       "1    0.9819  0.000  0.697  0.303  Western Addition  \n",
       "2    0.7600  0.134  0.710  0.156  Western Addition  \n",
       "3    0.9840  0.035  0.646  0.319  Western Addition  \n",
       "4    0.9617  0.000  0.613  0.387  Western Addition  "
      ]
     },
     "execution_count": 9,
     "metadata": {},
     "output_type": "execute_result"
    }
   ],
   "source": [
    "reviews.head()"
   ]
  },
  {
   "cell_type": "code",
   "execution_count": 10,
   "metadata": {
    "scrolled": false
   },
   "outputs": [
    {
     "data": {
      "text/html": [
       "<div>\n",
       "<style scoped>\n",
       "    .dataframe tbody tr th:only-of-type {\n",
       "        vertical-align: middle;\n",
       "    }\n",
       "\n",
       "    .dataframe tbody tr th {\n",
       "        vertical-align: top;\n",
       "    }\n",
       "\n",
       "    .dataframe thead th {\n",
       "        text-align: right;\n",
       "    }\n",
       "</style>\n",
       "<table border=\"1\" class=\"dataframe\">\n",
       "  <thead>\n",
       "    <tr style=\"text-align: right;\">\n",
       "      <th></th>\n",
       "      <th>key_0</th>\n",
       "      <th>listing_id</th>\n",
       "      <th>id</th>\n",
       "      <th>date</th>\n",
       "      <th>reviewer_id</th>\n",
       "      <th>reviewer_name</th>\n",
       "      <th>comments</th>\n",
       "      <th>language</th>\n",
       "      <th>overall_rating</th>\n",
       "      <th>compound</th>\n",
       "      <th>neg</th>\n",
       "      <th>neu</th>\n",
       "      <th>pos</th>\n",
       "      <th>neighbourhood</th>\n",
       "    </tr>\n",
       "  </thead>\n",
       "  <tbody>\n",
       "    <tr>\n",
       "      <th>111057</th>\n",
       "      <td>118846</td>\n",
       "      <td>3441949</td>\n",
       "      <td>257875081</td>\n",
       "      <td>2018-04-27</td>\n",
       "      <td>331641</td>\n",
       "      <td>SHireen</td>\n",
       "      <td>Amazing location to EVERYTHING!!\\nI loved my s...</td>\n",
       "      <td>en</td>\n",
       "      <td>100.0</td>\n",
       "      <td>0.9790</td>\n",
       "      <td>0.000</td>\n",
       "      <td>0.615</td>\n",
       "      <td>0.385</td>\n",
       "      <td>Russian Hill</td>\n",
       "    </tr>\n",
       "    <tr>\n",
       "      <th>153942</th>\n",
       "      <td>164965</td>\n",
       "      <td>6600081</td>\n",
       "      <td>220292788</td>\n",
       "      <td>2017-12-21</td>\n",
       "      <td>130492142</td>\n",
       "      <td>Ping</td>\n",
       "      <td>Del’s place is absolutely amazing! It is centr...</td>\n",
       "      <td>en</td>\n",
       "      <td>100.0</td>\n",
       "      <td>0.8966</td>\n",
       "      <td>0.000</td>\n",
       "      <td>0.454</td>\n",
       "      <td>0.546</td>\n",
       "      <td>Mission</td>\n",
       "    </tr>\n",
       "    <tr>\n",
       "      <th>153934</th>\n",
       "      <td>164957</td>\n",
       "      <td>6600081</td>\n",
       "      <td>213716517</td>\n",
       "      <td>2017-11-22</td>\n",
       "      <td>32005301</td>\n",
       "      <td>AyJay</td>\n",
       "      <td>Fantastic stay overall!</td>\n",
       "      <td>en</td>\n",
       "      <td>100.0</td>\n",
       "      <td>0.9229</td>\n",
       "      <td>0.000</td>\n",
       "      <td>0.513</td>\n",
       "      <td>0.487</td>\n",
       "      <td>Mission</td>\n",
       "    </tr>\n",
       "    <tr>\n",
       "      <th>153935</th>\n",
       "      <td>164958</td>\n",
       "      <td>6600081</td>\n",
       "      <td>214336615</td>\n",
       "      <td>2017-11-25</td>\n",
       "      <td>5638600</td>\n",
       "      <td>Abrol</td>\n",
       "      <td>Absolutely great in all respects.</td>\n",
       "      <td>en</td>\n",
       "      <td>100.0</td>\n",
       "      <td>0.7960</td>\n",
       "      <td>0.114</td>\n",
       "      <td>0.557</td>\n",
       "      <td>0.329</td>\n",
       "      <td>Mission</td>\n",
       "    </tr>\n",
       "    <tr>\n",
       "      <th>153936</th>\n",
       "      <td>164959</td>\n",
       "      <td>6600081</td>\n",
       "      <td>214861636</td>\n",
       "      <td>2017-11-26</td>\n",
       "      <td>28140170</td>\n",
       "      <td>Sanem</td>\n",
       "      <td>Great place to stay.</td>\n",
       "      <td>en</td>\n",
       "      <td>100.0</td>\n",
       "      <td>0.9779</td>\n",
       "      <td>0.000</td>\n",
       "      <td>0.637</td>\n",
       "      <td>0.363</td>\n",
       "      <td>Mission</td>\n",
       "    </tr>\n",
       "  </tbody>\n",
       "</table>\n",
       "</div>"
      ],
      "text/plain": [
       "         key_0  listing_id         id        date  reviewer_id reviewer_name  \\\n",
       "111057  118846     3441949  257875081  2018-04-27       331641       SHireen   \n",
       "153942  164965     6600081  220292788  2017-12-21    130492142          Ping   \n",
       "153934  164957     6600081  213716517  2017-11-22     32005301         AyJay   \n",
       "153935  164958     6600081  214336615  2017-11-25      5638600         Abrol   \n",
       "153936  164959     6600081  214861636  2017-11-26     28140170         Sanem   \n",
       "\n",
       "                                                 comments language  \\\n",
       "111057  Amazing location to EVERYTHING!!\\nI loved my s...       en   \n",
       "153942  Del’s place is absolutely amazing! It is centr...       en   \n",
       "153934                            Fantastic stay overall!       en   \n",
       "153935                  Absolutely great in all respects.       en   \n",
       "153936                               Great place to stay.       en   \n",
       "\n",
       "        overall_rating  compound    neg    neu    pos neighbourhood  \n",
       "111057           100.0    0.9790  0.000  0.615  0.385  Russian Hill  \n",
       "153942           100.0    0.8966  0.000  0.454  0.546       Mission  \n",
       "153934           100.0    0.9229  0.000  0.513  0.487       Mission  \n",
       "153935           100.0    0.7960  0.114  0.557  0.329       Mission  \n",
       "153936           100.0    0.9779  0.000  0.637  0.363       Mission  "
      ]
     },
     "execution_count": 10,
     "metadata": {},
     "output_type": "execute_result"
    }
   ],
   "source": [
    "reviews.sort_values(by = ['overall_rating'], ascending = False).head()"
   ]
  },
  {
   "cell_type": "code",
   "execution_count": 11,
   "metadata": {
    "scrolled": false
   },
   "outputs": [
    {
     "data": {
      "text/plain": [
       "25094"
      ]
     },
     "execution_count": 11,
     "metadata": {},
     "output_type": "execute_result"
    }
   ],
   "source": [
    "reviews[reviews['listing_id'] == 25094]['listing_id'].unique()[0]"
   ]
  },
  {
   "cell_type": "code",
   "execution_count": 12,
   "metadata": {},
   "outputs": [],
   "source": [
    "listing_avg_rating = reviews[[\"listing_id\", \"overall_rating\"]].groupby(by = \"listing_id\").mean().reset_index()"
   ]
  },
  {
   "cell_type": "code",
   "execution_count": 13,
   "metadata": {},
   "outputs": [],
   "source": [
    "listing_id = []\n",
    "for i in listing_avg_rating[listing_avg_rating['overall_rating'] == 100]['listing_id']: \n",
    "    if reviews[reviews['listing_id'] == i].shape[0] < 100: \n",
    "        pass \n",
    "    else: \n",
    "        listing_id.append(reviews[reviews['listing_id'] == i]['listing_id'].unique()[0])"
   ]
  },
  {
   "cell_type": "code",
   "execution_count": 14,
   "metadata": {},
   "outputs": [
    {
     "data": {
      "text/plain": [
       "[27025,\n",
       " 561602,\n",
       " 657121,\n",
       " 909063,\n",
       " 1110346,\n",
       " 1421671,\n",
       " 3081560,\n",
       " 3333870,\n",
       " 4558898,\n",
       " 5068486,\n",
       " 6560870,\n",
       " 6600081,\n",
       " 7022309,\n",
       " 7180020,\n",
       " 7327920,\n",
       " 7998215,\n",
       " 9196933,\n",
       " 9347891,\n",
       " 10437411,\n",
       " 11104122,\n",
       " 11191951,\n",
       " 12562572,\n",
       " 14745298,\n",
       " 14996188,\n",
       " 17222602,\n",
       " 18994064,\n",
       " 19015884,\n",
       " 19331975,\n",
       " 19403989,\n",
       " 20695687,\n",
       " 20762414,\n",
       " 20803354]"
      ]
     },
     "execution_count": 14,
     "metadata": {},
     "output_type": "execute_result"
    }
   ],
   "source": [
    "listing_id"
   ]
  },
  {
   "cell_type": "markdown",
   "metadata": {},
   "source": [
    "## Create Hidden Topics Based On Previous LDA \n",
    "---\n",
    "\n",
    "- 4 hidden topics people are talking about based on well-performing hosts showed up in LDA based on Sentiment and Review Score. \n",
    "\n",
    "- 3 hidden topics people are talking abotu based on poor-performing hosts showed up in LDA based on Sentiment and review Score.  "
   ]
  },
  {
   "cell_type": "code",
   "execution_count": 29,
   "metadata": {},
   "outputs": [],
   "source": [
    "#Topic 1: Good Sentiment Words \n",
    "Positive_sentiment_topic = ['great location', 'good experience', 'location great', \n",
    "                        'definitely stay', 'place stay', \n",
    "                        'great stay','great place', 'great time' ,'great value' ,\n",
    "                        'definitely recommend' ,'recommend staying',\n",
    "                        'highly recommended','highly recommend','recommend staying',\n",
    "                        'recommend place','apartment great',\n",
    "                        'enjoyed stay','recommend place','nice little','great value',\n",
    "                        'loved stay','enjoyed stay','really enjoyed',\n",
    "                        'really nice','place great','hayes valley','highly recommend',\n",
    "                        'definitely recommend','definitely stay',\n",
    "                        'stay time','amazing location','clean comfortable','clean great',\n",
    "                        'feel welcome','enjoyed stay',\n",
    "                        'place great','really great','place wonderful','great recommendations',\n",
    "                        'overall great' ,'overall good' ,\n",
    "                        'good stay' ,'exactly described', 'excellent','exceeded expectations', 'lovely']"
   ]
  },
  {
   "cell_type": "code",
   "execution_count": 30,
   "metadata": {},
   "outputs": [],
   "source": [
    "#convinence\n",
    "Convinence_topic = ['nice location', \n",
    "                    'easy check',\n",
    "                    'easy',\n",
    "                    'awesome location',\n",
    "                    'centrally located',\n",
    "                    'location perfect',\n",
    "                    'great location',\n",
    "                    'location great',\n",
    "                    'walking distance',\n",
    "                    'public transportation',\n",
    "                    'public transport',\n",
    "                    'golden gate',\n",
    "                    'gate park',\n",
    "                    'restaurants bars',\n",
    "                    'local restaurants',\n",
    "                    'shops restaurants',\n",
    "                    'parking space',\n",
    "                    'short walk',\n",
    "                    'great spot',\n",
    "                    'centrally located',\n",
    "                    'great neighborhood',\n",
    "                    'places eat',\n",
    "                    'location beautiful',\n",
    "                    'blocks away',\n",
    "                    'street parking', \n",
    "                    'close',\n",
    "                    'mins walk',\n",
    "                    'short walk',\n",
    "                    'bart station'] "
   ]
  },
  {
   "cell_type": "code",
   "execution_count": 31,
   "metadata": {},
   "outputs": [],
   "source": [
    "#Host Attitude \n",
    "Host_attitude_topic = ['helpful', \n",
    "                        'friendly',\n",
    "                        'accommodating host',\n",
    "                        'nice host',\n",
    "                        'excellent host',\n",
    "                        'friendly helpful',\n",
    "                        'host great',\n",
    "                        'great host',\n",
    "                        'great hospitality',\n",
    "                        'easy communicate',\n",
    "                        'great communication',\n",
    "                        'communication',\n",
    "                        'quick respond',\n",
    "                        'respond quesitions', \n",
    "                        'great hospitality',\n",
    "                        'host highly',\n",
    "                        'welcoming helpful',\n",
    "                        'wonderful host',\n",
    "                        'responsive']\n"
   ]
  },
  {
   "cell_type": "code",
   "execution_count": 32,
   "metadata": {},
   "outputs": [],
   "source": [
    "#Amenities\n",
    "Amenities_compliments = ['spacious', \n",
    "                    'clean',\n",
    "                    'beautiful',\n",
    "                    'nice',\n",
    "                    'stylish',\n",
    "                    'comfortable', \n",
    "                    'comfy beds', \n",
    "                    'comfy', \n",
    "                    'safe',\n",
    "                    'quiet', \n",
    "                    'clean room',\n",
    "                    'house clean',\n",
    "                    'house beautiful',\n",
    "                    'place clean',\n",
    "                    'coffee morning',\n",
    "                    'great apartment',\n",
    "                    'bed comfortable',\n",
    "                    'bed', \n",
    "                    'room clean',\n",
    "                    'place amazing',\n",
    "                    'great place',\n",
    "                    'great restaurants',\n",
    "                    'exactly described',\n",
    "                    'places eat',\n",
    "                    'apartment clean',\n",
    "                    'place clean',\n",
    "                    'sparkling clean',\n",
    "                    'apartment beautiful',\n",
    "                    'beautiful view',\n",
    "                    'place beautiful',\n",
    "                    'extremely clean',\n",
    "                    'beautiful home',\n",
    "                    'safe neighbourhood', \n",
    "                    'quiet place',\n",
    "                    'great bathroom']"
   ]
  },
  {
   "cell_type": "code",
   "execution_count": 33,
   "metadata": {},
   "outputs": [],
   "source": [
    "Cleaniness = ['clean', \n",
    "              'clean room',\n",
    "              'house clean',\n",
    "              'place clean', \n",
    "              'apartment clean',\n",
    "              'place clean',\n",
    "              'sparkling clean',\n",
    "              'extremely clean']"
   ]
  },
  {
   "cell_type": "code",
   "execution_count": 34,
   "metadata": {},
   "outputs": [],
   "source": [
    "#bad performiming topics \n",
    "#host cancelation keywords \n",
    "Host_calcelation = ['host canceled',\n",
    "                    'automated posting',\n",
    "                    'canceled reservation',\n",
    "                    'reservation canceled']\n"
   ]
  },
  {
   "cell_type": "code",
   "execution_count": 35,
   "metadata": {},
   "outputs": [],
   "source": [
    "#environment issue \n",
    "Environment_complains = ['homeless people',\n",
    "                     'lot homeless',\n",
    "                     'homeless', \n",
    "                     'drug', \n",
    "                     'mind neighborhood', \n",
    "                     'homeless population',\n",
    "                     'heavy homeless', \n",
    "                     'lot homeless',\n",
    "                     'unsafe neighborhood']\n",
    "\n"
   ]
  },
  {
   "cell_type": "code",
   "execution_count": 36,
   "metadata": {},
   "outputs": [],
   "source": [
    "#bad Sentiment words \n",
    "Negative_sentiments_topic = ['horrible', 'difficult', 'worst' ,'bad', 'poor', \n",
    "                  'dirty', 'congested', 'noisy', 'frustrating']"
   ]
  },
  {
   "cell_type": "markdown",
   "metadata": {},
   "source": [
    "## Building Hidden Topic Relevancy Steps \n",
    "---"
   ]
  },
  {
   "cell_type": "markdown",
   "metadata": {},
   "source": [
    "### Example Analysis on a 100 point, 5 stars hosts \n",
    "\n",
    "---"
   ]
  },
  {
   "cell_type": "code",
   "execution_count": 37,
   "metadata": {},
   "outputs": [
    {
     "data": {
      "text/plain": [
       "['The flat is beautiful, and fully and thoughtfully appointed.  The location is hard to beat too, just one block from Dolores Park.  And Luis is the sweetest host.  We enjoyed our stay very much.']"
      ]
     },
     "execution_count": 37,
     "metadata": {},
     "output_type": "execute_result"
    }
   ],
   "source": [
    "# 1. Combine all reviews and tokenize them \n",
    "list(reviews[reviews['listing_id'] == 27025]['comments'])[:1]"
   ]
  },
  {
   "cell_type": "code",
   "execution_count": 38,
   "metadata": {},
   "outputs": [],
   "source": [
    "#Use countvectorizer to get all features names with n_gram = 1 and 2 \n",
    "cv = CountVectorizer(ngram_range= (1,2), \n",
    "                     stop_words= 'english', \n",
    "                     min_df = 2)\n",
    "\n",
    "cv_transform = cv.fit_transform(list(reviews[reviews['listing_id'] == 27025]['comments']))"
   ]
  },
  {
   "cell_type": "code",
   "execution_count": 39,
   "metadata": {},
   "outputs": [],
   "source": [
    "feature_list = cv.get_feature_names()"
   ]
  },
  {
   "cell_type": "code",
   "execution_count": 40,
   "metadata": {},
   "outputs": [],
   "source": [
    "good_sentiment = 0\n",
    "convenience = 0 \n",
    "host_attitude = 0 \n",
    "amenities = 0 \n",
    "cleaniness = 0\n",
    "cancelation = 0\n",
    "environment_problem = 0 \n",
    "bad_sentiment = 0 \n",
    "\n",
    "for word in feature_list: \n",
    "    if word in Positive_sentiment_topic: \n",
    "        good_sentiment += 1 \n",
    "    if word in Convinence_topic: \n",
    "        convenience += 1 \n",
    "    if word in Host_attitude_topic: \n",
    "        host_attitude += 1 \n",
    "    if word in Amenities_compliments: \n",
    "        amenities += 1 \n",
    "    if word in Cleaniness: \n",
    "        cleaniness += 1 \n",
    "    if word in Host_calcelation: \n",
    "        cancelation += 1 \n",
    "    if word in Environment_complains: \n",
    "        environment_problem += 1 \n",
    "    if word in Negative_sentiments_topic: \n",
    "        bad_sentiment += 1 "
   ]
  },
  {
   "cell_type": "code",
   "execution_count": 41,
   "metadata": {},
   "outputs": [],
   "source": [
    "hidden_topic_df = pd.DataFrame(['good_sentiment', 'convenience', 'host_attitude', 'amenities' , 'cleaniness', \n",
    "              'cancelation', 'environment_problem', 'bad_sentiment'], columns = ['hidden_topic'])\n",
    "hidden_topic_df['values'] = [good_sentiment, convenience, host_attitude, amenities ,cleaniness,  cancelation, environment_problem, bad_sentiment]"
   ]
  },
  {
   "cell_type": "code",
   "execution_count": 42,
   "metadata": {},
   "outputs": [
    {
     "data": {
      "text/html": [
       "<div>\n",
       "<style scoped>\n",
       "    .dataframe tbody tr th:only-of-type {\n",
       "        vertical-align: middle;\n",
       "    }\n",
       "\n",
       "    .dataframe tbody tr th {\n",
       "        vertical-align: top;\n",
       "    }\n",
       "\n",
       "    .dataframe thead th {\n",
       "        text-align: right;\n",
       "    }\n",
       "</style>\n",
       "<table border=\"1\" class=\"dataframe\">\n",
       "  <thead>\n",
       "    <tr style=\"text-align: right;\">\n",
       "      <th></th>\n",
       "      <th>hidden_topic</th>\n",
       "      <th>values</th>\n",
       "    </tr>\n",
       "  </thead>\n",
       "  <tbody>\n",
       "    <tr>\n",
       "      <th>0</th>\n",
       "      <td>good_sentiment</td>\n",
       "      <td>22</td>\n",
       "    </tr>\n",
       "    <tr>\n",
       "      <th>1</th>\n",
       "      <td>convenience</td>\n",
       "      <td>14</td>\n",
       "    </tr>\n",
       "    <tr>\n",
       "      <th>2</th>\n",
       "      <td>host_attitude</td>\n",
       "      <td>7</td>\n",
       "    </tr>\n",
       "    <tr>\n",
       "      <th>3</th>\n",
       "      <td>amenities</td>\n",
       "      <td>17</td>\n",
       "    </tr>\n",
       "    <tr>\n",
       "      <th>4</th>\n",
       "      <td>cleaniness</td>\n",
       "      <td>2</td>\n",
       "    </tr>\n",
       "    <tr>\n",
       "      <th>5</th>\n",
       "      <td>cancelation</td>\n",
       "      <td>0</td>\n",
       "    </tr>\n",
       "    <tr>\n",
       "      <th>6</th>\n",
       "      <td>environment_problem</td>\n",
       "      <td>0</td>\n",
       "    </tr>\n",
       "    <tr>\n",
       "      <th>7</th>\n",
       "      <td>bad_sentiment</td>\n",
       "      <td>1</td>\n",
       "    </tr>\n",
       "  </tbody>\n",
       "</table>\n",
       "</div>"
      ],
      "text/plain": [
       "          hidden_topic  values\n",
       "0       good_sentiment      22\n",
       "1          convenience      14\n",
       "2        host_attitude       7\n",
       "3            amenities      17\n",
       "4           cleaniness       2\n",
       "5          cancelation       0\n",
       "6  environment_problem       0\n",
       "7        bad_sentiment       1"
      ]
     },
     "execution_count": 42,
     "metadata": {},
     "output_type": "execute_result"
    }
   ],
   "source": [
    "hidden_topic_df"
   ]
  },
  {
   "cell_type": "code",
   "execution_count": 43,
   "metadata": {
    "scrolled": false
   },
   "outputs": [
    {
     "data": {
      "image/png": "[encoded data removed]",
      "text/plain": [
       "<Figure size 1200x600 with 2 Axes>"
      ]
     },
     "metadata": {
      "needs_background": "light"
     },
     "output_type": "display_data"
    }
   ],
   "source": [
    "fig, axes = plt.subplots(1, 2, figsize=(12,6), dpi=100, sharex= False, sharey=True)\n",
    "colors = sns.color_palette(\"viridis\", 2)\n",
    "\n",
    "sns.barplot(x = ['good_sentiment', 'convenience', 'host_attitude', 'amenities', 'cleaniness'],\n",
    "            y = [good_sentiment, convenience, host_attitude, amenities, cleaniness], \n",
    "            ax = axes[0])\n",
    "\n",
    "sns.barplot(x = ['cancelation', 'environment_problem', 'bad_sentiment'],\n",
    "            y = [cancelation, environment_problem, bad_sentiment], \n",
    "            ax = axes[1])\n",
    "\n",
    "plt.suptitle('Hidden Topics Relevancy ', y=1.05, size=16)\n",
    "plt.tight_layout();"
   ]
  },
  {
   "cell_type": "markdown",
   "metadata": {},
   "source": [
    "### Example Analysis on a 76 point,  3 stars hosts \n",
    "---"
   ]
  },
  {
   "cell_type": "code",
   "execution_count": 44,
   "metadata": {
    "scrolled": true
   },
   "outputs": [
    {
     "data": {
      "text/plain": [
       "array([   12042,    21914,    43778,    59831,    71779,    81256,\n",
       "         351950,   366541,   741327,   781945,   830997,   872206,\n",
       "        1229005,  1247160,  2931587,  4015985,  4317520,  5286782,\n",
       "        5772013,  6338562,  6601749,  6898334,  6990507,  7323097,\n",
       "        7666482,  7985260,  8908249,  8925997, 10127523, 10765781,\n",
       "       11185685, 11242027, 11305302, 11439405, 11461771, 11886255,\n",
       "       12753708, 12866962, 13204198, 13530616, 14075653, 14076194,\n",
       "       14311906, 14373123, 14404663, 14468427, 15194258, 15321192,\n",
       "       15377479, 15662354, 15677325, 15732801, 15990429, 15999214,\n",
       "       16029428, 16071674, 16257289, 16394592, 16516970, 16632907,\n",
       "       17716381, 17764344, 17807479, 18492773, 18519411, 18705363,\n",
       "       18778187, 19038261, 19144925, 19211844, 19212255, 19586419,\n",
       "       19813532, 19829202, 19904931, 19909235, 20614522, 20675281,\n",
       "       20966756, 20967010, 20990167, 21115091, 21475672, 21488120,\n",
       "       21503286, 21623317, 21634930, 21731528, 21772378, 21773376,\n",
       "       21784407])"
      ]
     },
     "execution_count": 44,
     "metadata": {},
     "output_type": "execute_result"
    }
   ],
   "source": [
    "reviews[reviews['overall_rating'] < 80]['listing_id'].unique()"
   ]
  },
  {
   "cell_type": "code",
   "execution_count": 45,
   "metadata": {},
   "outputs": [],
   "source": [
    "bad_host_list = []\n",
    "for i in reviews[reviews['overall_rating'] < 80]['listing_id'].unique(): \n",
    "    if reviews[reviews['listing_id'] == i].shape[0] < 20:\n",
    "        pass\n",
    "    else:\n",
    "        bad_host_list.append(i)      "
   ]
  },
  {
   "cell_type": "code",
   "execution_count": 46,
   "metadata": {},
   "outputs": [
    {
     "data": {
      "text/plain": [
       "[15990429, 16029428, 16071674, 19211844, 19212255]"
      ]
     },
     "execution_count": 46,
     "metadata": {},
     "output_type": "execute_result"
    }
   ],
   "source": [
    "bad_host_list"
   ]
  },
  {
   "cell_type": "code",
   "execution_count": 48,
   "metadata": {},
   "outputs": [
    {
     "data": {
      "text/plain": [
       "['Checking in/out was quick. Overall, good experience!.']"
      ]
     },
     "execution_count": 48,
     "metadata": {},
     "output_type": "execute_result"
    }
   ],
   "source": [
    "list(reviews[reviews['listing_id'] == 16029428]['comments'])[:1]"
   ]
  },
  {
   "cell_type": "code",
   "execution_count": 49,
   "metadata": {},
   "outputs": [],
   "source": [
    "#Use countvectorizer to get all features names with n_gram = 1 and 2 \n",
    "cv = CountVectorizer(ngram_range= (1,2), \n",
    "                     stop_words= 'english', \n",
    "                     min_df = 2)\n",
    "\n",
    "cv_transform = cv.fit_transform(list(reviews[reviews['listing_id'] == 16029428]['comments']))"
   ]
  },
  {
   "cell_type": "code",
   "execution_count": 50,
   "metadata": {},
   "outputs": [],
   "source": [
    "feature_list = cv.get_feature_names()"
   ]
  },
  {
   "cell_type": "code",
   "execution_count": 52,
   "metadata": {},
   "outputs": [],
   "source": [
    "good_sentiment = 0\n",
    "convenience = 0 \n",
    "host_attitude = 0 \n",
    "amenities = 0 \n",
    "cleaniness = 0\n",
    "cancelation = 0\n",
    "environment_problem = 0 \n",
    "bad_sentiment = 0 \n",
    "\n",
    "for word in feature_list: \n",
    "    if word in Positive_sentiment_topic: \n",
    "        good_sentiment += 1 \n",
    "    if word in Convinence_topic: \n",
    "        convenience += 1 \n",
    "    if word in Host_attitude_topic: \n",
    "        host_attitude += 1 \n",
    "    if word in Amenities_compliments: \n",
    "        amenities += 1 \n",
    "    if word in Cleaniness: \n",
    "        cleaniness += 1 \n",
    "    if word in Host_calcelation: \n",
    "        cancelation += 1 \n",
    "    if word in Environment_complains: \n",
    "        environment_problem += 1 \n",
    "    if word in Negative_sentiments_topic: \n",
    "        bad_sentiment += 1 "
   ]
  },
  {
   "cell_type": "code",
   "execution_count": 53,
   "metadata": {},
   "outputs": [],
   "source": [
    "hidden_topic_df = pd.DataFrame(['good_sentiment', 'convenience', 'host_attitude', 'amenities' , 'cleaniness', \n",
    "              'cancelation', 'environment_problem', 'bad_sentiment'], columns = ['hidden_topic'])\n",
    "hidden_topic_df['values'] = [good_sentiment, convenience, host_attitude, amenities ,cleaniness,  cancelation, environment_problem, bad_sentiment]"
   ]
  },
  {
   "cell_type": "code",
   "execution_count": 54,
   "metadata": {},
   "outputs": [
    {
     "data": {
      "text/html": [
       "<div>\n",
       "<style scoped>\n",
       "    .dataframe tbody tr th:only-of-type {\n",
       "        vertical-align: middle;\n",
       "    }\n",
       "\n",
       "    .dataframe tbody tr th {\n",
       "        vertical-align: top;\n",
       "    }\n",
       "\n",
       "    .dataframe thead th {\n",
       "        text-align: right;\n",
       "    }\n",
       "</style>\n",
       "<table border=\"1\" class=\"dataframe\">\n",
       "  <thead>\n",
       "    <tr style=\"text-align: right;\">\n",
       "      <th></th>\n",
       "      <th>hidden_topic</th>\n",
       "      <th>values</th>\n",
       "    </tr>\n",
       "  </thead>\n",
       "  <tbody>\n",
       "    <tr>\n",
       "      <th>0</th>\n",
       "      <td>good_sentiment</td>\n",
       "      <td>7</td>\n",
       "    </tr>\n",
       "    <tr>\n",
       "      <th>1</th>\n",
       "      <td>convenience</td>\n",
       "      <td>5</td>\n",
       "    </tr>\n",
       "    <tr>\n",
       "      <th>2</th>\n",
       "      <td>host_attitude</td>\n",
       "      <td>2</td>\n",
       "    </tr>\n",
       "    <tr>\n",
       "      <th>3</th>\n",
       "      <td>amenities</td>\n",
       "      <td>11</td>\n",
       "    </tr>\n",
       "    <tr>\n",
       "      <th>4</th>\n",
       "      <td>cleaniness</td>\n",
       "      <td>2</td>\n",
       "    </tr>\n",
       "    <tr>\n",
       "      <th>5</th>\n",
       "      <td>cancelation</td>\n",
       "      <td>0</td>\n",
       "    </tr>\n",
       "    <tr>\n",
       "      <th>6</th>\n",
       "      <td>environment_problem</td>\n",
       "      <td>5</td>\n",
       "    </tr>\n",
       "    <tr>\n",
       "      <th>7</th>\n",
       "      <td>bad_sentiment</td>\n",
       "      <td>5</td>\n",
       "    </tr>\n",
       "  </tbody>\n",
       "</table>\n",
       "</div>"
      ],
      "text/plain": [
       "          hidden_topic  values\n",
       "0       good_sentiment       7\n",
       "1          convenience       5\n",
       "2        host_attitude       2\n",
       "3            amenities      11\n",
       "4           cleaniness       2\n",
       "5          cancelation       0\n",
       "6  environment_problem       5\n",
       "7        bad_sentiment       5"
      ]
     },
     "execution_count": 54,
     "metadata": {},
     "output_type": "execute_result"
    }
   ],
   "source": [
    "hidden_topic_df"
   ]
  },
  {
   "cell_type": "code",
   "execution_count": 55,
   "metadata": {
    "scrolled": false
   },
   "outputs": [
    {
     "data": {
      "image/png": "[encoded data removed]",
      "text/plain": [
       "<Figure size 1200x600 with 2 Axes>"
      ]
     },
     "metadata": {
      "needs_background": "light"
     },
     "output_type": "display_data"
    }
   ],
   "source": [
    "fig, axes = plt.subplots(1, 2, figsize=(12,6), dpi=100, sharex= False, sharey=True)\n",
    "colors = sns.color_palette(\"viridis\", 2)\n",
    "\n",
    "sns.barplot(x = ['good_sentiment', 'convenience', 'host_attitude', 'amenities', 'cleaniness'],\n",
    "            y = [good_sentiment, convenience, host_attitude, amenities, cleaniness], \n",
    "            ax = axes[0])\n",
    "\n",
    "sns.barplot(x = ['cancelation', 'environment_problem', 'bad_sentiment'],\n",
    "            y = [cancelation, environment_problem, bad_sentiment], \n",
    "            ax = axes[1])\n",
    "\n",
    "plt.suptitle('Hidden Topics Relevancy ', y=1.05, size=16)\n",
    "plt.tight_layout();"
   ]
  },
  {
   "cell_type": "markdown",
   "metadata": {},
   "source": [
    "## Build A Function for Conetent Based Hidden Topic Analysis\n",
    "\n",
    "---"
   ]
  },
  {
   "cell_type": "code",
   "execution_count": 96,
   "metadata": {},
   "outputs": [],
   "source": [
    "def hidden_topic_analysis(listing_id): \n",
    "    '''\n",
    "    This function will take a listing id as an input, and then output the result of the result of hidden topic analysis\n",
    "    based on the comments the host has. \n",
    "    output includes two parts: \n",
    "    1. number of comments \n",
    "    2. graph representing the relevancy of each hidden topcis\n",
    "    '''\n",
    "    #import reviews dataframe \n",
    "    reviews = pd.read_csv('../data/reviews_sentiment_score.csv', index_col = 0)\n",
    "    \n",
    "    #countvectorize the comments given listing id\n",
    "    cv = CountVectorizer(ngram_range= (1,2), \n",
    "                     stop_words= 'english', \n",
    "                     min_df = 2)\n",
    "\n",
    "    cv_transform = cv.fit_transform(list(reviews[reviews['listing_id'] == listing_id]['comments']))\n",
    "\n",
    "    feature_list = cv.get_feature_names()\n",
    "    \n",
    "    #gather number of comments \n",
    "    n_comments = len(list(reviews[reviews['listing_id'] == listing_id]['comments']))\n",
    "    \n",
    "    #finding relevancy of the hidden topics \n",
    "    good_sentiment = 0\n",
    "    convenience = 0 \n",
    "    host_attitude = 0 \n",
    "    amenities = 0 \n",
    "    cleaniness = 0\n",
    "    cancelation = 0\n",
    "    environment_problem = 0 \n",
    "    bad_sentiment = 0 \n",
    "\n",
    "    for word in feature_list: \n",
    "        if word in Positive_sentiment_topic: \n",
    "            good_sentiment += 1 \n",
    "        if word in Convinence_topic: \n",
    "            convenience += 1 \n",
    "        if word in Host_attitude_topic: \n",
    "            host_attitude += 1 \n",
    "        if word in Amenities_compliments: \n",
    "            amenities += 1 \n",
    "        if word in Cleaniness: \n",
    "            cleaniness += 1 \n",
    "        if word in Host_calcelation: \n",
    "            cancelation += 1 \n",
    "        if word in Environment_complains: \n",
    "            environment_problem += 1 \n",
    "        if word in Negative_sentiments_topic: \n",
    "            bad_sentiment += 1 \n",
    "\n",
    "    #building hidden topic dataframe \n",
    "    hidden_topic_df = pd.DataFrame(['positive_sentiment', 'convenience', 'host_attitude', 'amenities_compliments' , 'cleaniness', \n",
    "                  'Host_cancelation', 'environmental_complains', 'Negative_sentiment'], columns = ['hidden_topic'])\n",
    "    hidden_topic_df['values'] = [good_sentiment, convenience, host_attitude, amenities ,cleaniness,  cancelation, environment_problem, bad_sentiment]\n",
    "\n",
    "    #building hidden topic histogram\n",
    "    fig, axes = plt.subplots(1, 2, figsize=(12,6), dpi=100, sharex= False, sharey=True)\n",
    "    colors = sns.color_palette(\"viridis\", 2)\n",
    "    \n",
    "    sns.barplot(x = ['positive_sentiment', 'convenience', 'host_attitude', 'amenities_compliments', 'cleaniness'],\n",
    "                y = [good_sentiment, convenience, host_attitude, amenities, cleaniness], \n",
    "                ax = axes[0])\n",
    "    \n",
    "    \n",
    "\n",
    "    sns.barplot(x = ['Host_cancelation', 'environmental_complains', 'Negative_sentiment'],\n",
    "                y = [cancelation, environment_problem, bad_sentiment], \n",
    "                ax = axes[1])\n",
    "\n",
    "    axes[0].tick_params(axis='x', labelrotation=30)\n",
    "    axes[1].tick_params(axis='x', labelrotation=30)\n",
    "    plt.suptitle('Hidden Topics Relevancy ', y=1.05, size=16)\n",
    "    plt.tight_layout();\n",
    "    \n",
    "    print(f'Host with Listing ID : {listing_id} has {n_comments} comments')\n",
    "    \n",
    "    return hidden_topic_df, fig "
   ]
  },
  {
   "cell_type": "code",
   "execution_count": 97,
   "metadata": {
    "scrolled": true
   },
   "outputs": [
    {
     "data": {
      "text/plain": [
       "[15990429, 16029428, 16071674, 19211844, 19212255]"
      ]
     },
     "execution_count": 97,
     "metadata": {},
     "output_type": "execute_result"
    }
   ],
   "source": [
    "bad_host_list"
   ]
  },
  {
   "cell_type": "markdown",
   "metadata": {},
   "source": [
    "## 3 star host \n",
    "---"
   ]
  },
  {
   "cell_type": "code",
   "execution_count": 98,
   "metadata": {},
   "outputs": [
    {
     "name": "stdout",
     "output_type": "stream",
     "text": [
      "Host with Listing ID : 19212255 has 30 comments\n"
     ]
    },
    {
     "data": {
      "image/png": "[encoded data removed]",
      "text/plain": [
       "<Figure size 1200x600 with 2 Axes>"
      ]
     },
     "metadata": {
      "needs_background": "light"
     },
     "output_type": "display_data"
    }
   ],
   "source": [
    "hidden_topic_df, fig = hidden_topic_analysis(19212255)"
   ]
  },
  {
   "cell_type": "markdown",
   "metadata": {},
   "source": [
    "## 5 Stars Host\n",
    "---"
   ]
  },
  {
   "cell_type": "code",
   "execution_count": 99,
   "metadata": {},
   "outputs": [
    {
     "name": "stdout",
     "output_type": "stream",
     "text": [
      "Host with Listing ID : 5068486 has 147 comments\n"
     ]
    },
    {
     "data": {
      "text/plain": [
       "(              hidden_topic  values\n",
       " 0       positive_sentiment      26\n",
       " 1              convenience      14\n",
       " 2            host_attitude       6\n",
       " 3    amenities_compliments      21\n",
       " 4               cleaniness       4\n",
       " 5         Host_cancelation       0\n",
       " 6  environmental_complains       0\n",
       " 7       Negative_sentiment       0, <Figure size 1200x600 with 2 Axes>)"
      ]
     },
     "execution_count": 99,
     "metadata": {},
     "output_type": "execute_result"
    },
    {
     "data": {
      "image/png": "[encoded data removed]",
      "text/plain": [
       "<Figure size 1200x600 with 2 Axes>"
      ]
     },
     "metadata": {
      "needs_background": "light"
     },
     "output_type": "display_data"
    }
   ],
   "source": [
    "hidden_topic_analysis(5068486)"
   ]
  },
  {
   "cell_type": "code",
   "execution_count": null,
   "metadata": {},
   "outputs": [],
   "source": []
  }
 ],
 "metadata": {
  "hide_input": false,
  "kernelspec": {
   "display_name": "Python 3",
   "language": "python",
   "name": "python3"
  },
  "language_info": {
   "codemirror_mode": {
    "name": "ipython",
    "version": 3
   },
   "file_extension": ".py",
   "mimetype": "text/x-python",
   "name": "python",
   "nbconvert_exporter": "python",
   "pygments_lexer": "ipython3",
   "version": "3.7.1"
  },
  "toc": {
   "base_numbering": 1,
   "nav_menu": {},
   "number_sections": true,
   "sideBar": true,
   "skip_h1_title": false,
   "title_cell": "Table of Contents",
   "title_sidebar": "Contents",
   "toc_cell": true,
   "toc_position": {},
   "toc_section_display": true,
   "toc_window_display": false
  },
  "varInspector": {
   "cols": {
    "lenName": 16,
    "lenType": 16,
    "lenVar": 40
   },
   "kernels_config": {
    "python": {
     "delete_cmd_postfix": "",
     "delete_cmd_prefix": "del ",
     "library": "var_list.py",
     "varRefreshCmd": "print(var_dic_list())"
    },
    "r": {
     "delete_cmd_postfix": ") ",
     "delete_cmd_prefix": "rm(",
     "library": "var_list.r",
     "varRefreshCmd": "cat(var_dic_list()) "
    }
   },
   "types_to_exclude": [
    "module",
    "function",
    "builtin_function_or_method",
    "instance",
    "_Feature"
   ],
   "window_display": false
  }
 },
 "nbformat": 4,
 "nbformat_minor": 2
}
