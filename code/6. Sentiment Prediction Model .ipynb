{
 "cells": [
  {
   "cell_type": "markdown",
   "metadata": {},
   "source": [
    "# Capstone Project: Comment Subtopics Analysis for Airbnb Hosts\n",
    "---"
   ]
  },
  {
   "cell_type": "markdown",
   "metadata": {},
   "source": [
    "How can a host on Airbnb understand that are their strengths and weaknesses? How can hosts point out the demand trend of their customers from a large scale of comments? This project focuses on using machine learning tools to help hosts understand the underlying trends of the comments on their property.  \n",
    "\n",
    "---"
   ]
  },
  {
   "cell_type": "markdown",
   "metadata": {
    "toc": true
   },
   "source": [
    "<h1>Table of Contents<span class=\"tocSkip\"></span></h1>\n",
    "<div class=\"toc\"><ul class=\"toc-item\"><li><span><a href=\"#Capstone-Project:-Comment-Subtopics-Analysis-for-Airbnb-Hosts\" data-toc-modified-id=\"Capstone-Project:-Comment-Subtopics-Analysis-for-Airbnb-Hosts-1\"><span class=\"toc-item-num\">1&nbsp;&nbsp;</span>Capstone Project: Comment Subtopics Analysis for Airbnb Hosts</a></span></li><li><span><a href=\"#Part-6:-Alternative-Model:-Sentiment-Analysis\" data-toc-modified-id=\"Part-6:-Alternative-Model:-Sentiment-Analysis-2\"><span class=\"toc-item-num\">2&nbsp;&nbsp;</span>Part 6: Alternative Model: Sentiment Analysis</a></span><ul class=\"toc-item\"><li><ul class=\"toc-item\"><li><span><a href=\"#Steps\" data-toc-modified-id=\"Steps-2.0.1\"><span class=\"toc-item-num\">2.0.1&nbsp;&nbsp;</span>Steps</a></span></li></ul></li><li><span><a href=\"#Sentiment\" data-toc-modified-id=\"Sentiment-2.1\"><span class=\"toc-item-num\">2.1&nbsp;&nbsp;</span>Sentiment</a></span><ul class=\"toc-item\"><li><span><a href=\"#Visualizing-Average-Sentiment-Score-and-Reviews-Score\" data-toc-modified-id=\"Visualizing-Average-Sentiment-Score-and-Reviews-Score-2.1.1\"><span class=\"toc-item-num\">2.1.1&nbsp;&nbsp;</span>Visualizing Average Sentiment Score and Reviews Score</a></span></li></ul></li><li><span><a href=\"#Model-Preprocessing-With-Comments-And-Sentiment-Intensity\" data-toc-modified-id=\"Model-Preprocessing-With-Comments-And-Sentiment-Intensity-2.2\"><span class=\"toc-item-num\">2.2&nbsp;&nbsp;</span>Model Preprocessing With Comments And Sentiment Intensity</a></span></li><li><span><a href=\"#Neural-Network-For-Review-Sentiment-Intensity-Prediction\" data-toc-modified-id=\"Neural-Network-For-Review-Sentiment-Intensity-Prediction-2.3\"><span class=\"toc-item-num\">2.3&nbsp;&nbsp;</span>Neural Network For Review Sentiment Intensity Prediction</a></span></li></ul></li></ul></div>"
   ]
  },
  {
   "cell_type": "markdown",
   "metadata": {},
   "source": [
    "\n",
    "# Part 6: Alternative Model: Sentiment Analysis\n",
    "\n",
    "- Regression model for predicting score didn't give us much luck. In this notebook, we focus on changing the model to a classification model.\n",
    "---\n",
    "\n",
    "### Steps \n",
    "1. Find average sentiment for each listing \n",
    "2. X: comment, y: average sentiment \n",
    "3. Build model "
   ]
  },
  {
   "cell_type": "code",
   "execution_count": 237,
   "metadata": {},
   "outputs": [],
   "source": [
    "import numpy as np\n",
    "import pandas as pd\n",
    "import matplotlib.pyplot as plt\n",
    "import seaborn as sns\n",
    "import regex as re\n",
    "\n",
    "from sklearn.model_selection import train_test_split\n",
    "from sklearn.preprocessing import StandardScaler, PowerTransformer\n",
    "\n",
    "from keras.models import Sequential\n",
    "from keras.preprocessing.text import Tokenizer\n",
    "from keras.preprocessing.sequence import pad_sequences\n",
    "from keras.layers import Dense, Flatten, LSTM, Conv1D, MaxPooling1D, Dropout, Activation, SpatialDropout1D\n",
    "from keras.layers.embeddings import Embedding\n",
    "from keras.optimizers import Adam\n",
    "from keras import optimizers\n",
    "from keras.callbacks import EarlyStopping\n",
    "from nltk.corpus import stopwords\n",
    "\n",
    "import warnings\n",
    "warnings.filterwarnings(\"ignore\", category=DeprecationWarning)"
   ]
  },
  {
   "cell_type": "code",
   "execution_count": 130,
   "metadata": {},
   "outputs": [],
   "source": [
    "review_prediction_df = pd.read_csv('../data/clean_comments.csv', index_col = 0)"
   ]
  },
  {
   "cell_type": "code",
   "execution_count": 131,
   "metadata": {},
   "outputs": [
    {
     "data": {
      "text/html": [
       "<div>\n",
       "<style scoped>\n",
       "    .dataframe tbody tr th:only-of-type {\n",
       "        vertical-align: middle;\n",
       "    }\n",
       "\n",
       "    .dataframe tbody tr th {\n",
       "        vertical-align: top;\n",
       "    }\n",
       "\n",
       "    .dataframe thead th {\n",
       "        text-align: right;\n",
       "    }\n",
       "</style>\n",
       "<table border=\"1\" class=\"dataframe\">\n",
       "  <thead>\n",
       "    <tr style=\"text-align: right;\">\n",
       "      <th></th>\n",
       "      <th>listing_id</th>\n",
       "      <th>comment</th>\n",
       "      <th>overall_score</th>\n",
       "    </tr>\n",
       "  </thead>\n",
       "  <tbody>\n",
       "    <tr>\n",
       "      <th>0</th>\n",
       "      <td>958</td>\n",
       "      <td>our experience was  without a doubt  a five st...</td>\n",
       "      <td>97.0</td>\n",
       "    </tr>\n",
       "    <tr>\n",
       "      <th>1</th>\n",
       "      <td>5858</td>\n",
       "      <td>we had a fabulous time staying with philip and...</td>\n",
       "      <td>98.0</td>\n",
       "    </tr>\n",
       "    <tr>\n",
       "      <th>2</th>\n",
       "      <td>7918</td>\n",
       "      <td>my stay was fantastic   the neighborhood is gr...</td>\n",
       "      <td>85.0</td>\n",
       "    </tr>\n",
       "    <tr>\n",
       "      <th>3</th>\n",
       "      <td>8142</td>\n",
       "      <td>excellent  the space is clean and quiet  and t...</td>\n",
       "      <td>93.0</td>\n",
       "    </tr>\n",
       "    <tr>\n",
       "      <th>4</th>\n",
       "      <td>8339</td>\n",
       "      <td>my stay was wonderful in many ways; the apartm...</td>\n",
       "      <td>97.0</td>\n",
       "    </tr>\n",
       "  </tbody>\n",
       "</table>\n",
       "</div>"
      ],
      "text/plain": [
       "   listing_id                                            comment  \\\n",
       "0         958  our experience was  without a doubt  a five st...   \n",
       "1        5858  we had a fabulous time staying with philip and...   \n",
       "2        7918  my stay was fantastic   the neighborhood is gr...   \n",
       "3        8142  excellent  the space is clean and quiet  and t...   \n",
       "4        8339  my stay was wonderful in many ways; the apartm...   \n",
       "\n",
       "   overall_score  \n",
       "0           97.0  \n",
       "1           98.0  \n",
       "2           85.0  \n",
       "3           93.0  \n",
       "4           97.0  "
      ]
     },
     "execution_count": 131,
     "metadata": {},
     "output_type": "execute_result"
    }
   ],
   "source": [
    "review_prediction_df.head()"
   ]
  },
  {
   "cell_type": "code",
   "execution_count": 132,
   "metadata": {
    "scrolled": true
   },
   "outputs": [
    {
     "data": {
      "text/html": [
       "<div>\n",
       "<style scoped>\n",
       "    .dataframe tbody tr th:only-of-type {\n",
       "        vertical-align: middle;\n",
       "    }\n",
       "\n",
       "    .dataframe tbody tr th {\n",
       "        vertical-align: top;\n",
       "    }\n",
       "\n",
       "    .dataframe thead th {\n",
       "        text-align: right;\n",
       "    }\n",
       "</style>\n",
       "<table border=\"1\" class=\"dataframe\">\n",
       "  <thead>\n",
       "    <tr style=\"text-align: right;\">\n",
       "      <th></th>\n",
       "      <th>listing_id</th>\n",
       "      <th>overall_score</th>\n",
       "    </tr>\n",
       "  </thead>\n",
       "  <tbody>\n",
       "    <tr>\n",
       "      <th>count</th>\n",
       "      <td>4.008000e+03</td>\n",
       "      <td>4008.000000</td>\n",
       "    </tr>\n",
       "    <tr>\n",
       "      <th>mean</th>\n",
       "      <td>9.513213e+06</td>\n",
       "      <td>95.506487</td>\n",
       "    </tr>\n",
       "    <tr>\n",
       "      <th>std</th>\n",
       "      <td>7.096811e+06</td>\n",
       "      <td>6.109349</td>\n",
       "    </tr>\n",
       "    <tr>\n",
       "      <th>min</th>\n",
       "      <td>9.580000e+02</td>\n",
       "      <td>20.000000</td>\n",
       "    </tr>\n",
       "    <tr>\n",
       "      <th>25%</th>\n",
       "      <td>2.539666e+06</td>\n",
       "      <td>94.000000</td>\n",
       "    </tr>\n",
       "    <tr>\n",
       "      <th>50%</th>\n",
       "      <td>8.487845e+06</td>\n",
       "      <td>97.000000</td>\n",
       "    </tr>\n",
       "    <tr>\n",
       "      <th>75%</th>\n",
       "      <td>1.594411e+07</td>\n",
       "      <td>99.000000</td>\n",
       "    </tr>\n",
       "    <tr>\n",
       "      <th>max</th>\n",
       "      <td>2.181282e+07</td>\n",
       "      <td>100.000000</td>\n",
       "    </tr>\n",
       "  </tbody>\n",
       "</table>\n",
       "</div>"
      ],
      "text/plain": [
       "         listing_id  overall_score\n",
       "count  4.008000e+03    4008.000000\n",
       "mean   9.513213e+06      95.506487\n",
       "std    7.096811e+06       6.109349\n",
       "min    9.580000e+02      20.000000\n",
       "25%    2.539666e+06      94.000000\n",
       "50%    8.487845e+06      97.000000\n",
       "75%    1.594411e+07      99.000000\n",
       "max    2.181282e+07     100.000000"
      ]
     },
     "execution_count": 132,
     "metadata": {},
     "output_type": "execute_result"
    }
   ],
   "source": [
    "review_prediction_df.describe()"
   ]
  },
  {
   "cell_type": "markdown",
   "metadata": {},
   "source": [
    "## Sentiment"
   ]
  },
  {
   "cell_type": "code",
   "execution_count": 133,
   "metadata": {},
   "outputs": [],
   "source": [
    "review_sentiment_df = pd.read_csv('../data/reviews_sentiment_score.csv')"
   ]
  },
  {
   "cell_type": "code",
   "execution_count": 134,
   "metadata": {
    "scrolled": false
   },
   "outputs": [
    {
     "data": {
      "text/html": [
       "<div>\n",
       "<style scoped>\n",
       "    .dataframe tbody tr th:only-of-type {\n",
       "        vertical-align: middle;\n",
       "    }\n",
       "\n",
       "    .dataframe tbody tr th {\n",
       "        vertical-align: top;\n",
       "    }\n",
       "\n",
       "    .dataframe thead th {\n",
       "        text-align: right;\n",
       "    }\n",
       "</style>\n",
       "<table border=\"1\" class=\"dataframe\">\n",
       "  <thead>\n",
       "    <tr style=\"text-align: right;\">\n",
       "      <th></th>\n",
       "      <th>Unnamed: 0</th>\n",
       "      <th>key_0</th>\n",
       "      <th>listing_id</th>\n",
       "      <th>id</th>\n",
       "      <th>date</th>\n",
       "      <th>reviewer_id</th>\n",
       "      <th>reviewer_name</th>\n",
       "      <th>comments</th>\n",
       "      <th>language</th>\n",
       "      <th>overall_rating</th>\n",
       "      <th>compound</th>\n",
       "      <th>neg</th>\n",
       "      <th>neu</th>\n",
       "      <th>pos</th>\n",
       "    </tr>\n",
       "  </thead>\n",
       "  <tbody>\n",
       "    <tr>\n",
       "      <th>0</th>\n",
       "      <td>0</td>\n",
       "      <td>0</td>\n",
       "      <td>958</td>\n",
       "      <td>5977</td>\n",
       "      <td>2009-07-23</td>\n",
       "      <td>15695</td>\n",
       "      <td>Edmund C</td>\n",
       "      <td>Our experience was, without a doubt, a five st...</td>\n",
       "      <td>en</td>\n",
       "      <td>97.0</td>\n",
       "      <td>0.9590</td>\n",
       "      <td>0.000</td>\n",
       "      <td>0.788</td>\n",
       "      <td>0.212</td>\n",
       "    </tr>\n",
       "    <tr>\n",
       "      <th>1</th>\n",
       "      <td>1</td>\n",
       "      <td>1</td>\n",
       "      <td>958</td>\n",
       "      <td>6660</td>\n",
       "      <td>2009-08-03</td>\n",
       "      <td>26145</td>\n",
       "      <td>Simon</td>\n",
       "      <td>Returning to San Francisco is a rejuvenating t...</td>\n",
       "      <td>en</td>\n",
       "      <td>97.0</td>\n",
       "      <td>0.9819</td>\n",
       "      <td>0.000</td>\n",
       "      <td>0.697</td>\n",
       "      <td>0.303</td>\n",
       "    </tr>\n",
       "    <tr>\n",
       "      <th>2</th>\n",
       "      <td>2</td>\n",
       "      <td>2</td>\n",
       "      <td>958</td>\n",
       "      <td>11519</td>\n",
       "      <td>2009-09-27</td>\n",
       "      <td>25839</td>\n",
       "      <td>Denis</td>\n",
       "      <td>We were very pleased with the accommodations a...</td>\n",
       "      <td>en</td>\n",
       "      <td>97.0</td>\n",
       "      <td>0.7600</td>\n",
       "      <td>0.134</td>\n",
       "      <td>0.710</td>\n",
       "      <td>0.156</td>\n",
       "    </tr>\n",
       "    <tr>\n",
       "      <th>3</th>\n",
       "      <td>3</td>\n",
       "      <td>3</td>\n",
       "      <td>958</td>\n",
       "      <td>16282</td>\n",
       "      <td>2009-11-05</td>\n",
       "      <td>33750</td>\n",
       "      <td>Anna</td>\n",
       "      <td>We highly recommend this accomodation and agre...</td>\n",
       "      <td>en</td>\n",
       "      <td>97.0</td>\n",
       "      <td>0.9840</td>\n",
       "      <td>0.035</td>\n",
       "      <td>0.646</td>\n",
       "      <td>0.319</td>\n",
       "    </tr>\n",
       "    <tr>\n",
       "      <th>4</th>\n",
       "      <td>4</td>\n",
       "      <td>4</td>\n",
       "      <td>958</td>\n",
       "      <td>26008</td>\n",
       "      <td>2010-02-13</td>\n",
       "      <td>15416</td>\n",
       "      <td>Venetia</td>\n",
       "      <td>Holly's place was great. It was exactly what I...</td>\n",
       "      <td>en</td>\n",
       "      <td>97.0</td>\n",
       "      <td>0.9617</td>\n",
       "      <td>0.000</td>\n",
       "      <td>0.613</td>\n",
       "      <td>0.387</td>\n",
       "    </tr>\n",
       "  </tbody>\n",
       "</table>\n",
       "</div>"
      ],
      "text/plain": [
       "   Unnamed: 0  key_0  listing_id     id        date  reviewer_id  \\\n",
       "0           0      0         958   5977  2009-07-23        15695   \n",
       "1           1      1         958   6660  2009-08-03        26145   \n",
       "2           2      2         958  11519  2009-09-27        25839   \n",
       "3           3      3         958  16282  2009-11-05        33750   \n",
       "4           4      4         958  26008  2010-02-13        15416   \n",
       "\n",
       "  reviewer_name                                           comments language  \\\n",
       "0      Edmund C  Our experience was, without a doubt, a five st...       en   \n",
       "1         Simon  Returning to San Francisco is a rejuvenating t...       en   \n",
       "2         Denis  We were very pleased with the accommodations a...       en   \n",
       "3          Anna  We highly recommend this accomodation and agre...       en   \n",
       "4       Venetia  Holly's place was great. It was exactly what I...       en   \n",
       "\n",
       "   overall_rating  compound    neg    neu    pos  \n",
       "0            97.0    0.9590  0.000  0.788  0.212  \n",
       "1            97.0    0.9819  0.000  0.697  0.303  \n",
       "2            97.0    0.7600  0.134  0.710  0.156  \n",
       "3            97.0    0.9840  0.035  0.646  0.319  \n",
       "4            97.0    0.9617  0.000  0.613  0.387  "
      ]
     },
     "execution_count": 134,
     "metadata": {},
     "output_type": "execute_result"
    }
   ],
   "source": [
    "review_sentiment_df.head()"
   ]
  },
  {
   "cell_type": "code",
   "execution_count": 274,
   "metadata": {},
   "outputs": [],
   "source": [
    "word_lengh = review_sentiment_df['comments'].map(lambda x: len(x))"
   ]
  },
  {
   "cell_type": "code",
   "execution_count": 309,
   "metadata": {},
   "outputs": [
    {
     "data": {
      "text/plain": [
       "269251"
      ]
     },
     "execution_count": 309,
     "metadata": {},
     "output_type": "execute_result"
    }
   ],
   "source": [
    "len(word_lengh)"
   ]
  },
  {
   "cell_type": "code",
   "execution_count": 308,
   "metadata": {
    "scrolled": false
   },
   "outputs": [
    {
     "data": {
      "image/png": "[encoded data removed]",
      "text/plain": [
       "<Figure size 864x432 with 1 Axes>"
      ]
     },
     "metadata": {
      "needs_background": "light"
     },
     "output_type": "display_data"
    }
   ],
   "source": [
    "plt.figure(figsize = (12,6))\n",
    "plt.hist(word_lengh, bins = 200, color = \"orange\")\n",
    "plt.xlim(0, 3000)\n",
    "plt.title('Review Length Distribution', fontsize = 18) ;"
   ]
  },
  {
   "cell_type": "markdown",
   "metadata": {},
   "source": [
    "### Visualizing Average Sentiment Score and Reviews Score \n",
    "---"
   ]
  },
  {
   "cell_type": "code",
   "execution_count": 135,
   "metadata": {},
   "outputs": [],
   "source": [
    "compound_df = review_sentiment_df[['listing_id', 'compound']].groupby(by = ['listing_id']).mean()"
   ]
  },
  {
   "cell_type": "code",
   "execution_count": 139,
   "metadata": {},
   "outputs": [],
   "source": [
    "review_prediction_df = review_prediction_df.merge(compound_df, left_on = \"listing_id\", right_on = 'listing_id')"
   ]
  },
  {
   "cell_type": "code",
   "execution_count": 143,
   "metadata": {},
   "outputs": [
    {
     "data": {
      "text/plain": [
       "(4008, 4)"
      ]
     },
     "execution_count": 143,
     "metadata": {},
     "output_type": "execute_result"
    }
   ],
   "source": [
    "review_prediction_df.shape"
   ]
  },
  {
   "cell_type": "code",
   "execution_count": 236,
   "metadata": {
    "scrolled": false
   },
   "outputs": [
    {
     "data": {
      "image/png": "[encoded data removed]",
      "text/plain": [
       "<Figure size 864x432 with 1 Axes>"
      ]
     },
     "metadata": {
      "needs_background": "light"
     },
     "output_type": "display_data"
    }
   ],
   "source": [
    "plt.figure(figsize = (12, 6))\n",
    "plt.plot(review_prediction_df['compound'], label = 'sentiment score')\n",
    "plt.plot(review_prediction_df['overall_score']/100, label = 'rating')\n",
    "plt.title(\"Sentiment Score vs Rating\", fontsize = 18)\n",
    "plt.legend(fontsize = 14);"
   ]
  },
  {
   "cell_type": "code",
   "execution_count": 313,
   "metadata": {},
   "outputs": [
    {
     "data": {
      "image/png": "[encoded data removed]",
      "text/plain": [
       "<Figure size 864x432 with 1 Axes>"
      ]
     },
     "metadata": {
      "needs_background": "light"
     },
     "output_type": "display_data"
    }
   ],
   "source": [
    "plt.figure(figsize = (12, 6))\n",
    "plt.scatter(review_prediction_df['compound'],review_prediction_df['overall_score']/100, color = 'orange')\n",
    "plt.xlabel('Sentiment Score', fontsize = 16)\n",
    "plt.ylabel('Rating Score', fontsize = 16)\n",
    "plt.title(\"Sentiment Score vs Rating\", fontsize = 18);"
   ]
  },
  {
   "cell_type": "code",
   "execution_count": 235,
   "metadata": {
    "scrolled": false
   },
   "outputs": [
    {
     "data": {
      "image/png": "[encoded data removed]",
      "text/plain": [
       "<Figure size 864x432 with 1 Axes>"
      ]
     },
     "metadata": {
      "needs_background": "light"
     },
     "output_type": "display_data"
    }
   ],
   "source": [
    "plt.figure(figsize = (12, 6))\n",
    "plt.hist(review_prediction_df['compound'], bins = 50, label = 'sentiment score')\n",
    "plt.hist(review_prediction_df['overall_score']/100, bins = 50, label = 'rating')\n",
    "plt.title(\"Sentiment Score vs Rating Distribution\", fontsize = 18)\n",
    "plt.legend(fontsize = 14);"
   ]
  },
  {
   "cell_type": "markdown",
   "metadata": {},
   "source": [
    "## Model Preprocessing With Comments And Sentiment Intensity \n",
    "---"
   ]
  },
  {
   "cell_type": "code",
   "execution_count": 286,
   "metadata": {},
   "outputs": [],
   "source": [
    "#tokenizing the data \n",
    "vocabulary_size = 50000\n",
    "max_sequence = 500 \n",
    "\n",
    "tokenizer = Tokenizer(num_words= vocabulary_size)\n",
    "tokenizer.fit_on_texts(review_sentiment_df['comments'].values)"
   ]
  },
  {
   "cell_type": "code",
   "execution_count": 294,
   "metadata": {},
   "outputs": [
    {
     "name": "stdout",
     "output_type": "stream",
     "text": [
      "Found 60922 unique tokens.\n"
     ]
    }
   ],
   "source": [
    "word_index = tokenizer.word_index\n",
    "print('Found %s unique tokens.' % len(word_index))"
   ]
  },
  {
   "cell_type": "code",
   "execution_count": 296,
   "metadata": {},
   "outputs": [],
   "source": [
    "X = tokenizer.texts_to_sequences(review_sentiment_df['comments'].values)\n",
    "X = pad_sequences(X, maxlen= max_sequence)"
   ]
  },
  {
   "cell_type": "code",
   "execution_count": 297,
   "metadata": {
    "scrolled": true
   },
   "outputs": [
    {
     "name": "stdout",
     "output_type": "stream",
     "text": [
      "Shape of data tensor: (269251, 500)\n"
     ]
    }
   ],
   "source": [
    "print('Shape of data tensor:', X.shape)"
   ]
  },
  {
   "cell_type": "code",
   "execution_count": 298,
   "metadata": {},
   "outputs": [
    {
     "name": "stdout",
     "output_type": "stream",
     "text": [
      "Shape of target: (269251,)\n"
     ]
    }
   ],
   "source": [
    "y = review_sentiment_df['compound']\n",
    "print('Shape of target:', y.shape)"
   ]
  },
  {
   "cell_type": "code",
   "execution_count": 299,
   "metadata": {
    "scrolled": true
   },
   "outputs": [
    {
     "name": "stdout",
     "output_type": "stream",
     "text": [
      "(215400, 500) (215400,)\n",
      "(53851, 500) (53851,)\n"
     ]
    }
   ],
   "source": [
    "#Train_test Split \n",
    "X_train, X_test, y_train, y_test = train_test_split(X, y, test_size = 0.20, random_state = 42)\n",
    "print(X_train.shape, y_train.shape)\n",
    "print(X_test.shape, y_test.shape)"
   ]
  },
  {
   "cell_type": "code",
   "execution_count": 300,
   "metadata": {},
   "outputs": [],
   "source": [
    "pt = PowerTransformer()\n",
    "X_train_pt = pt.fit_transform(X_train)\n",
    "X_test_pt = pt.transform(X_test)"
   ]
  },
  {
   "cell_type": "markdown",
   "metadata": {},
   "source": [
    "## Neural Network For Review Sentiment Intensity Prediction"
   ]
  },
  {
   "cell_type": "code",
   "execution_count": 301,
   "metadata": {},
   "outputs": [
    {
     "name": "stdout",
     "output_type": "stream",
     "text": [
      "Train on 193860 samples, validate on 21540 samples\n",
      "Epoch 1/20\n",
      "193860/193860 [==============================] - 132s 682us/step - loss: 0.1140 - mean_absolute_error: 0.1140 - val_loss: 0.1179 - val_mean_absolute_error: 0.1179\n",
      "Epoch 2/20\n",
      "193860/193860 [==============================] - 142s 733us/step - loss: 0.1060 - mean_absolute_error: 0.1060 - val_loss: 0.1068 - val_mean_absolute_error: 0.1068\n",
      "Epoch 3/20\n",
      "193860/193860 [==============================] - 138s 711us/step - loss: 0.1053 - mean_absolute_error: 0.1053 - val_loss: 0.1066 - val_mean_absolute_error: 0.1066\n",
      "Epoch 4/20\n",
      "193860/193860 [==============================] - 121s 623us/step - loss: 0.1053 - mean_absolute_error: 0.1053 - val_loss: 0.1066 - val_mean_absolute_error: 0.1066\n",
      "Epoch 5/20\n",
      "193860/193860 [==============================] - 136s 701us/step - loss: 0.1052 - mean_absolute_error: 0.1052 - val_loss: 0.1065 - val_mean_absolute_error: 0.1065\n",
      "Epoch 6/20\n",
      "193860/193860 [==============================] - 127s 655us/step - loss: 0.1052 - mean_absolute_error: 0.1052 - val_loss: 0.1066 - val_mean_absolute_error: 0.1066\n"
     ]
    }
   ],
   "source": [
    "#building model \n",
    "model = Sequential()\n",
    "\n",
    "model.add(Dense(1200, activation = 'relu', input_shape = (500,)))\n",
    "\n",
    "model.add(Dense(600, activation = 'relu'))\n",
    "\n",
    "model.add(Dense(300, activation = 'relu'))\n",
    "\n",
    "model.add(Dense(120, activation = 'relu'))\n",
    "\n",
    "model.add(Dense(64, activation = 'relu'))\n",
    "\n",
    "model.add(Dense(32, activation = 'relu' ))\n",
    "\n",
    "model.add(Dense(12, activation = 'relu' ))\n",
    "\n",
    "#output layer \n",
    "model.add(Dense(1))\n",
    "\n",
    "#adjust learning rate\n",
    "# adadelta = optimizers.Adadelta(lr=1.0, rho=0.95, epsilon=None, decay=0.0)\n",
    "adam = optimizers.Adam(lr=0.002, beta_1=0.9, beta_2=0.999, epsilon=None, decay=0.0001, amsgrad=False)\n",
    "# RMSprop = optimizers.RMSprop(lr=0.001, rho=0.9, epsilon=None, decay=0.0)\n",
    "model.compile(optimizer= adam, loss='mean_absolute_error', metrics=['mean_absolute_error'])\n",
    "\n",
    "epochs = 20\n",
    "batch_size = 86\n",
    "\n",
    "history = model.fit(X_train_pt, y_train, epochs=epochs, batch_size=batch_size, validation_split=0.1,\n",
    "                    callbacks=[EarlyStopping(monitor='val_loss', patience=3, min_delta=0.0001)])"
   ]
  },
  {
   "cell_type": "code",
   "execution_count": 302,
   "metadata": {},
   "outputs": [
    {
     "data": {
      "image/png": "[encoded data removed]",
      "text/plain": [
       "<Figure size 432x288 with 1 Axes>"
      ]
     },
     "metadata": {
      "needs_background": "light"
     },
     "output_type": "display_data"
    }
   ],
   "source": [
    "plt.title('Loss')\n",
    "plt.plot(history.history['loss'], label='train')\n",
    "plt.plot(history.history['val_loss'], label='test')\n",
    "plt.legend()\n",
    "plt.show();"
   ]
  },
  {
   "cell_type": "code",
   "execution_count": 303,
   "metadata": {},
   "outputs": [
    {
     "data": {
      "image/png": "[encoded data removed]",
      "text/plain": [
       "<Figure size 432x288 with 1 Axes>"
      ]
     },
     "metadata": {
      "needs_background": "light"
     },
     "output_type": "display_data"
    }
   ],
   "source": [
    "plt.title('mean_absolute_error')\n",
    "plt.plot(history.history['mean_absolute_error'], label='train')\n",
    "plt.plot(history.history['val_mean_absolute_error'], label='test')\n",
    "plt.legend()\n",
    "plt.show();"
   ]
  },
  {
   "cell_type": "code",
   "execution_count": 304,
   "metadata": {},
   "outputs": [],
   "source": [
    "prediction = model.predict(X_test_pt)"
   ]
  },
  {
   "cell_type": "code",
   "execution_count": 305,
   "metadata": {},
   "outputs": [],
   "source": [
    "#building prediction DataFrame\n",
    "prediction_df = pd.DataFrame(data = prediction, columns= ['prediction'])\n",
    "\n",
    "prediction_df['y_test'] = y_test.values\n",
    "\n",
    "prediction_df['difference'] = prediction_df['prediction'] - prediction_df['y_test']"
   ]
  },
  {
   "cell_type": "code",
   "execution_count": 306,
   "metadata": {},
   "outputs": [
    {
     "data": {
      "text/html": [
       "<div>\n",
       "<style scoped>\n",
       "    .dataframe tbody tr th:only-of-type {\n",
       "        vertical-align: middle;\n",
       "    }\n",
       "\n",
       "    .dataframe tbody tr th {\n",
       "        vertical-align: top;\n",
       "    }\n",
       "\n",
       "    .dataframe thead th {\n",
       "        text-align: right;\n",
       "    }\n",
       "</style>\n",
       "<table border=\"1\" class=\"dataframe\">\n",
       "  <thead>\n",
       "    <tr style=\"text-align: right;\">\n",
       "      <th></th>\n",
       "      <th>prediction</th>\n",
       "      <th>y_test</th>\n",
       "      <th>difference</th>\n",
       "    </tr>\n",
       "  </thead>\n",
       "  <tbody>\n",
       "    <tr>\n",
       "      <th>0</th>\n",
       "      <td>0.942776</td>\n",
       "      <td>0.4574</td>\n",
       "      <td>0.485376</td>\n",
       "    </tr>\n",
       "    <tr>\n",
       "      <th>1</th>\n",
       "      <td>0.942776</td>\n",
       "      <td>0.8070</td>\n",
       "      <td>0.135776</td>\n",
       "    </tr>\n",
       "    <tr>\n",
       "      <th>2</th>\n",
       "      <td>0.946031</td>\n",
       "      <td>0.9390</td>\n",
       "      <td>0.007031</td>\n",
       "    </tr>\n",
       "    <tr>\n",
       "      <th>3</th>\n",
       "      <td>0.942776</td>\n",
       "      <td>0.2456</td>\n",
       "      <td>0.697176</td>\n",
       "    </tr>\n",
       "    <tr>\n",
       "      <th>4</th>\n",
       "      <td>0.942776</td>\n",
       "      <td>0.9632</td>\n",
       "      <td>-0.020424</td>\n",
       "    </tr>\n",
       "  </tbody>\n",
       "</table>\n",
       "</div>"
      ],
      "text/plain": [
       "   prediction  y_test  difference\n",
       "0    0.942776  0.4574    0.485376\n",
       "1    0.942776  0.8070    0.135776\n",
       "2    0.946031  0.9390    0.007031\n",
       "3    0.942776  0.2456    0.697176\n",
       "4    0.942776  0.9632   -0.020424"
      ]
     },
     "execution_count": 306,
     "metadata": {},
     "output_type": "execute_result"
    }
   ],
   "source": [
    "prediction_df.head()"
   ]
  },
  {
   "cell_type": "code",
   "execution_count": 307,
   "metadata": {},
   "outputs": [
    {
     "data": {
      "text/plain": [
       "-0.13566224466510324"
      ]
     },
     "execution_count": 307,
     "metadata": {},
     "output_type": "execute_result"
    }
   ],
   "source": [
    "from sklearn import metrics\n",
    "metrics.r2_score(prediction_df['y_test'], prediction_df['prediction'])"
   ]
  },
  {
   "cell_type": "code",
   "execution_count": 329,
   "metadata": {
    "scrolled": false
   },
   "outputs": [
    {
     "name": "stderr",
     "output_type": "stream",
     "text": [
      "/Users/evelyn/anaconda3/lib/python3.7/site-packages/ipykernel_launcher.py:1: UserWarning: Boolean Series key will be reindexed to match DataFrame index.\n",
      "  \"\"\"Entry point for launching an IPython kernel.\n"
     ]
    },
    {
     "data": {
      "text/plain": [
       "array([\"I am going to be as subjective as possible.\\n\\nThe good:\\n* Great location. The house is in the center of the city. A few blocks away from Uber, (Hidden by Airbnb) HQ etc.\\n\\n* Great place to network and make friends. Most are working or studying in tech.\\n\\nThe bad:\\n* Filthy house: Mouses, dirty bathroom, dirty kitchen. House never got cleaned while I was there.\\n* Price is super high for what you're getting. Although SF is expensive to begin with, but you can find a  better place for cheaper.\",\n",
       "       \"This is not an apartment for a woman by herself. The club down below is very noisy and its patrons are drunk and disorderly. The stand alone apartment is secluded and is on three levels with the entrance being very dark and uninviting at night. \\n\\nIt does not feel at all safe and I had to throw away $3000 as I had to rent another apartment for my wife. She is currently Staying in a high end apartment in the Mission and whilst the area is rather gritty with a homeless shelter half a block away, she feels far safer there than in James' apartment.\",\n",
       "       'Since this is the first public review for the space, I am writing an \"asterix\" into the review because it is my understanding that the major issue is being addressed after my recent stay. So this review is based specifically what I experience not what will be resolved. And this should allow you to contact the host directly to find out the status of things before deciding.\\n\\nThe space is located in a great convenient neighborhood in San Francisco. The overall unit amenities are good and well provided. The host is nice and the service Voyajoy seems capable as does Isabelle.\\n\\nThe major issue for me was regarding noise transference between the above floors with an active family. I personally find it difficult to recommend the unit as a location to spend a minimum of 30 days based on this. Sounds of active living were clear and audible during my entire stay and I tended to stay out longer so that I would return to a more quiet time - but activity also started around 7:30 am and with a vocal pet it may be that this is still an issue. However, if you don\\'t have to much issue with this type of clear noise, running, hard footfalls, active family life and pet then that is the only major issue to consider. The minor issues: If you are concerned about easy access to the unit because of health or mobility concerns I would contact the host to see how that can be accommodated since it is accessed through a garage that when a vehicle is parked in-front of the door the area of access is very narrow. Also a few items I addressed in my feedback may or may not be provided by the time you consider your stay. But it would be good for you to know at the time of my stay there wasn\\'t a desk if that is a concern for you.\\n\\nAs a final thought. There were a lot of good decisions put into the unit and with host indicating their interest in making the space the best they can I would presume my issues might be resolved before you book your stay.'],\n",
       "      dtype=object)"
      ]
     },
     "execution_count": 329,
     "metadata": {},
     "output_type": "execute_result"
    }
   ],
   "source": [
    "review_sentiment_df.sort_values(by = ['overall_rating'])[review_sentiment_df['overall_rating'] == 40]['comments'].values"
   ]
  },
  {
   "cell_type": "code",
   "execution_count": null,
   "metadata": {},
   "outputs": [],
   "source": []
  }
 ],
 "metadata": {
  "hide_input": false,
  "kernelspec": {
   "display_name": "Python 3",
   "language": "python",
   "name": "python3"
  },
  "language_info": {
   "codemirror_mode": {
    "name": "ipython",
    "version": 3
   },
   "file_extension": ".py",
   "mimetype": "text/x-python",
   "name": "python",
   "nbconvert_exporter": "python",
   "pygments_lexer": "ipython3",
   "version": "3.7.1"
  },
  "toc": {
   "base_numbering": 1,
   "nav_menu": {},
   "number_sections": true,
   "sideBar": true,
   "skip_h1_title": false,
   "title_cell": "Table of Contents",
   "title_sidebar": "Contents",
   "toc_cell": true,
   "toc_position": {},
   "toc_section_display": true,
   "toc_window_display": false
  },
  "varInspector": {
   "cols": {
    "lenName": 16,
    "lenType": 16,
    "lenVar": 40
   },
   "kernels_config": {
    "python": {
     "delete_cmd_postfix": "",
     "delete_cmd_prefix": "del ",
     "library": "var_list.py",
     "varRefreshCmd": "print(var_dic_list())"
    },
    "r": {
     "delete_cmd_postfix": ") ",
     "delete_cmd_prefix": "rm(",
     "library": "var_list.r",
     "varRefreshCmd": "cat(var_dic_list()) "
    }
   },
   "types_to_exclude": [
    "module",
    "function",
    "builtin_function_or_method",
    "instance",
    "_Feature"
   ],
   "window_display": false
  }
 },
 "nbformat": 4,
 "nbformat_minor": 2
}
